{
  "nbformat": 4,
  "nbformat_minor": 0,
  "metadata": {
    "colab": {
      "name": "Part 2 NLP HP.ipynb",
      "provenance": []
    },
    "kernelspec": {
      "display_name": "Python 3",
      "language": "python",
      "name": "python3"
    },
    "language_info": {
      "codemirror_mode": {
        "name": "ipython",
        "version": 3
      },
      "file_extension": ".py",
      "mimetype": "text/x-python",
      "name": "python",
      "nbconvert_exporter": "python",
      "pygments_lexer": "ipython3",
      "version": "3.8.5"
    },
    "widgets": {
      "application/vnd.jupyter.widget-state+json": {
        "555670c97b204d91ae79ae8db611d77d": {
          "model_module": "@jupyter-widgets/controls",
          "model_name": "HBoxModel",
          "model_module_version": "1.5.0",
          "state": {
            "_view_name": "HBoxView",
            "_dom_classes": [],
            "_model_name": "HBoxModel",
            "_view_module": "@jupyter-widgets/controls",
            "_model_module_version": "1.5.0",
            "_view_count": null,
            "_view_module_version": "1.5.0",
            "box_style": "",
            "layout": "IPY_MODEL_2e941b2fd90540e4ae44c1f631ef6818",
            "_model_module": "@jupyter-widgets/controls",
            "children": [
              "IPY_MODEL_49fc8ba6db2c463a933f0e2c357b8783",
              "IPY_MODEL_add7c8530bd0449aa380f251c3d1472d",
              "IPY_MODEL_e2035831e4c24a1f99579728999e879c"
            ]
          }
        },
        "2e941b2fd90540e4ae44c1f631ef6818": {
          "model_module": "@jupyter-widgets/base",
          "model_name": "LayoutModel",
          "model_module_version": "1.2.0",
          "state": {
            "_view_name": "LayoutView",
            "grid_template_rows": null,
            "right": null,
            "justify_content": null,
            "_view_module": "@jupyter-widgets/base",
            "overflow": null,
            "_model_module_version": "1.2.0",
            "_view_count": null,
            "flex_flow": null,
            "width": null,
            "min_width": null,
            "border": null,
            "align_items": null,
            "bottom": null,
            "_model_module": "@jupyter-widgets/base",
            "top": null,
            "grid_column": null,
            "overflow_y": null,
            "overflow_x": null,
            "grid_auto_flow": null,
            "grid_area": null,
            "grid_template_columns": null,
            "flex": null,
            "_model_name": "LayoutModel",
            "justify_items": null,
            "grid_row": null,
            "max_height": null,
            "align_content": null,
            "visibility": null,
            "align_self": null,
            "height": null,
            "min_height": null,
            "padding": null,
            "grid_auto_rows": null,
            "grid_gap": null,
            "max_width": null,
            "order": null,
            "_view_module_version": "1.2.0",
            "grid_template_areas": null,
            "object_position": null,
            "object_fit": null,
            "grid_auto_columns": null,
            "margin": null,
            "display": null,
            "left": null
          }
        },
        "49fc8ba6db2c463a933f0e2c357b8783": {
          "model_module": "@jupyter-widgets/controls",
          "model_name": "HTMLModel",
          "model_module_version": "1.5.0",
          "state": {
            "_view_name": "HTMLView",
            "style": "IPY_MODEL_22cace8d6bb9484f94f926936f11503a",
            "_dom_classes": [],
            "description": "",
            "_model_name": "HTMLModel",
            "placeholder": "​",
            "_view_module": "@jupyter-widgets/controls",
            "_model_module_version": "1.5.0",
            "value": "100%",
            "_view_count": null,
            "_view_module_version": "1.5.0",
            "description_tooltip": null,
            "_model_module": "@jupyter-widgets/controls",
            "layout": "IPY_MODEL_75805b44e2b944f2b5265123060fbfcd"
          }
        },
        "add7c8530bd0449aa380f251c3d1472d": {
          "model_module": "@jupyter-widgets/controls",
          "model_name": "FloatProgressModel",
          "model_module_version": "1.5.0",
          "state": {
            "_view_name": "ProgressView",
            "style": "IPY_MODEL_aeabfcbc3990423695188e08cd997306",
            "_dom_classes": [],
            "description": "",
            "_model_name": "FloatProgressModel",
            "bar_style": "success",
            "max": 591974,
            "_view_module": "@jupyter-widgets/controls",
            "_model_module_version": "1.5.0",
            "value": 591974,
            "_view_count": null,
            "_view_module_version": "1.5.0",
            "orientation": "horizontal",
            "min": 0,
            "description_tooltip": null,
            "_model_module": "@jupyter-widgets/controls",
            "layout": "IPY_MODEL_0cfdd2f8bf2f4d4a9b0df04416a034b1"
          }
        },
        "e2035831e4c24a1f99579728999e879c": {
          "model_module": "@jupyter-widgets/controls",
          "model_name": "HTMLModel",
          "model_module_version": "1.5.0",
          "state": {
            "_view_name": "HTMLView",
            "style": "IPY_MODEL_f5edf2246a824f85ba87f6e5e9f11409",
            "_dom_classes": [],
            "description": "",
            "_model_name": "HTMLModel",
            "placeholder": "​",
            "_view_module": "@jupyter-widgets/controls",
            "_model_module_version": "1.5.0",
            "value": " 591974/591974 [00:08&lt;00:00, 67082.72it/s]",
            "_view_count": null,
            "_view_module_version": "1.5.0",
            "description_tooltip": null,
            "_model_module": "@jupyter-widgets/controls",
            "layout": "IPY_MODEL_8939a40073484645805a7e1d1ad3088b"
          }
        },
        "22cace8d6bb9484f94f926936f11503a": {
          "model_module": "@jupyter-widgets/controls",
          "model_name": "DescriptionStyleModel",
          "model_module_version": "1.5.0",
          "state": {
            "_view_name": "StyleView",
            "_model_name": "DescriptionStyleModel",
            "description_width": "",
            "_view_module": "@jupyter-widgets/base",
            "_model_module_version": "1.5.0",
            "_view_count": null,
            "_view_module_version": "1.2.0",
            "_model_module": "@jupyter-widgets/controls"
          }
        },
        "75805b44e2b944f2b5265123060fbfcd": {
          "model_module": "@jupyter-widgets/base",
          "model_name": "LayoutModel",
          "model_module_version": "1.2.0",
          "state": {
            "_view_name": "LayoutView",
            "grid_template_rows": null,
            "right": null,
            "justify_content": null,
            "_view_module": "@jupyter-widgets/base",
            "overflow": null,
            "_model_module_version": "1.2.0",
            "_view_count": null,
            "flex_flow": null,
            "width": null,
            "min_width": null,
            "border": null,
            "align_items": null,
            "bottom": null,
            "_model_module": "@jupyter-widgets/base",
            "top": null,
            "grid_column": null,
            "overflow_y": null,
            "overflow_x": null,
            "grid_auto_flow": null,
            "grid_area": null,
            "grid_template_columns": null,
            "flex": null,
            "_model_name": "LayoutModel",
            "justify_items": null,
            "grid_row": null,
            "max_height": null,
            "align_content": null,
            "visibility": null,
            "align_self": null,
            "height": null,
            "min_height": null,
            "padding": null,
            "grid_auto_rows": null,
            "grid_gap": null,
            "max_width": null,
            "order": null,
            "_view_module_version": "1.2.0",
            "grid_template_areas": null,
            "object_position": null,
            "object_fit": null,
            "grid_auto_columns": null,
            "margin": null,
            "display": null,
            "left": null
          }
        },
        "aeabfcbc3990423695188e08cd997306": {
          "model_module": "@jupyter-widgets/controls",
          "model_name": "ProgressStyleModel",
          "model_module_version": "1.5.0",
          "state": {
            "_view_name": "StyleView",
            "_model_name": "ProgressStyleModel",
            "description_width": "",
            "_view_module": "@jupyter-widgets/base",
            "_model_module_version": "1.5.0",
            "_view_count": null,
            "_view_module_version": "1.2.0",
            "bar_color": null,
            "_model_module": "@jupyter-widgets/controls"
          }
        },
        "0cfdd2f8bf2f4d4a9b0df04416a034b1": {
          "model_module": "@jupyter-widgets/base",
          "model_name": "LayoutModel",
          "model_module_version": "1.2.0",
          "state": {
            "_view_name": "LayoutView",
            "grid_template_rows": null,
            "right": null,
            "justify_content": null,
            "_view_module": "@jupyter-widgets/base",
            "overflow": null,
            "_model_module_version": "1.2.0",
            "_view_count": null,
            "flex_flow": null,
            "width": null,
            "min_width": null,
            "border": null,
            "align_items": null,
            "bottom": null,
            "_model_module": "@jupyter-widgets/base",
            "top": null,
            "grid_column": null,
            "overflow_y": null,
            "overflow_x": null,
            "grid_auto_flow": null,
            "grid_area": null,
            "grid_template_columns": null,
            "flex": null,
            "_model_name": "LayoutModel",
            "justify_items": null,
            "grid_row": null,
            "max_height": null,
            "align_content": null,
            "visibility": null,
            "align_self": null,
            "height": null,
            "min_height": null,
            "padding": null,
            "grid_auto_rows": null,
            "grid_gap": null,
            "max_width": null,
            "order": null,
            "_view_module_version": "1.2.0",
            "grid_template_areas": null,
            "object_position": null,
            "object_fit": null,
            "grid_auto_columns": null,
            "margin": null,
            "display": null,
            "left": null
          }
        },
        "f5edf2246a824f85ba87f6e5e9f11409": {
          "model_module": "@jupyter-widgets/controls",
          "model_name": "DescriptionStyleModel",
          "model_module_version": "1.5.0",
          "state": {
            "_view_name": "StyleView",
            "_model_name": "DescriptionStyleModel",
            "description_width": "",
            "_view_module": "@jupyter-widgets/base",
            "_model_module_version": "1.5.0",
            "_view_count": null,
            "_view_module_version": "1.2.0",
            "_model_module": "@jupyter-widgets/controls"
          }
        },
        "8939a40073484645805a7e1d1ad3088b": {
          "model_module": "@jupyter-widgets/base",
          "model_name": "LayoutModel",
          "model_module_version": "1.2.0",
          "state": {
            "_view_name": "LayoutView",
            "grid_template_rows": null,
            "right": null,
            "justify_content": null,
            "_view_module": "@jupyter-widgets/base",
            "overflow": null,
            "_model_module_version": "1.2.0",
            "_view_count": null,
            "flex_flow": null,
            "width": null,
            "min_width": null,
            "border": null,
            "align_items": null,
            "bottom": null,
            "_model_module": "@jupyter-widgets/base",
            "top": null,
            "grid_column": null,
            "overflow_y": null,
            "overflow_x": null,
            "grid_auto_flow": null,
            "grid_area": null,
            "grid_template_columns": null,
            "flex": null,
            "_model_name": "LayoutModel",
            "justify_items": null,
            "grid_row": null,
            "max_height": null,
            "align_content": null,
            "visibility": null,
            "align_self": null,
            "height": null,
            "min_height": null,
            "padding": null,
            "grid_auto_rows": null,
            "grid_gap": null,
            "max_width": null,
            "order": null,
            "_view_module_version": "1.2.0",
            "grid_template_areas": null,
            "object_position": null,
            "object_fit": null,
            "grid_auto_columns": null,
            "margin": null,
            "display": null,
            "left": null
          }
        }
      }
    }
  },
  "cells": [
    {
      "cell_type": "markdown",
      "metadata": {
        "id": "cDlh5WB_SkfZ"
      },
      "source": [
        "# Домашнее задание 1\n",
        "## Harry Potter and the Action Prediction Challenge from Natural Language\n",
        "\n",
        "*deadline*: 3 октября 2021, 23:59\n",
        "\n",
        "В этом домашнем задании вы будете работать с корпусом Harry Potter and the Action Prediction Challenge. Корпус собран из фанфиков о Гарри Поттере и состоит из двух частей: 1) сырые тексты, 2) фрагменты текстов, описывающих ситуацию, в которой произнесено заклинание.\n",
        "\n",
        "Корпус описан в статье: https://arxiv.org/pdf/1905.11037.pdf\n",
        "\n",
        "David Vilares and Carlos Gómez-Rodríguez. Harry Potter and the Action Prediction Challenge from Natural Language. 2019 Annual Conference of the North American Chapter of the Association for Computational Linguistics. To appear.\n",
        "\n",
        "Код для сбора корпуса находится в репозитории: https://github.com/aghie/hpac . Корпус можно скачать по инструкции из этого репозитория, но для экономии времени авторы задания уже скачали и подготовили данные к работе. \n",
        "\n",
        "Ссылки на собранный корпус: \n",
        "* Сырые тексты:  https://www.dropbox.com/s/23xet9kvbqna1qs/hpac_raw.zip?dl=0\n",
        "* Токенизированные тексты в нижнем регистре: https://www.dropbox.com/s/gwfgmomdbetvdye/hpac_lower_tokenized.zip?dl=0\n",
        "* train-test-dev: https://www.dropbox.com/s/3vdz0mouvex8abd/hpac_splits.zip?dl=0\n",
        "\n",
        "Части 1, 2 задания должны быть выполнены на полных текстах (сырых или предобработанных -- на ваше усмотрение), Часть 3 – на разбиении на тестовое, отладочное и обучающее множества. Тестовое множество должно быть использовано исключительно для тестирования моделей, обучающее и отладочное – для выбора модели и параметров. \n",
        "\n",
        "В статье и репозитории вы найдете идеи, которые помогут вам выполнить домашнее задание. Их стоит воспринимать как руководство к действию, и не стоит их копировать и переиспользовать. Обученные модели использовать не нужно, код для их обучения можно использовать как подсказку. \n",
        "\n",
        "## ПРАВИЛА\n",
        "1. Домашнее задание выполняется в группе до 3-х человек.\n",
        "2. Домашнее задание сдается через Google Classroom (код доступа будет выслан дополнительно).\n",
        "3. Домашнее задание оформляется в виде отчета либо в .pdf файле, либо ipython-тетрадке. \n",
        "4. Отчет должен содержать: имена всех членов группы, нумерацию заданий и пунктов, которые вы выполнили, код решения, и понятное пошаговое описание того, что вы сделали. Отчет должен быть написан в академическом стиле, без излишнего использования сленга и с соблюдением норм русского языка.\n",
        "5. Не стоит копировать фрагменты лекций, статей и Википедии в ваш отчет.\n",
        "6. Отчеты, состоящие исключительно из кода, не будут проверены и будут автоматически оценены нулевой оценкой.\n",
        "7. Плагиат и любое недобросовестное цитирование приводит к обнулению оценки. \n",
        "\n",
        "\n",
        "## Часть 1. [2 балла] Эксплоративный анализ \n",
        "1. Найдите топ-1000 слов по частоте без учета стоп-слов.\n",
        "2. Найдите топ-10 по частоте: имен, пар имя + фамилия, пар вида ''профессор'' + имя / фамилия. \n",
        "\n",
        "[бонус] Постройте тематическую модель по корпусу HPAC.\n",
        "\n",
        "[бонус] Найдите еще что-то интересное в корпусе (что-то специфичное для фанфиков или фентези-тематики)\n",
        "\n",
        "## Часть 2. [2 балла] Модели представления слов \n",
        "Обучите модель представления слов (word2vec, GloVe, fastText или любую другую) на материале корпуса HPAC.\n",
        "1. Продемонстрируйте, как работает поиск синонимов, ассоциаций, лишних слов в обученной модели. \n",
        "2. Визуализируйте топ-1000 слов по частоте без учета стоп-слов (п. 1.1) с помощью TSNE или UMAP (https://umap-learn.readthedocs.io).\n",
        "\n",
        "## Часть 3. [5 баллов] Классификация текстов\n",
        "Задача классификации формулируется так: данный фрагмент фанфика описывает какую-то ситуацию, которая предшествует произнесению заклинания. Требуется по тексту предсказать, какое именно заклинание будет произнесено. Таким образом, заклинание - это фактически метка класса. Основная мера качества – macro $F_1$.\n",
        "Обучите несколько классификаторов и сравните их между собой. Оцените качество классификаторов на частых и редких классах. Какие классы чаще всего оказываются перепутаны? Связаны ли ошибки со смыслом заклинаний?\n",
        "\n",
        "Используйте фрагменты из множества train для обучения, из множества dev для отладки, из множества test – для тестирования и получения итоговых результатов. \n",
        "\n",
        "1. [1 балл] Используйте fastText в качестве baseline-классификатора.\n",
        "2. [2 балла] Используйте сверточные сети в качестве более продвинутого классификатора. Поэкспериментируйте с количеством и размерностью фильтров, используйте разные размеры окон, попробуйте использовать $k$-max pooling. \n",
        "3. [2 балла] Попробуйте расширить обучающее множество за счет аугментации данных. Если вам понадобится словарь синонимов, можно использовать WordNet (ниже вы найдете примеры).\n",
        "\n",
        "[бонус] Используйте результат max pooling'а как эмбеддинг входного текста. Визуализируйте эмбеддинги 500-1000 предложений из обучающего множества и изучите свойства получившегося пространства.\n",
        "\n",
        "[бонус] Используйте ваш любимый классификатор и любые (честные) способы повышения качества классификации и получите macro $F_1$ больше 0.5.\n",
        "\n",
        "## Часть 4. [1 балл] Итоги\n",
        "Напишите краткое резюме проделанной работы. Читали ли вы сами Гарри Поттера или фанфики о нем и помогло ли вам знание предметной области в выполнении домашнего задания?"
      ]
    },
    {
      "cell_type": "markdown",
      "metadata": {
        "id": "-17Rx31xSkfh"
      },
      "source": [
        "### Данные\n",
        "Сырые тексты "
      ]
    },
    {
      "cell_type": "code",
      "metadata": {
        "id": "uJZB-0EX-UvV",
        "colab": {
          "base_uri": "https://localhost:8080/"
        },
        "outputId": "d04f8e9b-15dd-42fd-9c68-90d35ca3188b"
      },
      "source": [
        "from google.colab import drive\n",
        "import pandas as pd\n",
        "\n",
        "drive.mount('/content/drive')\n",
        "\n",
        "path = '/content/drive/My Drive/Colab Notebooks/nlp/hw1-harry-potter'"
      ],
      "execution_count": 10,
      "outputs": [
        {
          "output_type": "stream",
          "name": "stdout",
          "text": [
            "Drive already mounted at /content/drive; to attempt to forcibly remount, call drive.mount(\"/content/drive\", force_remount=True).\n"
          ]
        }
      ]
    },
    {
      "cell_type": "code",
      "metadata": {
        "colab": {
          "base_uri": "https://localhost:8080/"
        },
        "id": "9zwNDsELbZW0",
        "outputId": "424fb6d0-c39a-43b3-9547-1216a50aa8e2"
      },
      "source": [
        "from os import listdir\n",
        "listdir(\"/content/drive/My Drive/Colab Notebooks/nlp/hw1-harry-potter/\")"
      ],
      "execution_count": 11,
      "outputs": [
        {
          "output_type": "execute_result",
          "data": {
            "text/plain": [
              "['hpac_splits', 'hpac_lower_tokenized']"
            ]
          },
          "metadata": {},
          "execution_count": 11
        }
      ]
    },
    {
      "cell_type": "code",
      "metadata": {
        "id": "uzbHA92z9c2K"
      },
      "source": [
        "# тренировочные данные для классификаторов\n",
        "\n",
        "train = pd.read_csv(path + '/hpac_splits/hpac_corpus/hpac_training_128.tsv', sep = '\\t', header = None)\n",
        "test = pd.read_csv(path + '/hpac_splits/hpac_corpus/hpac_test_128.tsv', sep = '\\t', header = None)\n",
        "dev = pd.read_csv(path + '/hpac_splits/hpac_corpus/hpac_dev_128.tsv', sep = '\\t', header = None)"
      ],
      "execution_count": 12,
      "outputs": []
    },
    {
      "cell_type": "code",
      "metadata": {
        "id": "Yfc9-9Hy9nC8",
        "colab": {
          "base_uri": "https://localhost:8080/",
          "height": 200
        },
        "outputId": "8889f14b-b47e-4c9c-8ae5-58ba4ecd3f05"
      },
      "source": [
        "train.head()"
      ],
      "execution_count": 13,
      "outputs": [
        {
          "output_type": "execute_result",
          "data": {
            "text/html": [
              "<div>\n",
              "<style scoped>\n",
              "    .dataframe tbody tr th:only-of-type {\n",
              "        vertical-align: middle;\n",
              "    }\n",
              "\n",
              "    .dataframe tbody tr th {\n",
              "        vertical-align: top;\n",
              "    }\n",
              "\n",
              "    .dataframe thead th {\n",
              "        text-align: right;\n",
              "    }\n",
              "</style>\n",
              "<table border=\"1\" class=\"dataframe\">\n",
              "  <thead>\n",
              "    <tr style=\"text-align: right;\">\n",
              "      <th></th>\n",
              "      <th>0</th>\n",
              "      <th>1</th>\n",
              "      <th>2</th>\n",
              "    </tr>\n",
              "  </thead>\n",
              "  <tbody>\n",
              "    <tr>\n",
              "      <th>0</th>\n",
              "      <td>7642954.0.676</td>\n",
              "      <td>RIDDIKULUS</td>\n",
              "      <td>were staring at her . she was up next to face ...</td>\n",
              "    </tr>\n",
              "    <tr>\n",
              "      <th>1</th>\n",
              "      <td>10443333.0.5753</td>\n",
              "      <td>RIDDIKULUS</td>\n",
              "      <td>that whole time . her first reaction , for whi...</td>\n",
              "    </tr>\n",
              "    <tr>\n",
              "      <th>2</th>\n",
              "      <td>4703706.0.8690</td>\n",
              "      <td>STUPEFY</td>\n",
              "      <td>we watched his inglorious withdrawal together ...</td>\n",
              "    </tr>\n",
              "    <tr>\n",
              "      <th>3</th>\n",
              "      <td>4593427.0.1815</td>\n",
              "      <td>ACCIO</td>\n",
              "      <td>my wand , `` incendio . '' this wretched chill...</td>\n",
              "    </tr>\n",
              "    <tr>\n",
              "      <th>4</th>\n",
              "      <td>4278446.0.2692</td>\n",
              "      <td>EXPELLIARMUS</td>\n",
              "      <td>already compared ours , they 're the same ever...</td>\n",
              "    </tr>\n",
              "  </tbody>\n",
              "</table>\n",
              "</div>"
            ],
            "text/plain": [
              "                 0  ...                                                  2\n",
              "0    7642954.0.676  ...  were staring at her . she was up next to face ...\n",
              "1  10443333.0.5753  ...  that whole time . her first reaction , for whi...\n",
              "2   4703706.0.8690  ...  we watched his inglorious withdrawal together ...\n",
              "3   4593427.0.1815  ...  my wand , `` incendio . '' this wretched chill...\n",
              "4   4278446.0.2692  ...  already compared ours , they 're the same ever...\n",
              "\n",
              "[5 rows x 3 columns]"
            ]
          },
          "metadata": {},
          "execution_count": 13
        }
      ]
    },
    {
      "cell_type": "code",
      "metadata": {
        "id": "aYBcWYai97Zp"
      },
      "source": [
        "# текстовый корпус hpac из токенизированного датасета\n",
        "\n",
        "import os\n",
        "from nltk.corpus.reader.plaintext import PlaintextCorpusReader\n",
        "\n",
        "corpusdir = path + '/hpac_lower_tokenized/hpac_source/' # Directory of corpus.\n",
        "files = os.listdir(corpusdir)\n",
        "\n",
        "hpac_corpus = PlaintextCorpusReader(corpusdir, files)"
      ],
      "execution_count": 14,
      "outputs": []
    },
    {
      "cell_type": "code",
      "metadata": {
        "id": "W7Z_JiLSio61"
      },
      "source": [
        "import re\n",
        "import gensim\n",
        "import logging\n",
        "import nltk.data \n",
        "import pandas as pd\n",
        "import urllib.request\n",
        "from bs4 import BeautifulSoup\n",
        "from nltk.corpus import stopwords\n",
        "from gensim.models import word2vec\n",
        "from nltk.tokenize import sent_tokenize, RegexpTokenizer"
      ],
      "execution_count": 15,
      "outputs": []
    },
    {
      "cell_type": "markdown",
      "metadata": {
        "id": "lUhi0n1-Skg8"
      },
      "source": [
        "train, test, dev файлы"
      ]
    },
    {
      "cell_type": "markdown",
      "metadata": {
        "id": "ZNHMtmbqX-rl"
      },
      "source": [
        "# Часть 2"
      ]
    },
    {
      "cell_type": "code",
      "metadata": {
        "id": "RNK9lk9RSkg_"
      },
      "source": [
        "import pandas as pd\n",
        "df = pd.read_csv(path + '/hpac_splits/hpac_corpus/hpac_training_128.tsv', sep = '\\t', header = None)"
      ],
      "execution_count": 16,
      "outputs": []
    },
    {
      "cell_type": "code",
      "metadata": {
        "id": "irbunSOfX-rt",
        "colab": {
          "base_uri": "https://localhost:8080/"
        },
        "outputId": "7fc17937-a1a8-4039-f7aa-693daa57fad8"
      },
      "source": [
        "import nltk\n",
        "nltk.download('punkt')\n",
        "tokenizer = nltk.data.load('tokenizers/punkt/english.pickle')\n",
        "\n",
        "def text_to_wordlist(text, remove_stopwords=False ):\n",
        "    text_text = BeautifulSoup(text, \"lxml\").get_text()\n",
        "    text_text = re.sub(\"[^a-zA-Z]\",\" \", text_text)\n",
        "    words = text_text.lower().split()\n",
        "    if remove_stopwords:\n",
        "        stops = stopwords.words(\"english\")\n",
        "        words = [w for w in words if not w in stops]\n",
        "    return(words)\n",
        "\n",
        "def text_to_sentences(text, tokenizer, remove_stopwords=False):\n",
        "    raw_sentences = tokenizer.tokenize(text.strip())\n",
        "    sentences = []\n",
        "    for raw_sentence in raw_sentences:\n",
        "        if len(raw_sentence) > 0:\n",
        "            sentences.append(text_to_wordlist(raw_sentence, remove_stopwords))\n",
        "    return sentences"
      ],
      "execution_count": 17,
      "outputs": [
        {
          "output_type": "stream",
          "name": "stdout",
          "text": [
            "[nltk_data] Downloading package punkt to /root/nltk_data...\n",
            "[nltk_data]   Package punkt is already up-to-date!\n"
          ]
        }
      ]
    },
    {
      "cell_type": "code",
      "metadata": {
        "id": "bolPEuQgX-rv"
      },
      "source": [
        "#logging.basicConfig(format='%(asctime)s : %(levelname)s : %(message)s', level=logging.INFO)\n",
        "\n",
        "sentences = []  \n",
        "\n",
        "for text in df[2]:\n",
        "    sentences += text_to_sentences(text, tokenizer)"
      ],
      "execution_count": null,
      "outputs": []
    },
    {
      "cell_type": "markdown",
      "metadata": {
        "id": "qqFhuv7XX-r1"
      },
      "source": [
        "Обучаем и сохраняем модель"
      ]
    },
    {
      "cell_type": "code",
      "metadata": {
        "id": "OB2FqIioX-r1"
      },
      "source": [
        "model_en = word2vec.Word2Vec(sentences, workers=4, size=300, min_count=10, window=10, sample=1e-3)"
      ],
      "execution_count": 19,
      "outputs": []
    },
    {
      "cell_type": "markdown",
      "metadata": {
        "id": "2mU9sbGYX-r8"
      },
      "source": [
        "## Ассоциации"
      ]
    },
    {
      "cell_type": "code",
      "metadata": {
        "colab": {
          "base_uri": "https://localhost:8080/"
        },
        "id": "n8OQxmUyX-r9",
        "outputId": "5b8dd552-7394-46fe-a78a-cecf972cce4a"
      },
      "source": [
        "print(model_en.wv.most_similar(positive=[\"magic\", \"school\"], topn=1))"
      ],
      "execution_count": 20,
      "outputs": [
        {
          "output_type": "stream",
          "name": "stdout",
          "text": [
            "[('hogwarts', 0.7205667495727539)]\n"
          ]
        }
      ]
    },
    {
      "cell_type": "code",
      "metadata": {
        "colab": {
          "base_uri": "https://localhost:8080/"
        },
        "id": "wqOmeyCT_e5f",
        "outputId": "e9dfb5bb-48c5-4481-90f8-dc1d6a36aa46"
      },
      "source": [
        "print(model_en.wv.most_similar(positive=[\"ron\", 'harry'], negative=[\"friend\"], topn=1))"
      ],
      "execution_count": 21,
      "outputs": [
        {
          "output_type": "stream",
          "name": "stdout",
          "text": [
            "[('draco', 0.5506953001022339)]\n"
          ]
        }
      ]
    },
    {
      "cell_type": "code",
      "metadata": {
        "id": "Z12P3dEs0FR8",
        "colab": {
          "base_uri": "https://localhost:8080/"
        },
        "outputId": "8a24614f-cf2a-40f1-82b1-fe256eea2c51"
      },
      "source": [
        "print(model_en.wv.most_similar(positive=[\"harry\", 'lover'], topn=1))"
      ],
      "execution_count": 22,
      "outputs": [
        {
          "output_type": "stream",
          "name": "stdout",
          "text": [
            "[('father', 0.5851529836654663)]\n"
          ]
        }
      ]
    },
    {
      "cell_type": "markdown",
      "metadata": {
        "id": "jwqYaAXv_swg"
      },
      "source": [
        "Ожидаемо, но всё же."
      ]
    },
    {
      "cell_type": "code",
      "metadata": {
        "colab": {
          "base_uri": "https://localhost:8080/"
        },
        "id": "E2jDH53M_2ce",
        "outputId": "e429674e-bdfe-49e3-cd93-2fcdf26036ab"
      },
      "source": [
        "print(model_en.wv.most_similar(positive=[\"ron\"], negative=[\"man\"], topn=1))"
      ],
      "execution_count": 23,
      "outputs": [
        {
          "output_type": "stream",
          "name": "stdout",
          "text": [
            "[('ginny', 0.4701293110847473)]\n"
          ]
        }
      ]
    },
    {
      "cell_type": "markdown",
      "metadata": {
        "id": "pIBQXARezGV9"
      },
      "source": [
        "## Синонимы"
      ]
    },
    {
      "cell_type": "markdown",
      "metadata": {
        "id": "NbP9PHIV-tn9"
      },
      "source": [
        "Непростительные заклятья "
      ]
    },
    {
      "cell_type": "code",
      "metadata": {
        "colab": {
          "base_uri": "https://localhost:8080/"
        },
        "id": "n2-Fno2Z-qej",
        "outputId": "f972da89-04cc-4bda-d2ae-775d7310d923"
      },
      "source": [
        "print(model_en.wv.most_similar(\"crucio\", topn=3))"
      ],
      "execution_count": 24,
      "outputs": [
        {
          "output_type": "stream",
          "name": "stdout",
          "text": [
            "[('stupefy', 0.6533147096633911), ('sectumsempra', 0.6220383644104004), ('imperio', 0.619819700717926)]\n"
          ]
        }
      ]
    },
    {
      "cell_type": "markdown",
      "metadata": {
        "id": "_HI-Gi4j-0x7"
      },
      "source": [
        "Волшебные места"
      ]
    },
    {
      "cell_type": "code",
      "metadata": {
        "colab": {
          "base_uri": "https://localhost:8080/"
        },
        "id": "sT1VRRMgzxOA",
        "outputId": "bbd245a0-4b48-4b8d-8fe6-22cc9697be0c"
      },
      "source": [
        "print(model_en.wv.most_similar(\"hogwarts\", topn=3))"
      ],
      "execution_count": 25,
      "outputs": [
        {
          "output_type": "stream",
          "name": "stdout",
          "text": [
            "[('school', 0.8278470039367676), ('ministry', 0.6853522062301636), ('london', 0.6495212316513062)]\n"
          ]
        }
      ]
    },
    {
      "cell_type": "markdown",
      "metadata": {
        "id": "6fsn91gHzK3I"
      },
      "source": [
        "## Лишние слова"
      ]
    },
    {
      "cell_type": "code",
      "metadata": {
        "colab": {
          "base_uri": "https://localhost:8080/"
        },
        "id": "O3fxdC6wxun3",
        "outputId": "48052824-b3b2-46f1-9d76-86fef96d2d52"
      },
      "source": [
        "print(model_en.wv.doesnt_match(['lucius', 'bellatrix', 'harry']))"
      ],
      "execution_count": 26,
      "outputs": [
        {
          "output_type": "stream",
          "name": "stdout",
          "text": [
            "harry\n"
          ]
        },
        {
          "output_type": "stream",
          "name": "stderr",
          "text": [
            "/usr/local/lib/python3.7/dist-packages/gensim/models/keyedvectors.py:895: FutureWarning: arrays to stack must be passed as a \"sequence\" type such as list or tuple. Support for non-sequence iterables such as generators is deprecated as of NumPy 1.16 and will raise an error in the future.\n",
            "  vectors = vstack(self.word_vec(word, use_norm=True) for word in used_words).astype(REAL)\n"
          ]
        }
      ]
    },
    {
      "cell_type": "code",
      "metadata": {
        "colab": {
          "base_uri": "https://localhost:8080/"
        },
        "id": "8cvJuCuyACN5",
        "outputId": "2f770259-71fc-47a6-b8e3-9701f1898f7f"
      },
      "source": [
        "print(model_en.wv.doesnt_match(['sirius', 'lupin', 'pettigrew']))"
      ],
      "execution_count": 27,
      "outputs": [
        {
          "output_type": "stream",
          "name": "stdout",
          "text": [
            "pettigrew\n"
          ]
        },
        {
          "output_type": "stream",
          "name": "stderr",
          "text": [
            "/usr/local/lib/python3.7/dist-packages/gensim/models/keyedvectors.py:895: FutureWarning: arrays to stack must be passed as a \"sequence\" type such as list or tuple. Support for non-sequence iterables such as generators is deprecated as of NumPy 1.16 and will raise an error in the future.\n",
            "  vectors = vstack(self.word_vec(word, use_norm=True) for word in used_words).astype(REAL)\n"
          ]
        }
      ]
    },
    {
      "cell_type": "markdown",
      "metadata": {
        "id": "8KrrxBTWCUxs"
      },
      "source": [
        "Разумеется он лишний, он же самый надёжный из тройки"
      ]
    },
    {
      "cell_type": "markdown",
      "metadata": {
        "id": "Sv0wxUXIX-se"
      },
      "source": [
        "## Визуализация\n",
        "Изобразим на плоскости 1000 самых частотных слов:"
      ]
    },
    {
      "cell_type": "code",
      "metadata": {
        "colab": {
          "base_uri": "https://localhost:8080/",
          "height": 215,
          "referenced_widgets": [
            "555670c97b204d91ae79ae8db611d77d",
            "2e941b2fd90540e4ae44c1f631ef6818",
            "49fc8ba6db2c463a933f0e2c357b8783",
            "add7c8530bd0449aa380f251c3d1472d",
            "e2035831e4c24a1f99579728999e879c",
            "22cace8d6bb9484f94f926936f11503a",
            "75805b44e2b944f2b5265123060fbfcd",
            "aeabfcbc3990423695188e08cd997306",
            "0cfdd2f8bf2f4d4a9b0df04416a034b1",
            "f5edf2246a824f85ba87f6e5e9f11409",
            "8939a40073484645805a7e1d1ad3088b"
          ]
        },
        "id": "5UH91gFyX-sf",
        "outputId": "2237e427-c02b-4da4-b792-95aee1a8aa95"
      },
      "source": [
        "from nltk import FreqDist\n",
        "from tqdm import tqdm_notebook as tqdm\n",
        "from sklearn.manifold import TSNE\n",
        "import nltk\n",
        "nltk.download('punkt')\n",
        "nltk.download('stopwords')\n",
        "from string import punctuation\n",
        "punctuation\n",
        "\n",
        "top_words = []\n",
        "\n",
        "\n",
        "fd = FreqDist()\n",
        "for s in tqdm(sentences):\n",
        "    fd.update(s)\n",
        "\n",
        "noise = set(stopwords.words('english') + list(punctuation))\n",
        "i = 1000\n",
        "for w in fd.most_common(1500):\n",
        "    if w[0] not in noise:\n",
        "      top_words.append(w[0])\n",
        "      i -= 1\n",
        "    if i == 0:\n",
        "      break\n",
        "    \n",
        "print(top_words[:50:])\n",
        "top_words_vec = model_en[top_words]"
      ],
      "execution_count": 28,
      "outputs": [
        {
          "output_type": "stream",
          "name": "stdout",
          "text": [
            "[nltk_data] Downloading package punkt to /root/nltk_data...\n",
            "[nltk_data]   Package punkt is already up-to-date!\n",
            "[nltk_data] Downloading package stopwords to /root/nltk_data...\n",
            "[nltk_data]   Package stopwords is already up-to-date!\n"
          ]
        },
        {
          "output_type": "stream",
          "name": "stderr",
          "text": [
            "/usr/local/lib/python3.7/dist-packages/ipykernel_launcher.py:14: TqdmDeprecationWarning: This function will be removed in tqdm==5.0.0\n",
            "Please use `tqdm.notebook.tqdm` instead of `tqdm.tqdm_notebook`\n",
            "  \n"
          ]
        },
        {
          "output_type": "display_data",
          "data": {
            "application/vnd.jupyter.widget-view+json": {
              "model_id": "555670c97b204d91ae79ae8db611d77d",
              "version_minor": 0,
              "version_major": 2
            },
            "text/plain": [
              "  0%|          | 0/591974 [00:00<?, ?it/s]"
            ]
          },
          "metadata": {}
        },
        {
          "output_type": "stream",
          "name": "stdout",
          "text": [
            "['n', 'harry', 'wand', 'said', 'could', 'would', 'one', 'hermione', 'draco', 'back', 'eyes', 'like', 'voldemort', 'time', 'ron', 'know', 'around', 'potter', 'face', 'get', 'death', 'spell', 'hand', 'looked', 'even', 'see', 'head', 'still', 'dark', 'snape', 'room', 'away', 'well', 'way', 'sirius', 'going', 'door', 'james', 'malfoy', 'right', 'severus', 'think', 'never', 'go', 'thought', 'two', 'something', 'let', 'turned', 'voice']\n"
          ]
        },
        {
          "output_type": "stream",
          "name": "stderr",
          "text": [
            "/usr/local/lib/python3.7/dist-packages/ipykernel_launcher.py:27: DeprecationWarning: Call to deprecated `__getitem__` (Method will be removed in 4.0.0, use self.wv.__getitem__() instead).\n"
          ]
        }
      ]
    },
    {
      "cell_type": "code",
      "metadata": {
        "colab": {
          "base_uri": "https://localhost:8080/"
        },
        "id": "74FvTsuuX-sg",
        "outputId": "53a4ea4b-1d47-44ea-97a3-bb4a624a9bd0"
      },
      "source": [
        "%%time\n",
        "tsne = TSNE(n_components=2, random_state=0)\n",
        "top_words_tsne = tsne.fit_transform(top_words_vec)"
      ],
      "execution_count": 29,
      "outputs": [
        {
          "output_type": "stream",
          "name": "stdout",
          "text": [
            "CPU times: user 17.9 s, sys: 107 ms, total: 18 s\n",
            "Wall time: 9.78 s\n"
          ]
        }
      ]
    },
    {
      "cell_type": "code",
      "metadata": {
        "colab": {
          "base_uri": "https://localhost:8080/",
          "height": 617
        },
        "id": "R0A__XKwX-si",
        "outputId": "81667d16-e649-43cc-8c26-ade2d2394ca0"
      },
      "source": [
        "from bokeh.models import ColumnDataSource, LabelSet\n",
        "from bokeh.plotting import figure, show, output_file\n",
        "from bokeh.io import output_notebook\n",
        "output_notebook()\n",
        "\n",
        "p = figure(tools=\"pan,wheel_zoom,reset,save\",\n",
        "           toolbar_location=\"above\",\n",
        "           title=\"word2vec T-SNE (eng model, top1000 words)\")\n",
        "\n",
        "source = ColumnDataSource(data=dict(x1=top_words_tsne[:,0],\n",
        "                                    x2=top_words_tsne[:,1],\n",
        "                                    names=top_words))\n",
        "\n",
        "p.scatter(x=\"x1\", y=\"x2\", size=8, source=source)\n",
        "\n",
        "labels = LabelSet(x=\"x1\", y=\"x2\", text=\"names\", y_offset=6,\n",
        "                  text_font_size=\"8pt\", text_color=\"#555555\",\n",
        "                  source=source, text_align='center')\n",
        "p.add_layout(labels)\n",
        "\n",
        "show(p)"
      ],
      "execution_count": 30,
      "outputs": [
        {
          "output_type": "display_data",
          "data": {
            "application/javascript": [
              "\n",
              "(function(root) {\n",
              "  function now() {\n",
              "    return new Date();\n",
              "  }\n",
              "\n",
              "  var force = true;\n",
              "\n",
              "  if (typeof root._bokeh_onload_callbacks === \"undefined\" || force === true) {\n",
              "    root._bokeh_onload_callbacks = [];\n",
              "    root._bokeh_is_loading = undefined;\n",
              "  }\n",
              "\n",
              "  var JS_MIME_TYPE = 'application/javascript';\n",
              "  var HTML_MIME_TYPE = 'text/html';\n",
              "  var EXEC_MIME_TYPE = 'application/vnd.bokehjs_exec.v0+json';\n",
              "  var CLASS_NAME = 'output_bokeh rendered_html';\n",
              "\n",
              "  /**\n",
              "   * Render data to the DOM node\n",
              "   */\n",
              "  function render(props, node) {\n",
              "    var script = document.createElement(\"script\");\n",
              "    node.appendChild(script);\n",
              "  }\n",
              "\n",
              "  /**\n",
              "   * Handle when an output is cleared or removed\n",
              "   */\n",
              "  function handleClearOutput(event, handle) {\n",
              "    var cell = handle.cell;\n",
              "\n",
              "    var id = cell.output_area._bokeh_element_id;\n",
              "    var server_id = cell.output_area._bokeh_server_id;\n",
              "    // Clean up Bokeh references\n",
              "    if (id != null && id in Bokeh.index) {\n",
              "      Bokeh.index[id].model.document.clear();\n",
              "      delete Bokeh.index[id];\n",
              "    }\n",
              "\n",
              "    if (server_id !== undefined) {\n",
              "      // Clean up Bokeh references\n",
              "      var cmd = \"from bokeh.io.state import curstate; print(curstate().uuid_to_server['\" + server_id + \"'].get_sessions()[0].document.roots[0]._id)\";\n",
              "      cell.notebook.kernel.execute(cmd, {\n",
              "        iopub: {\n",
              "          output: function(msg) {\n",
              "            var id = msg.content.text.trim();\n",
              "            if (id in Bokeh.index) {\n",
              "              Bokeh.index[id].model.document.clear();\n",
              "              delete Bokeh.index[id];\n",
              "            }\n",
              "          }\n",
              "        }\n",
              "      });\n",
              "      // Destroy server and session\n",
              "      var cmd = \"import bokeh.io.notebook as ion; ion.destroy_server('\" + server_id + \"')\";\n",
              "      cell.notebook.kernel.execute(cmd);\n",
              "    }\n",
              "  }\n",
              "\n",
              "  /**\n",
              "   * Handle when a new output is added\n",
              "   */\n",
              "  function handleAddOutput(event, handle) {\n",
              "    var output_area = handle.output_area;\n",
              "    var output = handle.output;\n",
              "\n",
              "    // limit handleAddOutput to display_data with EXEC_MIME_TYPE content only\n",
              "    if ((output.output_type != \"display_data\") || (!Object.prototype.hasOwnProperty.call(output.data, EXEC_MIME_TYPE))) {\n",
              "      return\n",
              "    }\n",
              "\n",
              "    var toinsert = output_area.element.find(\".\" + CLASS_NAME.split(' ')[0]);\n",
              "\n",
              "    if (output.metadata[EXEC_MIME_TYPE][\"id\"] !== undefined) {\n",
              "      toinsert[toinsert.length - 1].firstChild.textContent = output.data[JS_MIME_TYPE];\n",
              "      // store reference to embed id on output_area\n",
              "      output_area._bokeh_element_id = output.metadata[EXEC_MIME_TYPE][\"id\"];\n",
              "    }\n",
              "    if (output.metadata[EXEC_MIME_TYPE][\"server_id\"] !== undefined) {\n",
              "      var bk_div = document.createElement(\"div\");\n",
              "      bk_div.innerHTML = output.data[HTML_MIME_TYPE];\n",
              "      var script_attrs = bk_div.children[0].attributes;\n",
              "      for (var i = 0; i < script_attrs.length; i++) {\n",
              "        toinsert[toinsert.length - 1].firstChild.setAttribute(script_attrs[i].name, script_attrs[i].value);\n",
              "        toinsert[toinsert.length - 1].firstChild.textContent = bk_div.children[0].textContent\n",
              "      }\n",
              "      // store reference to server id on output_area\n",
              "      output_area._bokeh_server_id = output.metadata[EXEC_MIME_TYPE][\"server_id\"];\n",
              "    }\n",
              "  }\n",
              "\n",
              "  function register_renderer(events, OutputArea) {\n",
              "\n",
              "    function append_mime(data, metadata, element) {\n",
              "      // create a DOM node to render to\n",
              "      var toinsert = this.create_output_subarea(\n",
              "        metadata,\n",
              "        CLASS_NAME,\n",
              "        EXEC_MIME_TYPE\n",
              "      );\n",
              "      this.keyboard_manager.register_events(toinsert);\n",
              "      // Render to node\n",
              "      var props = {data: data, metadata: metadata[EXEC_MIME_TYPE]};\n",
              "      render(props, toinsert[toinsert.length - 1]);\n",
              "      element.append(toinsert);\n",
              "      return toinsert\n",
              "    }\n",
              "\n",
              "    /* Handle when an output is cleared or removed */\n",
              "    events.on('clear_output.CodeCell', handleClearOutput);\n",
              "    events.on('delete.Cell', handleClearOutput);\n",
              "\n",
              "    /* Handle when a new output is added */\n",
              "    events.on('output_added.OutputArea', handleAddOutput);\n",
              "\n",
              "    /**\n",
              "     * Register the mime type and append_mime function with output_area\n",
              "     */\n",
              "    OutputArea.prototype.register_mime_type(EXEC_MIME_TYPE, append_mime, {\n",
              "      /* Is output safe? */\n",
              "      safe: true,\n",
              "      /* Index of renderer in `output_area.display_order` */\n",
              "      index: 0\n",
              "    });\n",
              "  }\n",
              "\n",
              "  // register the mime type if in Jupyter Notebook environment and previously unregistered\n",
              "  if (root.Jupyter !== undefined) {\n",
              "    var events = require('base/js/events');\n",
              "    var OutputArea = require('notebook/js/outputarea').OutputArea;\n",
              "\n",
              "    if (OutputArea.prototype.mime_types().indexOf(EXEC_MIME_TYPE) == -1) {\n",
              "      register_renderer(events, OutputArea);\n",
              "    }\n",
              "  }\n",
              "\n",
              "  \n",
              "  if (typeof (root._bokeh_timeout) === \"undefined\" || force === true) {\n",
              "    root._bokeh_timeout = Date.now() + 5000;\n",
              "    root._bokeh_failed_load = false;\n",
              "  }\n",
              "\n",
              "  var NB_LOAD_WARNING = {'data': {'text/html':\n",
              "     \"<div style='background-color: #fdd'>\\n\"+\n",
              "     \"<p>\\n\"+\n",
              "     \"BokehJS does not appear to have successfully loaded. If loading BokehJS from CDN, this \\n\"+\n",
              "     \"may be due to a slow or bad network connection. Possible fixes:\\n\"+\n",
              "     \"</p>\\n\"+\n",
              "     \"<ul>\\n\"+\n",
              "     \"<li>re-rerun `output_notebook()` to attempt to load from CDN again, or</li>\\n\"+\n",
              "     \"<li>use INLINE resources instead, as so:</li>\\n\"+\n",
              "     \"</ul>\\n\"+\n",
              "     \"<code>\\n\"+\n",
              "     \"from bokeh.resources import INLINE\\n\"+\n",
              "     \"output_notebook(resources=INLINE)\\n\"+\n",
              "     \"</code>\\n\"+\n",
              "     \"</div>\"}};\n",
              "\n",
              "  function display_loaded() {\n",
              "    var el = document.getElementById(null);\n",
              "    if (el != null) {\n",
              "      el.textContent = \"BokehJS is loading...\";\n",
              "    }\n",
              "    if (root.Bokeh !== undefined) {\n",
              "      if (el != null) {\n",
              "        el.textContent = \"BokehJS \" + root.Bokeh.version + \" successfully loaded.\";\n",
              "      }\n",
              "    } else if (Date.now() < root._bokeh_timeout) {\n",
              "      setTimeout(display_loaded, 100)\n",
              "    }\n",
              "  }\n",
              "\n",
              "\n",
              "  function run_callbacks() {\n",
              "    try {\n",
              "      root._bokeh_onload_callbacks.forEach(function(callback) {\n",
              "        if (callback != null)\n",
              "          callback();\n",
              "      });\n",
              "    } finally {\n",
              "      delete root._bokeh_onload_callbacks\n",
              "    }\n",
              "    console.debug(\"Bokeh: all callbacks have finished\");\n",
              "  }\n",
              "\n",
              "  function load_libs(css_urls, js_urls, callback) {\n",
              "    if (css_urls == null) css_urls = [];\n",
              "    if (js_urls == null) js_urls = [];\n",
              "\n",
              "    root._bokeh_onload_callbacks.push(callback);\n",
              "    if (root._bokeh_is_loading > 0) {\n",
              "      console.debug(\"Bokeh: BokehJS is being loaded, scheduling callback at\", now());\n",
              "      return null;\n",
              "    }\n",
              "    if (js_urls == null || js_urls.length === 0) {\n",
              "      run_callbacks();\n",
              "      return null;\n",
              "    }\n",
              "    console.debug(\"Bokeh: BokehJS not loaded, scheduling load and callback at\", now());\n",
              "    root._bokeh_is_loading = css_urls.length + js_urls.length;\n",
              "\n",
              "    function on_load() {\n",
              "      root._bokeh_is_loading--;\n",
              "      if (root._bokeh_is_loading === 0) {\n",
              "        console.debug(\"Bokeh: all BokehJS libraries/stylesheets loaded\");\n",
              "        run_callbacks()\n",
              "      }\n",
              "    }\n",
              "\n",
              "    function on_error(url) {\n",
              "      console.error(\"failed to load \" + url);\n",
              "    }\n",
              "\n",
              "    for (let i = 0; i < css_urls.length; i++) {\n",
              "      const url = css_urls[i];\n",
              "      const element = document.createElement(\"link\");\n",
              "      element.onload = on_load;\n",
              "      element.onerror = on_error.bind(null, url);\n",
              "      element.rel = \"stylesheet\";\n",
              "      element.type = \"text/css\";\n",
              "      element.href = url;\n",
              "      console.debug(\"Bokeh: injecting link tag for BokehJS stylesheet: \", url);\n",
              "      document.body.appendChild(element);\n",
              "    }\n",
              "\n",
              "    const hashes = {\"https://cdn.bokeh.org/bokeh/release/bokeh-2.3.3.min.js\": \"dM3QQsP+wXdHg42wTqW85BjZQdLNNIXqlPw/BgKoExPmTG7ZLML4EGqLMfqHT6ON\", \"https://cdn.bokeh.org/bokeh/release/bokeh-tables-2.3.3.min.js\": \"8x57I4YuIfu8XyZfFo0XVr2WAT8EK4rh/uDe3wF7YuW2FNUSNEpJbsPaB1nJ2fz2\", \"https://cdn.bokeh.org/bokeh/release/bokeh-widgets-2.3.3.min.js\": \"3QTqdz9LyAm2i0sG5XTePsHec3UHWwVsrOL68SYRoAXsafvfAyqtQ+h440+qIBhS\"};\n",
              "\n",
              "    for (let i = 0; i < js_urls.length; i++) {\n",
              "      const url = js_urls[i];\n",
              "      const element = document.createElement('script');\n",
              "      element.onload = on_load;\n",
              "      element.onerror = on_error.bind(null, url);\n",
              "      element.async = false;\n",
              "      element.src = url;\n",
              "      if (url in hashes) {\n",
              "        element.crossOrigin = \"anonymous\";\n",
              "        element.integrity = \"sha384-\" + hashes[url];\n",
              "      }\n",
              "      console.debug(\"Bokeh: injecting script tag for BokehJS library: \", url);\n",
              "      document.head.appendChild(element);\n",
              "    }\n",
              "  };\n",
              "\n",
              "  function inject_raw_css(css) {\n",
              "    const element = document.createElement(\"style\");\n",
              "    element.appendChild(document.createTextNode(css));\n",
              "    document.body.appendChild(element);\n",
              "  }\n",
              "\n",
              "  \n",
              "  var js_urls = [\"https://cdn.bokeh.org/bokeh/release/bokeh-2.3.3.min.js\", \"https://cdn.bokeh.org/bokeh/release/bokeh-widgets-2.3.3.min.js\", \"https://cdn.bokeh.org/bokeh/release/bokeh-tables-2.3.3.min.js\"];\n",
              "  var css_urls = [];\n",
              "  \n",
              "\n",
              "  var inline_js = [\n",
              "    function(Bokeh) {\n",
              "      Bokeh.set_log_level(\"info\");\n",
              "    },\n",
              "    function(Bokeh) {\n",
              "    \n",
              "    \n",
              "    }\n",
              "  ];\n",
              "\n",
              "  function run_inline_js() {\n",
              "    \n",
              "    if (root.Bokeh !== undefined || force === true) {\n",
              "      \n",
              "    for (var i = 0; i < inline_js.length; i++) {\n",
              "      inline_js[i].call(root, root.Bokeh);\n",
              "    }\n",
              "    } else if (Date.now() < root._bokeh_timeout) {\n",
              "      setTimeout(run_inline_js, 100);\n",
              "    } else if (!root._bokeh_failed_load) {\n",
              "      console.log(\"Bokeh: BokehJS failed to load within specified timeout.\");\n",
              "      root._bokeh_failed_load = true;\n",
              "    } else if (force !== true) {\n",
              "      var cell = $(document.getElementById(null)).parents('.cell').data().cell;\n",
              "      cell.output_area.append_execute_result(NB_LOAD_WARNING)\n",
              "    }\n",
              "\n",
              "  }\n",
              "\n",
              "  if (root._bokeh_is_loading === 0) {\n",
              "    console.debug(\"Bokeh: BokehJS loaded, going straight to plotting\");\n",
              "    run_inline_js();\n",
              "  } else {\n",
              "    load_libs(css_urls, js_urls, function() {\n",
              "      console.debug(\"Bokeh: BokehJS plotting callback run at\", now());\n",
              "      run_inline_js();\n",
              "    });\n",
              "  }\n",
              "}(window));"
            ],
            "application/vnd.bokehjs_load.v0+json": "\n(function(root) {\n  function now() {\n    return new Date();\n  }\n\n  var force = true;\n\n  if (typeof root._bokeh_onload_callbacks === \"undefined\" || force === true) {\n    root._bokeh_onload_callbacks = [];\n    root._bokeh_is_loading = undefined;\n  }\n\n  \n\n  \n  if (typeof (root._bokeh_timeout) === \"undefined\" || force === true) {\n    root._bokeh_timeout = Date.now() + 5000;\n    root._bokeh_failed_load = false;\n  }\n\n  var NB_LOAD_WARNING = {'data': {'text/html':\n     \"<div style='background-color: #fdd'>\\n\"+\n     \"<p>\\n\"+\n     \"BokehJS does not appear to have successfully loaded. If loading BokehJS from CDN, this \\n\"+\n     \"may be due to a slow or bad network connection. Possible fixes:\\n\"+\n     \"</p>\\n\"+\n     \"<ul>\\n\"+\n     \"<li>re-rerun `output_notebook()` to attempt to load from CDN again, or</li>\\n\"+\n     \"<li>use INLINE resources instead, as so:</li>\\n\"+\n     \"</ul>\\n\"+\n     \"<code>\\n\"+\n     \"from bokeh.resources import INLINE\\n\"+\n     \"output_notebook(resources=INLINE)\\n\"+\n     \"</code>\\n\"+\n     \"</div>\"}};\n\n  function display_loaded() {\n    var el = document.getElementById(null);\n    if (el != null) {\n      el.textContent = \"BokehJS is loading...\";\n    }\n    if (root.Bokeh !== undefined) {\n      if (el != null) {\n        el.textContent = \"BokehJS \" + root.Bokeh.version + \" successfully loaded.\";\n      }\n    } else if (Date.now() < root._bokeh_timeout) {\n      setTimeout(display_loaded, 100)\n    }\n  }\n\n\n  function run_callbacks() {\n    try {\n      root._bokeh_onload_callbacks.forEach(function(callback) {\n        if (callback != null)\n          callback();\n      });\n    } finally {\n      delete root._bokeh_onload_callbacks\n    }\n    console.debug(\"Bokeh: all callbacks have finished\");\n  }\n\n  function load_libs(css_urls, js_urls, callback) {\n    if (css_urls == null) css_urls = [];\n    if (js_urls == null) js_urls = [];\n\n    root._bokeh_onload_callbacks.push(callback);\n    if (root._bokeh_is_loading > 0) {\n      console.debug(\"Bokeh: BokehJS is being loaded, scheduling callback at\", now());\n      return null;\n    }\n    if (js_urls == null || js_urls.length === 0) {\n      run_callbacks();\n      return null;\n    }\n    console.debug(\"Bokeh: BokehJS not loaded, scheduling load and callback at\", now());\n    root._bokeh_is_loading = css_urls.length + js_urls.length;\n\n    function on_load() {\n      root._bokeh_is_loading--;\n      if (root._bokeh_is_loading === 0) {\n        console.debug(\"Bokeh: all BokehJS libraries/stylesheets loaded\");\n        run_callbacks()\n      }\n    }\n\n    function on_error(url) {\n      console.error(\"failed to load \" + url);\n    }\n\n    for (let i = 0; i < css_urls.length; i++) {\n      const url = css_urls[i];\n      const element = document.createElement(\"link\");\n      element.onload = on_load;\n      element.onerror = on_error.bind(null, url);\n      element.rel = \"stylesheet\";\n      element.type = \"text/css\";\n      element.href = url;\n      console.debug(\"Bokeh: injecting link tag for BokehJS stylesheet: \", url);\n      document.body.appendChild(element);\n    }\n\n    const hashes = {\"https://cdn.bokeh.org/bokeh/release/bokeh-2.3.3.min.js\": \"dM3QQsP+wXdHg42wTqW85BjZQdLNNIXqlPw/BgKoExPmTG7ZLML4EGqLMfqHT6ON\", \"https://cdn.bokeh.org/bokeh/release/bokeh-tables-2.3.3.min.js\": \"8x57I4YuIfu8XyZfFo0XVr2WAT8EK4rh/uDe3wF7YuW2FNUSNEpJbsPaB1nJ2fz2\", \"https://cdn.bokeh.org/bokeh/release/bokeh-widgets-2.3.3.min.js\": \"3QTqdz9LyAm2i0sG5XTePsHec3UHWwVsrOL68SYRoAXsafvfAyqtQ+h440+qIBhS\"};\n\n    for (let i = 0; i < js_urls.length; i++) {\n      const url = js_urls[i];\n      const element = document.createElement('script');\n      element.onload = on_load;\n      element.onerror = on_error.bind(null, url);\n      element.async = false;\n      element.src = url;\n      if (url in hashes) {\n        element.crossOrigin = \"anonymous\";\n        element.integrity = \"sha384-\" + hashes[url];\n      }\n      console.debug(\"Bokeh: injecting script tag for BokehJS library: \", url);\n      document.head.appendChild(element);\n    }\n  };\n\n  function inject_raw_css(css) {\n    const element = document.createElement(\"style\");\n    element.appendChild(document.createTextNode(css));\n    document.body.appendChild(element);\n  }\n\n  \n  var js_urls = [\"https://cdn.bokeh.org/bokeh/release/bokeh-2.3.3.min.js\", \"https://cdn.bokeh.org/bokeh/release/bokeh-widgets-2.3.3.min.js\", \"https://cdn.bokeh.org/bokeh/release/bokeh-tables-2.3.3.min.js\"];\n  var css_urls = [];\n  \n\n  var inline_js = [\n    function(Bokeh) {\n      Bokeh.set_log_level(\"info\");\n    },\n    function(Bokeh) {\n    \n    \n    }\n  ];\n\n  function run_inline_js() {\n    \n    if (root.Bokeh !== undefined || force === true) {\n      \n    for (var i = 0; i < inline_js.length; i++) {\n      inline_js[i].call(root, root.Bokeh);\n    }\n    } else if (Date.now() < root._bokeh_timeout) {\n      setTimeout(run_inline_js, 100);\n    } else if (!root._bokeh_failed_load) {\n      console.log(\"Bokeh: BokehJS failed to load within specified timeout.\");\n      root._bokeh_failed_load = true;\n    } else if (force !== true) {\n      var cell = $(document.getElementById(null)).parents('.cell').data().cell;\n      cell.output_area.append_execute_result(NB_LOAD_WARNING)\n    }\n\n  }\n\n  if (root._bokeh_is_loading === 0) {\n    console.debug(\"Bokeh: BokehJS loaded, going straight to plotting\");\n    run_inline_js();\n  } else {\n    load_libs(css_urls, js_urls, function() {\n      console.debug(\"Bokeh: BokehJS plotting callback run at\", now());\n      run_inline_js();\n    });\n  }\n}(window));"
          },
          "metadata": {}
        },
        {
          "output_type": "display_data",
          "data": {
            "text/html": [
              "\n",
              "\n",
              "\n",
              "\n",
              "\n",
              "\n",
              "  <div class=\"bk-root\" id=\"6aa8ba9a-c494-41db-ae90-65d7726756ac\" data-root-id=\"1002\"></div>\n"
            ]
          },
          "metadata": {}
        },
        {
          "output_type": "display_data",
          "data": {
            "application/javascript": [
              "(function(root) {\n",
              "  function embed_document(root) {\n",
              "    \n",
              "  var docs_json = {\"e30817b7-749e-4435-ad51-ea7c704b3e94\":{\"defs\":[],\"roots\":{\"references\":[{\"attributes\":{\"below\":[{\"id\":\"1013\"}],\"center\":[{\"id\":\"1016\"},{\"id\":\"1020\"},{\"id\":\"1036\"}],\"left\":[{\"id\":\"1017\"}],\"renderers\":[{\"id\":\"1034\"}],\"title\":{\"id\":\"1003\"},\"toolbar\":{\"id\":\"1025\"},\"toolbar_location\":\"above\",\"x_range\":{\"id\":\"1005\"},\"x_scale\":{\"id\":\"1009\"},\"y_range\":{\"id\":\"1007\"},\"y_scale\":{\"id\":\"1011\"}},\"id\":\"1002\",\"subtype\":\"Figure\",\"type\":\"Plot\"},{\"attributes\":{},\"id\":\"1022\",\"type\":\"WheelZoomTool\"},{\"attributes\":{},\"id\":\"1023\",\"type\":\"ResetTool\"},{\"attributes\":{},\"id\":\"1024\",\"type\":\"SaveTool\"},{\"attributes\":{},\"id\":\"1007\",\"type\":\"DataRange1d\"},{\"attributes\":{},\"id\":\"1045\",\"type\":\"UnionRenderers\"},{\"attributes\":{},\"id\":\"1041\",\"type\":\"BasicTickFormatter\"},{\"attributes\":{\"fill_alpha\":{\"value\":0.1},\"fill_color\":{\"value\":\"#1f77b4\"},\"line_alpha\":{\"value\":0.1},\"line_color\":{\"value\":\"#1f77b4\"},\"size\":{\"value\":8},\"x\":{\"field\":\"x1\"},\"y\":{\"field\":\"x2\"}},\"id\":\"1033\",\"type\":\"Scatter\"},{\"attributes\":{},\"id\":\"1009\",\"type\":\"LinearScale\"},{\"attributes\":{\"source\":{\"id\":\"1030\"},\"text\":{\"field\":\"names\"},\"text_align\":{\"value\":\"center\"},\"text_color\":{\"value\":\"#555555\"},\"text_font_size\":{\"value\":\"8pt\"},\"x\":{\"field\":\"x1\"},\"y\":{\"field\":\"x2\"},\"y_offset\":{\"value\":6}},\"id\":\"1036\",\"type\":\"LabelSet\"},{\"attributes\":{\"fill_color\":{\"value\":\"#1f77b4\"},\"line_color\":{\"value\":\"#1f77b4\"},\"size\":{\"value\":8},\"x\":{\"field\":\"x1\"},\"y\":{\"field\":\"x2\"}},\"id\":\"1032\",\"type\":\"Scatter\"},{\"attributes\":{},\"id\":\"1011\",\"type\":\"LinearScale\"},{\"attributes\":{\"text\":\"word2vec T-SNE (eng model, top1000 words)\"},\"id\":\"1003\",\"type\":\"Title\"},{\"attributes\":{},\"id\":\"1042\",\"type\":\"AllLabels\"},{\"attributes\":{\"formatter\":{\"id\":\"1044\"},\"major_label_policy\":{\"id\":\"1042\"},\"ticker\":{\"id\":\"1014\"}},\"id\":\"1013\",\"type\":\"LinearAxis\"},{\"attributes\":{},\"id\":\"1018\",\"type\":\"BasicTicker\"},{\"attributes\":{},\"id\":\"1046\",\"type\":\"Selection\"},{\"attributes\":{},\"id\":\"1014\",\"type\":\"BasicTicker\"},{\"attributes\":{\"axis\":{\"id\":\"1013\"},\"ticker\":null},\"id\":\"1016\",\"type\":\"Grid\"},{\"attributes\":{},\"id\":\"1005\",\"type\":\"DataRange1d\"},{\"attributes\":{},\"id\":\"1021\",\"type\":\"PanTool\"},{\"attributes\":{\"axis\":{\"id\":\"1017\"},\"dimension\":1,\"ticker\":null},\"id\":\"1020\",\"type\":\"Grid\"},{\"attributes\":{\"data\":{\"names\":[\"n\",\"harry\",\"wand\",\"said\",\"could\",\"would\",\"one\",\"hermione\",\"draco\",\"back\",\"eyes\",\"like\",\"voldemort\",\"time\",\"ron\",\"know\",\"around\",\"potter\",\"face\",\"get\",\"death\",\"spell\",\"hand\",\"looked\",\"even\",\"see\",\"head\",\"still\",\"dark\",\"snape\",\"room\",\"away\",\"well\",\"way\",\"sirius\",\"going\",\"door\",\"james\",\"malfoy\",\"right\",\"severus\",\"think\",\"never\",\"go\",\"thought\",\"two\",\"something\",\"let\",\"turned\",\"voice\",\"knew\",\"first\",\"curse\",\"ginny\",\"man\",\"lord\",\"asked\",\"look\",\"lily\",\"took\",\"little\",\"made\",\"cast\",\"bellatrix\",\"much\",\"want\",\"behind\",\"boy\",\"got\",\"saw\",\"felt\",\"make\",\"heard\",\"remus\",\"rrb\",\"pointed\",\"shouted\",\"come\",\"another\",\"dumbledore\",\"last\",\"good\",\"light\",\"came\",\"lrb\",\"take\",\"really\",\"left\",\"floor\",\"oh\",\"body\",\"towards\",\"nothing\",\"say\",\"moment\",\"mind\",\"pain\",\"though\",\"love\",\"pulled\",\"long\",\"looking\",\"tried\",\"enough\",\"spells\",\"kill\",\"raised\",\"front\",\"eaters\",\"black\",\"ground\",\"started\",\"side\",\"quickly\",\"blood\",\"anything\",\"next\",\"hit\",\"sure\",\"went\",\"hands\",\"magic\",\"ca\",\"us\",\"tell\",\"stood\",\"trying\",\"began\",\"hair\",\"lucius\",\"ever\",\"need\",\"life\",\"please\",\"year\",\"help\",\"wanted\",\"whispered\",\"found\",\"without\",\"find\",\"feet\",\"three\",\"eater\",\"neville\",\"open\",\"girl\",\"almost\",\"yelled\",\"thing\",\"someone\",\"charm\",\"used\",\"words\",\"stop\",\"yes\",\"father\",\"told\",\"suddenly\",\"finally\",\"crucio\",\"bed\",\"seemed\",\"put\",\"always\",\"people\",\"use\",\"weasley\",\"every\",\"fell\",\"end\",\"house\",\"hogwarts\",\"red\",\"things\",\"night\",\"professor\",\"mouth\",\"air\",\"second\",\"feel\",\"dead\",\"nodded\",\"walked\",\"avada\",\"already\",\"small\",\"years\",\"day\",\"done\",\"arm\",\"place\",\"screamed\",\"tom\",\"better\",\"everyone\",\"ran\",\"bit\",\"breath\",\"slowly\",\"smile\",\"best\",\"must\",\"give\",\"everything\",\"old\",\"gave\",\"hear\",\"try\",\"green\",\"heart\",\"mother\",\"smiled\",\"wall\",\"inside\",\"held\",\"leave\",\"happened\",\"yet\",\"might\",\"across\",\"keep\",\"hard\",\"reached\",\"soon\",\"coming\",\"watched\",\"world\",\"else\",\"muttered\",\"arms\",\"many\",\"die\",\"stopped\",\"wizard\",\"luna\",\"kedavra\",\"lips\",\"albus\",\"gone\",\"name\",\"chest\",\"opened\",\"since\",\"friends\",\"rose\",\"course\",\"maybe\",\"wo\",\"muggle\",\"called\",\"granger\",\"half\",\"ready\",\"making\",\"quick\",\"work\",\"shot\",\"move\",\"table\",\"able\",\"onto\",\"later\",\"sorry\",\"also\",\"great\",\"fred\",\"standing\",\"fire\",\"stupefy\",\"friend\",\"cold\",\"sound\",\"cried\",\"george\",\"killed\",\"tears\",\"quite\",\"forward\",\"sat\",\"far\",\"laughed\",\"getting\",\"anyone\",\"wands\",\"instead\",\"continued\",\"woman\",\"grabbed\",\"together\",\"close\",\"seen\",\"caught\",\"robes\",\"feeling\",\"fight\",\"taking\",\"word\",\"tonks\",\"family\",\"fear\",\"deep\",\"hurt\",\"son\",\"run\",\"running\",\"however\",\"remember\",\"least\",\"book\",\"needed\",\"closed\",\"stared\",\"person\",\"slightly\",\"hall\",\"moved\",\"mean\",\"point\",\"rather\",\"curses\",\"pointing\",\"shut\",\"new\",\"shook\",\"replied\",\"lost\",\"past\",\"sent\",\"stepped\",\"immediately\",\"alone\",\"school\",\"turn\",\"stand\",\"eye\",\"master\",\"wrong\",\"thinking\",\"bloody\",\"probably\",\"gryffindor\",\"holding\",\"fingers\",\"parents\",\"says\",\"care\",\"scream\",\"okay\",\"set\",\"lupin\",\"idea\",\"peter\",\"full\",\"killing\",\"actually\",\"students\",\"battle\",\"slytherin\",\"hold\",\"flew\",\"rest\",\"minutes\",\"followed\",\"mr\",\"hell\",\"managed\",\"order\",\"sighed\",\"pocket\",\"young\",\"along\",\"happy\",\"using\",\"toward\",\"decided\",\"figure\",\"casting\",\"believe\",\"may\",\"corner\",\"memory\",\"times\",\"part\",\"scorpius\",\"threw\",\"kept\",\"water\",\"shield\",\"matter\",\"closer\",\"throat\",\"wait\",\"stairs\",\"shoulder\",\"turning\",\"barely\",\"hope\",\"pushed\",\"expelliarmus\",\"skin\",\"appeared\",\"either\",\"outside\",\"noticed\",\"upon\",\"large\",\"others\",\"anger\",\"white\",\"witch\",\"fine\",\"taken\",\"child\",\"answer\",\"watching\",\"broken\",\"bad\",\"mudblood\",\"screaming\",\"chance\",\"several\",\"home\",\"hissed\",\"attention\",\"fact\",\"realized\",\"cloak\",\"top\",\"leaving\",\"stupid\",\"yeah\",\"drew\",\"stay\",\"dropped\",\"potion\",\"completely\",\"show\",\"legs\",\"whole\",\"simple\",\"shaking\",\"pulling\",\"step\",\"fighting\",\"ask\",\"looks\",\"fall\",\"class\",\"watch\",\"staring\",\"call\",\"longer\",\"rolled\",\"power\",\"read\",\"waiting\",\"silence\",\"seeing\",\"neck\",\"loud\",\"sitting\",\"straight\",\"flying\",\"saying\",\"spoke\",\"nearly\",\"war\",\"lifted\",\"kiss\",\"quietly\",\"sight\",\"laugh\",\"potions\",\"brother\",\"cut\",\"charms\",\"snapped\",\"ministry\",\"start\",\"darkness\",\"moving\",\"magical\",\"pansy\",\"silent\",\"talk\",\"different\",\"sleep\",\"thoughts\",\"true\",\"simply\",\"four\",\"high\",\"boys\",\"ago\",\"knowing\",\"window\",\"form\",\"free\",\"direction\",\"filled\",\"nose\",\"brought\",\"fast\",\"stone\",\"kind\",\"perhaps\",\"cry\",\"meant\",\"thank\",\"died\",\"understand\",\"loved\",\"blue\",\"broke\",\"miss\",\"bella\",\"save\",\"seconds\",\"narcissa\",\"baby\",\"accio\",\"jumped\",\"mcgonagall\",\"late\",\"powerful\",\"near\",\"break\",\"five\",\"memories\",\"laughing\",\"lot\",\"reason\",\"happen\",\"alive\",\"walking\",\"hex\",\"wide\",\"merlin\",\"strong\",\"known\",\"anyway\",\"desk\",\"quiet\",\"aimed\",\"books\",\"talking\",\"chair\",\"knows\",\"riddle\",\"lying\",\"protego\",\"attack\",\"placed\",\"smirked\",\"picked\",\"empty\",\"minerva\",\"locked\",\"shock\",\"days\",\"beside\",\"lay\",\"real\",\"exactly\",\"blaise\",\"glass\",\"duel\",\"speak\",\"castle\",\"soft\",\"muggles\",\"burst\",\"softly\",\"live\",\"remembered\",\"whatever\",\"patronus\",\"clear\",\"wizards\",\"story\",\"safe\",\"aside\",\"knees\",\"evil\",\"angry\",\"falling\",\"became\",\"office\",\"supposed\",\"snake\",\"dare\",\"question\",\"walk\",\"become\",\"within\",\"teeth\",\"grinned\",\"anymore\",\"given\",\"pale\",\"passed\",\"shall\",\"short\",\"common\",\"today\",\"clearly\",\"middle\",\"lestrange\",\"ear\",\"less\",\"finished\",\"cedric\",\"expression\",\"surprise\",\"force\",\"screams\",\"children\",\"surprised\",\"kitchen\",\"morning\",\"gasped\",\"forced\",\"met\",\"stomach\",\"hours\",\"hate\",\"worse\",\"nice\",\"alright\",\"seamus\",\"sister\",\"sort\",\"covered\",\"possible\",\"moody\",\"corridor\",\"mine\",\"thanks\",\"casted\",\"regulus\",\"pretty\",\"bright\",\"easy\",\"change\",\"tip\",\"carefully\",\"mark\",\"bring\",\"big\",\"laughter\",\"living\",\"waved\",\"tree\",\"mum\",\"beautiful\",\"crying\",\"causing\",\"wish\",\"mad\",\"damn\",\"final\",\"fun\",\"entered\",\"silently\",\"dad\",\"dear\",\"flash\",\"plan\",\"familiar\",\"easily\",\"rage\",\"third\",\"piece\",\"fuck\",\"giving\",\"control\",\"makes\",\"answered\",\"touch\",\"moments\",\"headmaster\",\"ears\",\"grin\",\"glared\",\"waited\",\"group\",\"seem\",\"afraid\",\"glanced\",\"torture\",\"wife\",\"broom\",\"gaze\",\"scared\",\"pull\",\"entire\",\"molly\",\"alice\",\"noise\",\"worry\",\"men\",\"couple\",\"reach\",\"none\",\"boggart\",\"except\",\"case\",\"steps\",\"although\",\"cruciatus\",\"wormtail\",\"sense\",\"perfect\",\"lumos\",\"single\",\"ten\",\"line\",\"auror\",\"notice\",\"minute\",\"forest\",\"sudden\",\"allowed\",\"wondered\",\"whipped\",\"gently\",\"breathing\",\"kissed\",\"position\",\"sending\",\"obviously\",\"weak\",\"confused\",\"somehow\",\"returned\",\"bag\",\"forget\",\"lived\",\"husband\",\"shoulders\",\"ones\",\"calm\",\"cause\",\"missed\",\"quidditch\",\"sounded\",\"backwards\",\"foot\",\"play\",\"horror\",\"sneered\",\"aurors\",\"protect\",\"spot\",\"landed\",\"mrs\",\"brown\",\"disclaimer\",\"guess\",\"murmured\",\"hey\",\"tonight\",\"reducto\",\"cheek\",\"somewhere\",\"knocked\",\"return\",\"added\",\"escape\",\"wizarding\",\"leg\",\"parchment\",\"walls\",\"clothes\",\"smiling\",\"slipped\",\"teddy\",\"raising\",\"worked\",\"girls\",\"tone\",\"edge\",\"growled\",\"hot\",\"directly\",\"emerald\",\"meet\",\"secret\",\"telling\",\"hated\",\"tightly\",\"changed\",\"low\",\"silver\",\"percy\",\"glasses\",\"disappeared\",\"sir\",\"fallen\",\"fucking\",\"unable\",\"hide\",\"movement\",\"soul\",\"dolohov\",\"forehead\",\"follow\",\"sit\",\"spat\",\"smirk\",\"choice\",\"dementors\",\"library\",\"doors\",\"finish\",\"hagrid\",\"dodged\",\"warm\",\"heavy\",\"longbottom\",\"flick\",\"student\",\"shocked\",\"means\",\"crack\",\"leaned\",\"strange\",\"expected\",\"catch\",\"sky\",\"despite\",\"letter\",\"hoping\",\"learn\",\"written\",\"charlie\",\"grip\",\"whisper\",\"following\",\"hour\",\"tongue\",\"instantly\",\"shouting\",\"certain\",\"throwing\",\"hiding\",\"shirt\",\"dean\",\"bill\",\"points\",\"shrugged\",\"beneath\",\"working\",\"ah\",\"cup\",\"self\",\"haired\",\"snarled\",\"arrived\",\"learned\",\"especially\",\"wake\",\"pressed\",\"bedroom\",\"apparently\",\"bathroom\",\"round\",\"aunt\",\"flicked\",\"certainly\",\"expecto\",\"god\",\"goyle\",\"wrapped\",\"thin\",\"week\",\"sometimes\",\"lit\",\"wood\",\"reading\",\"older\",\"hexes\",\"pieces\",\"mirror\",\"neither\",\"arthur\",\"loudly\",\"pair\",\"starting\",\"incantation\",\"blonde\",\"fired\",\"truly\",\"wonder\",\"werewolf\",\"ended\",\"truth\",\"footsteps\",\"normal\",\"slow\",\"clean\",\"forever\",\"months\",\"crowd\",\"filthy\",\"stuck\",\"note\",\"faces\",\"patronum\",\"sharp\",\"enjoy\",\"letting\",\"lavender\",\"takes\",\"spun\",\"trust\",\"tired\",\"azkaban\",\"trouble\",\"join\",\"caused\",\"taught\",\"seems\",\"desperately\",\"asleep\",\"paused\",\"lip\",\"tower\",\"classroom\",\"gotten\",\"sigh\",\"send\",\"cheeks\",\"breaking\",\"finger\",\"beginning\",\"unforgivable\",\"sounds\",\"relief\",\"stunned\",\"widened\",\"manor\",\"problem\",\"grew\",\"burning\",\"begin\",\"al\",\"keeping\",\"hidden\",\"apart\",\"drawing\",\"beat\",\"doubt\",\"situation\",\"important\",\"listen\",\"mess\",\"flames\",\"ahead\",\"comes\",\"wind\",\"thrown\",\"wants\",\"wards\",\"human\",\"dementor\",\"shout\",\"petrificus\",\"strength\",\"earlier\",\"rushed\",\"cover\",\"usual\",\"counter\",\"turns\",\"write\",\"wrist\",\"headed\",\"fought\",\"dragon\",\"wave\",\"throw\",\"deal\",\"crabbe\",\"frowned\",\"faster\",\"information\",\"failed\",\"worst\",\"realised\",\"game\",\"remained\",\"hallway\",\"attempt\",\"pay\",\"totalus\",\"blocked\",\"scene\",\"creature\"],\"x1\":{\"__ndarray__\":\"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\",\"dtype\":\"float32\",\"order\":\"little\",\"shape\":[1000]},\"x2\":{\"__ndarray__\":\"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\",\"dtype\":\"float32\",\"order\":\"little\",\"shape\":[1000]}},\"selected\":{\"id\":\"1046\"},\"selection_policy\":{\"id\":\"1045\"}},\"id\":\"1030\",\"type\":\"ColumnDataSource\"},{\"attributes\":{\"source\":{\"id\":\"1030\"}},\"id\":\"1035\",\"type\":\"CDSView\"},{\"attributes\":{\"formatter\":{\"id\":\"1041\"},\"major_label_policy\":{\"id\":\"1039\"},\"ticker\":{\"id\":\"1018\"}},\"id\":\"1017\",\"type\":\"LinearAxis\"},{\"attributes\":{},\"id\":\"1044\",\"type\":\"BasicTickFormatter\"},{\"attributes\":{\"active_multi\":null,\"tools\":[{\"id\":\"1021\"},{\"id\":\"1022\"},{\"id\":\"1023\"},{\"id\":\"1024\"}]},\"id\":\"1025\",\"type\":\"Toolbar\"},{\"attributes\":{},\"id\":\"1039\",\"type\":\"AllLabels\"},{\"attributes\":{\"data_source\":{\"id\":\"1030\"},\"glyph\":{\"id\":\"1032\"},\"hover_glyph\":null,\"muted_glyph\":null,\"nonselection_glyph\":{\"id\":\"1033\"},\"view\":{\"id\":\"1035\"}},\"id\":\"1034\",\"type\":\"GlyphRenderer\"}],\"root_ids\":[\"1002\"]},\"title\":\"Bokeh Application\",\"version\":\"2.3.3\"}};\n",
              "  var render_items = [{\"docid\":\"e30817b7-749e-4435-ad51-ea7c704b3e94\",\"root_ids\":[\"1002\"],\"roots\":{\"1002\":\"6aa8ba9a-c494-41db-ae90-65d7726756ac\"}}];\n",
              "  root.Bokeh.embed.embed_items_notebook(docs_json, render_items);\n",
              "\n",
              "  }\n",
              "  if (root.Bokeh !== undefined) {\n",
              "    embed_document(root);\n",
              "  } else {\n",
              "    var attempts = 0;\n",
              "    var timer = setInterval(function(root) {\n",
              "      if (root.Bokeh !== undefined) {\n",
              "        clearInterval(timer);\n",
              "        embed_document(root);\n",
              "      } else {\n",
              "        attempts++;\n",
              "        if (attempts > 100) {\n",
              "          clearInterval(timer);\n",
              "          console.log(\"Bokeh: ERROR: Unable to run BokehJS code because BokehJS library is missing\");\n",
              "        }\n",
              "      }\n",
              "    }, 10, root)\n",
              "  }\n",
              "})(window);"
            ],
            "application/vnd.bokehjs_exec.v0+json": ""
          },
          "metadata": {
            "application/vnd.bokehjs_exec.v0+json": {
              "id": "1002"
            }
          }
        }
      ]
    }
  ]
}