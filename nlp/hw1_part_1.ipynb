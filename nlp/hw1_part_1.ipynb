{
  "nbformat": 4,
  "nbformat_minor": 0,
  "metadata": {
    "accelerator": "TPU",
    "colab": {
      "name": "hw1.ipynb",
      "provenance": [],
      "collapsed_sections": []
    },
    "kernelspec": {
      "display_name": "Python 3",
      "language": "python",
      "name": "python3"
    },
    "language_info": {
      "codemirror_mode": {
        "name": "ipython",
        "version": 3
      },
      "file_extension": ".py",
      "mimetype": "text/x-python",
      "name": "python",
      "nbconvert_exporter": "python",
      "pygments_lexer": "ipython3",
      "version": "3.8.5"
    }
  },
  "cells": [
    {
      "cell_type": "markdown",
      "metadata": {
        "id": "cDlh5WB_SkfZ"
      },
      "source": [
        "# Домашнее задание 1\n",
        "## Harry Potter and the Action Prediction Challenge from Natural Language\n",
        "\n",
        "*deadline*: 3 октября 2021, 23:59\n",
        "\n",
        "В этом домашнем задании вы будете работать с корпусом Harry Potter and the Action Prediction Challenge. Корпус собран из фанфиков о Гарри Поттере и состоит из двух частей: 1) сырые тексты, 2) фрагменты текстов, описывающих ситуацию, в которой произнесено заклинание.\n",
        "\n",
        "Корпус описан в статье: https://arxiv.org/pdf/1905.11037.pdf\n",
        "\n",
        "David Vilares and Carlos Gómez-Rodríguez. Harry Potter and the Action Prediction Challenge from Natural Language. 2019 Annual Conference of the North American Chapter of the Association for Computational Linguistics. To appear.\n",
        "\n",
        "Код для сбора корпуса находится в репозитории: https://github.com/aghie/hpac . Корпус можно скачать по инструкции из этого репозитория, но для экономии времени авторы задания уже скачали и подготовили данные к работе. \n",
        "\n",
        "Ссылки на собранный корпус: \n",
        "* Сырые тексты:  https://www.dropbox.com/s/23xet9kvbqna1qs/hpac_raw.zip?dl=0\n",
        "* Токенизированные тексты в нижнем регистре: https://www.dropbox.com/s/gwfgmomdbetvdye/hpac_lower_tokenized.zip?dl=0\n",
        "* train-test-dev: https://www.dropbox.com/s/3vdz0mouvex8abd/hpac_splits.zip?dl=0\n",
        "\n",
        "Части 1, 2 задания должны быть выполнены на полных текстах (сырых или предобработанных -- на ваше усмотрение), Часть 3 – на разбиении на тестовое, отладочное и обучающее множества. Тестовое множество должно быть использовано исключительно для тестирования моделей, обучающее и отладочное – для выбора модели и параметров. \n",
        "\n",
        "В статье и репозитории вы найдете идеи, которые помогут вам выполнить домашнее задание. Их стоит воспринимать как руководство к действию, и не стоит их копировать и переиспользовать. Обученные модели использовать не нужно, код для их обучения можно использовать как подсказку. \n",
        "\n",
        "## ПРАВИЛА\n",
        "1. Домашнее задание выполняется в группе до 3-х человек.\n",
        "2. Домашнее задание сдается через Google Classroom (код доступа будет выслан дополнительно).\n",
        "3. Домашнее задание оформляется в виде отчета либо в .pdf файле, либо ipython-тетрадке. \n",
        "4. Отчет должен содержать: имена всех членов группы, нумерацию заданий и пунктов, которые вы выполнили, код решения, и понятное пошаговое описание того, что вы сделали. Отчет должен быть написан в академическом стиле, без излишнего использования сленга и с соблюдением норм русского языка.\n",
        "5. Не стоит копировать фрагменты лекций, статей и Википедии в ваш отчет.\n",
        "6. Отчеты, состоящие исключительно из кода, не будут проверены и будут автоматически оценены нулевой оценкой.\n",
        "7. Плагиат и любое недобросовестное цитирование приводит к обнулению оценки. \n",
        "\n",
        "\n",
        "## Часть 1. [2 балла] Эксплоративный анализ \n",
        "1. Найдите топ-1000 слов по частоте без учета стоп-слов.\n",
        "2. Найдите топ-10 по частоте: имен, пар имя + фамилия, пар вида ''профессор'' + имя / фамилия. \n",
        "\n",
        "[бонус] Постройте тематическую модель по корпусу HPAC.\n",
        "\n",
        "[бонус] Найдите еще что-то интересное в корпусе (что-то специфичное для фанфиков или фентези-тематики)\n",
        "\n",
        "## Часть 2. [2 балла] Модели представления слов \n",
        "Обучите модель представления слов (word2vec, GloVe, fastText или любую другую) на материале корпуса HPAC.\n",
        "1. Продемонстрируйте, как работает поиск синонимов, ассоциаций, лишних слов в обученной модели. \n",
        "2. Визуализируйте топ-1000 слов по частоте без учета стоп-слов (п. 1.1) с помощью TSNE или UMAP (https://umap-learn.readthedocs.io).\n",
        "\n",
        "## Часть 3. [5 баллов] Классификация текстов\n",
        "Задача классификации формулируется так: данный фрагмент фанфика описывает какую-то ситуацию, которая предшествует произнесению заклинания. Требуется по тексту предсказать, какое именно заклинание будет произнесено. Таким образом, заклинание - это фактически метка класса. Основная мера качества – macro $F_1$.\n",
        "Обучите несколько классификаторов и сравните их между собой. Оцените качество классификаторов на частых и редких классах. Какие классы чаще всего оказываются перепутаны? Связаны ли ошибки со смыслом заклинаний?\n",
        "\n",
        "Используйте фрагменты из множества train для обучения, из множества dev для отладки, из множества test – для тестирования и получения итоговых результатов. \n",
        "\n",
        "1. [1 балл] Используйте fastText в качестве baseline-классификатора.\n",
        "2. [2 балла] Используйте сверточные сети в качестве более продвинутого классификатора. Поэкспериментируйте с количеством и размерностью фильтров, используйте разные размеры окон, попробуйте использовать $k$-max pooling. \n",
        "3. [2 балла] Попробуйте расширить обучающее множество за счет аугментации данных. Если вам понадобится словарь синонимов, можно использовать WordNet (ниже вы найдете примеры).\n",
        "\n",
        "[бонус] Используйте результат max pooling'а как эмбеддинг входного текста. Визуализируйте эмбеддинги 500-1000 предложений из обучающего множества и изучите свойства получившегося пространства.\n",
        "\n",
        "[бонус] Используйте ваш любимый классификатор и любые (честные) способы повышения качества классификации и получите macro $F_1$ больше 0.5.\n",
        "\n",
        "## Часть 4. [1 балл] Итоги\n",
        "Напишите краткое резюме проделанной работы. Читали ли вы сами Гарри Поттера или фанфики о нем и помогло ли вам знание предметной области в выполнении домашнего задания?"
      ]
    },
    {
      "cell_type": "markdown",
      "metadata": {
        "id": "-17Rx31xSkfh"
      },
      "source": [
        "# PART 1 IN ACTION"
      ]
    },
    {
      "cell_type": "code",
      "metadata": {
        "id": "3FRVE9VAN8aM"
      },
      "source": [
        "#!unzip '/content/drive/MyDrive/Colab Notebooks/nlp/hw1-harry-potter/hpac_lower_tokenized'"
      ],
      "execution_count": null,
      "outputs": []
    },
    {
      "cell_type": "code",
      "metadata": {
        "id": "W7Z_JiLSio61"
      },
      "source": [
        "from nltk.tokenize import word_tokenize\n",
        "\n",
        "from nltk.corpus import PlaintextCorpusReader\n",
        "from sklearn.feature_extraction.text import CountVectorizer\n",
        "from nltk.corpus import stopwords\n",
        "from string import punctuation\n",
        "import pickle\n",
        "from collections import defaultdict\n",
        "import pandas as pd\n",
        "import numpy as np\n",
        "import nltk\n",
        "import re"
      ],
      "execution_count": null,
      "outputs": []
    },
    {
      "cell_type": "code",
      "metadata": {
        "id": "uJZB-0EX-UvV",
        "colab": {
          "base_uri": "https://localhost:8080/"
        },
        "outputId": "269ee45d-ee39-449c-8960-2df0e13b4962"
      },
      "source": [
        "from google.colab import drive\n",
        "drive.mount('/content/drive')\n",
        "\n",
        "path = '/content/drive/MyDrive/Colab Notebooks/nlp/hw1-harry-potter'"
      ],
      "execution_count": null,
      "outputs": [
        {
          "output_type": "stream",
          "name": "stdout",
          "text": [
            "Drive already mounted at /content/drive; to attempt to forcibly remount, call drive.mount(\"/content/drive\", force_remount=True).\n"
          ]
        }
      ]
    },
    {
      "cell_type": "code",
      "metadata": {
        "id": "aYBcWYai97Zp"
      },
      "source": [
        "import os\n",
        "from nltk.corpus.reader.plaintext import PlaintextCorpusReader\n",
        "\n",
        "corpusdir = path + '/hpac_lower_tokenized/hpac_source/' # Directory of corpus.\n",
        "files = os.listdir(corpusdir)\n",
        "\n",
        "hpac_corpus = PlaintextCorpusReader(corpusdir, files)"
      ],
      "execution_count": null,
      "outputs": []
    },
    {
      "cell_type": "code",
      "metadata": {
        "id": "Hb1cz3V9_uPP",
        "colab": {
          "base_uri": "https://localhost:8080/"
        },
        "outputId": "d39dd531-33a1-4dd9-bd9a-04484a7c4fbe"
      },
      "source": [
        "nltk.download('wordnet')\n",
        "nltk.download('stopwords')\n",
        "nltk.download('punkt')\n",
        "\n",
        "stops = list(punctuation) + ['``', \"\\'\\'\", '...', '--', '.']\n",
        "noise = set(stopwords.words('english') + stops)"
      ],
      "execution_count": null,
      "outputs": [
        {
          "output_type": "stream",
          "name": "stdout",
          "text": [
            "[nltk_data] Downloading package wordnet to /root/nltk_data...\n",
            "[nltk_data]   Package wordnet is already up-to-date!\n",
            "[nltk_data] Downloading package stopwords to /root/nltk_data...\n",
            "[nltk_data]   Package stopwords is already up-to-date!\n",
            "[nltk_data] Downloading package punkt to /root/nltk_data...\n",
            "[nltk_data]   Package punkt is already up-to-date!\n"
          ]
        }
      ]
    },
    {
      "cell_type": "code",
      "metadata": {
        "id": "qlnOpWwHf6LN"
      },
      "source": [
        "noise"
      ],
      "execution_count": null,
      "outputs": []
    },
    {
      "cell_type": "code",
      "metadata": {
        "id": "tmilrcU7056q"
      },
      "source": [
        "clear_corpus = []\n",
        "counter_dict = defaultdict(int)\n",
        "\n",
        "for i in hpac_corpus.words():\n",
        "    if i in noise:\n",
        "        continue\n",
        "    clear_corpus.append(i)\n",
        "    counter_dict[i] += 1"
      ],
      "execution_count": null,
      "outputs": []
    },
    {
      "cell_type": "code",
      "metadata": {
        "id": "5cgF6IizXycV"
      },
      "source": [
        "with open('/content/clear_corp.pkl', 'wb') as f:\n",
        "    pickle.dump(clear_corpus, f)"
      ],
      "execution_count": null,
      "outputs": []
    },
    {
      "cell_type": "code",
      "metadata": {
        "id": "m4ijOZDb7RMr"
      },
      "source": [
        "counter_dict = sorted(counter_dict.items(), key=lambda x: -x[1])\n",
        "\n",
        "with open('/content/word_dict.pkl', 'wb') as f:\n",
        "    pickle.dump(counter_dict, f)"
      ],
      "execution_count": null,
      "outputs": []
    },
    {
      "cell_type": "code",
      "metadata": {
        "id": "ZzJGxAOQCxOQ"
      },
      "source": [
        "'''import pickle\n",
        "with open('/content/word_dict.pkl', 'rb') as f:\n",
        "    counter_dict = pickle.load(f)'''"
      ],
      "execution_count": null,
      "outputs": []
    },
    {
      "cell_type": "markdown",
      "metadata": {
        "id": "Klc9MRM17_lu"
      },
      "source": [
        "Вообще, очень сомневаюсь, что n на самом деле можем считать полноценным словом, и, если честно, не понимаю, откуда оно взялось -- '\\\\n' без '\\\\'?\n",
        "\n",
        "Но, очевидно, Драко любят больше, чем Рона (что не заслужено!), мальчиком-который-выжил на (потенциально) первом месте никого не удивишь, однако действительно удивительно, что имя Гарри упоминается даже чаще, чем \"сказал\", \"мог\", \"нравиться\", что выглядит более базовыми словами, чем имя, если честно. Интересна позиция \"back\", которое, на мой взгляд, вызывает больше всего вопросов (вроде \"откуда?\", \"почему?\", \"какой контекст?\")."
      ]
    },
    {
      "cell_type": "code",
      "metadata": {
        "colab": {
          "base_uri": "https://localhost:8080/"
        },
        "id": "FdwWNKTm7bK3",
        "outputId": "5e349fe9-78a6-4b6c-9546-019e43412a95"
      },
      "source": [
        "counter_dict[:10]"
      ],
      "execution_count": null,
      "outputs": [
        {
          "output_type": "execute_result",
          "data": {
            "text/plain": [
              "[('n', 782681),\n",
              " ('harry', 716841),\n",
              " ('said', 424704),\n",
              " ('would', 344465),\n",
              " ('hermione', 308243),\n",
              " ('could', 304952),\n",
              " ('one', 253960),\n",
              " ('back', 250893),\n",
              " ('draco', 249950),\n",
              " ('like', 226075)]"
            ]
          },
          "metadata": {},
          "execution_count": 12
        }
      ]
    },
    {
      "cell_type": "markdown",
      "metadata": {
        "id": "A7QJcQZo4PGw"
      },
      "source": [
        "## Names?"
      ]
    },
    {
      "cell_type": "markdown",
      "metadata": {
        "id": "a99BIAr74hU5"
      },
      "source": [
        "Нашли список имен в Гарри Поттере (впрочем, например, если в фанфиках есть ориджиналы, они останутся вне статистики, если только они не чьи-то родственники или тёзки) -- https://gist.github.com/arnav-t/0a86a6d90e04c2beb6e2c3a1a2c3eca7"
      ]
    },
    {
      "cell_type": "code",
      "metadata": {
        "colab": {
          "base_uri": "https://localhost:8080/",
          "height": 204
        },
        "id": "MyIWBl6e4QrP",
        "outputId": "a33b98d2-42d3-4bd1-8019-c50a12990f4f"
      },
      "source": [
        "names_df = pd.read_csv(path + '/hp_names.tsv', sep=' ', names=['name', 'surname', '_', '__'])\n",
        "names_df = names_df.drop(['_', '__'], axis=1) # так сделано потому что есть столбцы с \"в девичестве %фамилия%\"\n",
        "names_df.head()"
      ],
      "execution_count": null,
      "outputs": [
        {
          "output_type": "execute_result",
          "data": {
            "text/html": [
              "<div>\n",
              "<style scoped>\n",
              "    .dataframe tbody tr th:only-of-type {\n",
              "        vertical-align: middle;\n",
              "    }\n",
              "\n",
              "    .dataframe tbody tr th {\n",
              "        vertical-align: top;\n",
              "    }\n",
              "\n",
              "    .dataframe thead th {\n",
              "        text-align: right;\n",
              "    }\n",
              "</style>\n",
              "<table border=\"1\" class=\"dataframe\">\n",
              "  <thead>\n",
              "    <tr style=\"text-align: right;\">\n",
              "      <th></th>\n",
              "      <th>name</th>\n",
              "      <th>surname</th>\n",
              "    </tr>\n",
              "  </thead>\n",
              "  <tbody>\n",
              "    <tr>\n",
              "      <th>0</th>\n",
              "      <td>Mrs</td>\n",
              "      <td>Abbott</td>\n",
              "    </tr>\n",
              "    <tr>\n",
              "      <th>1</th>\n",
              "      <td>Hannah</td>\n",
              "      <td>Abbott</td>\n",
              "    </tr>\n",
              "    <tr>\n",
              "      <th>2</th>\n",
              "      <td>Euan</td>\n",
              "      <td>Abercrombie</td>\n",
              "    </tr>\n",
              "    <tr>\n",
              "      <th>3</th>\n",
              "      <td>Stewart</td>\n",
              "      <td>Ackerley</td>\n",
              "    </tr>\n",
              "    <tr>\n",
              "      <th>4</th>\n",
              "      <td>Falco</td>\n",
              "      <td>Aesalon</td>\n",
              "    </tr>\n",
              "  </tbody>\n",
              "</table>\n",
              "</div>"
            ],
            "text/plain": [
              "      name      surname\n",
              "0      Mrs       Abbott\n",
              "1   Hannah       Abbott\n",
              "2     Euan  Abercrombie\n",
              "3  Stewart     Ackerley\n",
              "4    Falco      Aesalon"
            ]
          },
          "metadata": {},
          "execution_count": 12
        }
      ]
    },
    {
      "cell_type": "code",
      "metadata": {
        "id": "zbAJdTOZ_FO0"
      },
      "source": [
        "names_df.replace('Mrs', np.NaN, inplace=True)\n",
        "names_df.replace('Mr', np.NaN, inplace=True)"
      ],
      "execution_count": null,
      "outputs": []
    },
    {
      "cell_type": "code",
      "metadata": {
        "id": "4un5vvaq9STt"
      },
      "source": [
        "names = list(names_df['name'].dropna().str.lower())"
      ],
      "execution_count": null,
      "outputs": []
    },
    {
      "cell_type": "code",
      "metadata": {
        "id": "JCipwD6Q_o-f"
      },
      "source": [
        "names"
      ],
      "execution_count": null,
      "outputs": []
    },
    {
      "cell_type": "code",
      "metadata": {
        "id": "YsiVqec5-OXm"
      },
      "source": [
        "names_dict = defaultdict(int)\n",
        "for i in names:\n",
        "    if i == 'professor':\n",
        "        continue\n",
        "    try:\n",
        "        names_dict[i] = dict(counter_dict)[i]\n",
        "    except:\n",
        "        names_dict[i] = 0"
      ],
      "execution_count": null,
      "outputs": []
    },
    {
      "cell_type": "code",
      "metadata": {
        "id": "GEKJ0ggm-YGg"
      },
      "source": [
        "top_10_names = sorted(names_dict.items(), key=lambda x: x[1], reverse=True)[:10]"
      ],
      "execution_count": null,
      "outputs": []
    },
    {
      "cell_type": "markdown",
      "metadata": {
        "id": "DxGrWaqtKuJR"
      },
      "source": [
        "Выглядит как будто у нас в выборке на самом деле очень много фанфиков по мародёрам и/или по детям golden trio (хотя лично я предпочитаю Сириуса Блэка), потому что имена старших упоминаются сопоставимо часто (чаще Невилла, Луны/Полумны, etc.)"
      ]
    },
    {
      "cell_type": "code",
      "metadata": {
        "colab": {
          "base_uri": "https://localhost:8080/"
        },
        "id": "5k0XtdwgB-Jg",
        "outputId": "b2ff6a7d-eb4f-46d3-aead-4e94d11b6a67"
      },
      "source": [
        "top_10_names"
      ],
      "execution_count": null,
      "outputs": [
        {
          "output_type": "execute_result",
          "data": {
            "text/plain": [
              "[('harry', 716841),\n",
              " ('hermione', 308243),\n",
              " ('draco', 249950),\n",
              " ('ron', 153761),\n",
              " ('sirius', 121485),\n",
              " ('severus', 116257),\n",
              " ('ginny', 111957),\n",
              " ('james', 84119),\n",
              " ('lily', 79696),\n",
              " ('remus', 77606)]"
            ]
          },
          "metadata": {},
          "execution_count": 21
        }
      ]
    },
    {
      "cell_type": "markdown",
      "metadata": {
        "id": "svB-FBwaMQQ6"
      },
      "source": [
        "## Names + surnames"
      ]
    },
    {
      "cell_type": "code",
      "metadata": {
        "id": "ZSbLdZN6B_uk"
      },
      "source": [
        "from nltk.util import ngrams"
      ],
      "execution_count": null,
      "outputs": []
    },
    {
      "cell_type": "code",
      "metadata": {
        "id": "QLiG2eQBMWEx"
      },
      "source": [
        "surname = names_df.dropna()['surname'].str.lower() \n",
        "name = names_df.dropna()['name'].str.lower()\n",
        "\n",
        "ns = list(name + ' ' + surname)"
      ],
      "execution_count": null,
      "outputs": []
    },
    {
      "cell_type": "code",
      "metadata": {
        "colab": {
          "base_uri": "https://localhost:8080/"
        },
        "id": "x7JBZ-x1Nevt",
        "outputId": "d0aefe72-e9f9-4bc5-da11-cfa739fa4fcf"
      },
      "source": [
        "'harry potter' in ns"
      ],
      "execution_count": null,
      "outputs": [
        {
          "output_type": "execute_result",
          "data": {
            "text/plain": [
              "True"
            ]
          },
          "metadata": {},
          "execution_count": 41
        }
      ]
    },
    {
      "cell_type": "code",
      "metadata": {
        "colab": {
          "base_uri": "https://localhost:8080/"
        },
        "id": "7GosL7U8Notv",
        "outputId": "7ce218c4-de19-4081-fe65-c1763ad16b9b"
      },
      "source": [
        "'hermione granger' in ns"
      ],
      "execution_count": null,
      "outputs": [
        {
          "output_type": "execute_result",
          "data": {
            "text/plain": [
              "True"
            ]
          },
          "metadata": {},
          "execution_count": 45
        }
      ]
    },
    {
      "cell_type": "code",
      "metadata": {
        "id": "UDjY2NsmX5WP"
      },
      "source": [
        "with open('/content/clear_corp.pkl', 'rb') as f:\n",
        "    clear_corpus = pickle.load(f)"
      ],
      "execution_count": null,
      "outputs": []
    },
    {
      "cell_type": "code",
      "metadata": {
        "id": "2JIQaX7vPudg"
      },
      "source": [
        "top_fn = defaultdict(int)\n",
        "\n",
        "bigrams = list(ngrams(clear_corpus, 2))\n"
      ],
      "execution_count": null,
      "outputs": []
    },
    {
      "cell_type": "code",
      "metadata": {
        "colab": {
          "base_uri": "https://localhost:8080/"
        },
        "id": "6DWCtUO9acH_",
        "outputId": "3d1b3ec9-59ea-4dbc-caf9-d6d37962f10a"
      },
      "source": [
        "for gram in bigrams:\n",
        "    gram1 = gram[0] + ' ' + gram[1]\n",
        "    gram2 = gram[1] + ' ' + gram[0]\n",
        "    if gram1 in ns or gram2 in ns:\n",
        "        top_fn[gram1] += 1\n",
        "\n",
        "top_fn"
      ],
      "execution_count": null,
      "outputs": [
        {
          "output_type": "execute_result",
          "data": {
            "text/plain": [
              "defaultdict(int,\n",
              "            {'abbott hannah': 21,\n",
              "             'abercrombie euan': 4,\n",
              "             'aberforth dumbledore': 125,\n",
              "             'abraxas malfoy': 201,\n",
              "             'ackerley stewart': 2,\n",
              "             'adalbert waffling': 15,\n",
              "             'adrian pucey': 151,\n",
              "             'agatha timms': 1,\n",
              "             'aidan lynch': 7,\n",
              "             'alastor moody': 632,\n",
              "             'alberic grunnion': 1,\n",
              "             'albus dumbledore': 3993,\n",
              "             'albus severus': 412,\n",
              "             'alecto carrow': 207,\n",
              "             'algie longbottom': 7,\n",
              "             'ali bashir': 2,\n",
              "             'alice longbottom': 302,\n",
              "             'alicia spinnet': 149,\n",
              "             'alphard black': 16,\n",
              "             'ambrosius flume': 5,\n",
              "             'amelia susan': 66,\n",
              "             'amos diggory': 166,\n",
              "             'amy benson': 5,\n",
              "             'amycus carrow': 212,\n",
              "             'andrew kirke': 10,\n",
              "             'andromeda black': 82,\n",
              "             'andromeda tonks': 270,\n",
              "             'angelina johnson': 214,\n",
              "             'angus fleet': 3,\n",
              "             'anthony goldstein': 167,\n",
              "             'antioch peverell': 12,\n",
              "             'antonin dolohov': 211,\n",
              "             'apolline delacour': 7,\n",
              "             'apollyon pringle': 19,\n",
              "             'arabella figg': 147,\n",
              "             'archibald alderton': 1,\n",
              "             'arcturus black': 84,\n",
              "             'arcturus regulus': 1,\n",
              "             'argus filch': 147,\n",
              "             'ariana dumbledore': 29,\n",
              "             'arkie philpott': 1,\n",
              "             'armando dippet': 43,\n",
              "             'arnold peasegood': 10,\n",
              "             'arsenius jigger': 21,\n",
              "             'artemisia lufkin': 3,\n",
              "             'arthur weasley': 1237,\n",
              "             'arthur william': 3,\n",
              "             'astoria greengrass': 266,\n",
              "             'aubrey bertram': 1,\n",
              "             'audrey weasley': 4,\n",
              "             'augusta longbottom': 197,\n",
              "             'augustus pye': 10,\n",
              "             'augustus rookwood': 103,\n",
              "             'aunt great': 3,\n",
              "             'aurora sinistra': 60,\n",
              "             'baddock malcolm': 2,\n",
              "             'bagshot bathilda': 2,\n",
              "             'barnabas cuffe': 8,\n",
              "             'basil horton': 5,\n",
              "             'bathilda bagshot': 86,\n",
              "             'bathsheda babbling': 6,\n",
              "             'bell katie': 5,\n",
              "             'bellatrix black': 291,\n",
              "             'bellatrix lestrange': 1815,\n",
              "             'belvina black': 2,\n",
              "             'benjy fenwick': 53,\n",
              "             'bertha jorkins': 142,\n",
              "             'bertie bott': 120,\n",
              "             'bertie higgs': 3,\n",
              "             'bertram aubrey': 14,\n",
              "             'bertrand de': 4,\n",
              "             'betty braithwaite': 2,\n",
              "             'billy stubbs': 7,\n",
              "             'black alphard': 1,\n",
              "             'black andromeda': 17,\n",
              "             'black arcturus': 4,\n",
              "             'black bellatrix': 36,\n",
              "             'black callidora': 2,\n",
              "             'black cassiopeia': 1,\n",
              "             'black cedrella': 1,\n",
              "             'black cygnus': 5,\n",
              "             'black dorea': 7,\n",
              "             'black druella': 4,\n",
              "             'black irma': 1,\n",
              "             'black narcissa': 23,\n",
              "             'black orion': 4,\n",
              "             'black phineas': 2,\n",
              "             'black pollux': 1,\n",
              "             'black regulus': 27,\n",
              "             'black sirius': 331,\n",
              "             'black walburga': 5,\n",
              "             'blaise zabini': 899,\n",
              "             'bletchley miles': 1,\n",
              "             'bob ogden': 26,\n",
              "             'bones edgar': 1,\n",
              "             'bones susan': 37,\n",
              "             'boot terry': 7,\n",
              "             'bowman wright': 3,\n",
              "             'branstone eleanor': 2,\n",
              "             'bridget wenlock': 3,\n",
              "             'brocklehurst mandy': 6,\n",
              "             'broderick bode': 8,\n",
              "             'brown lavender': 17,\n",
              "             'brutus malfoy': 8,\n",
              "             'brutus scrimgeour': 1,\n",
              "             'bulstrode millicent': 6,\n",
              "             'burbage charity': 1,\n",
              "             'burdock muldoon': 2,\n",
              "             'cadmus peverell': 20,\n",
              "             'callidora black': 11,\n",
              "             'callidora longbottom': 2,\n",
              "             'caradoc dearborn': 62,\n",
              "             'carlotta pinkstone': 3,\n",
              "             'carrow alecto': 2,\n",
              "             'carrow amycus': 3,\n",
              "             'caspar crouch': 28,\n",
              "             'cassandra trelawney': 21,\n",
              "             'cassandra vablatsky': 8,\n",
              "             'cassiopeia black': 17,\n",
              "             'catriona mccormack': 1,\n",
              "             'cattermole mary': 1,\n",
              "             'cauldwell owen': 2,\n",
              "             'cedrella black': 5,\n",
              "             'cedrella weasley': 7,\n",
              "             'cedric diggory': 689,\n",
              "             'celestina warbeck': 96,\n",
              "             'chang cho': 6,\n",
              "             'charis black': 4,\n",
              "             'charity burbage': 59,\n",
              "             'charlie weasley': 382,\n",
              "             'charlus potter': 86,\n",
              "             'cho chang': 648,\n",
              "             'clearwater penelope': 1,\n",
              "             'colin creevey': 351,\n",
              "             'colonel fubster': 4,\n",
              "             'cormac mclaggen': 178,\n",
              "             'cornelius agrippa': 3,\n",
              "             'cornelius oswald': 23,\n",
              "             'corner michael': 5,\n",
              "             'crabbe sr': 38,\n",
              "             'crabbe vincent': 6,\n",
              "             'creevey colin': 5,\n",
              "             'creevey dennis': 13,\n",
              "             'crouch charis': 1,\n",
              "             'cuthbert binns': 17,\n",
              "             'cuthbert mockridge': 17,\n",
              "             'cygnus black': 29,\n",
              "             'daisy dodderidge': 2,\n",
              "             'dangerous dai': 3,\n",
              "             'daphne greengrass': 487,\n",
              "             'davies roger': 1,\n",
              "             'davy gudgeon': 9,\n",
              "             'dawlish john': 2,\n",
              "             'dean thomas': 641,\n",
              "             'dearborn caradoc': 1,\n",
              "             'dedalus diggle': 100,\n",
              "             'delacour fleur': 25,\n",
              "             'delacour gabrielle': 5,\n",
              "             'delacour monsieur': 2,\n",
              "             'demelza robins': 33,\n",
              "             'dennis bishop': 5,\n",
              "             'dennis creevey': 132,\n",
              "             'derwent dilys': 1,\n",
              "             'derwent shimpling': 1,\n",
              "             'devlin whitehorn': 2,\n",
              "             'dexter fortescue': 3,\n",
              "             'diggory amos': 7,\n",
              "             'diggory cedric': 12,\n",
              "             'dilys derwent': 22,\n",
              "             'dirk cresswell': 21,\n",
              "             'dolohov antonin': 3,\n",
              "             'dolores jane': 60,\n",
              "             'dominique weasley': 34,\n",
              "             'donaghan tremlett': 3,\n",
              "             'dorcas meadowes': 49,\n",
              "             'dorea black': 39,\n",
              "             'doris crockford': 2,\n",
              "             'draco malfoy': 8740,\n",
              "             'druella black': 34,\n",
              "             'druella rosier': 14,\n",
              "             'dudley dursley': 127,\n",
              "             'dumbledore aberforth': 7,\n",
              "             'dumbledore albus': 83,\n",
              "             'dumbledore ariana': 1,\n",
              "             'duncan inglebee': 1,\n",
              "             'dursley dudley': 13,\n",
              "             'dursley petunia': 16,\n",
              "             'dursley vernon': 8,\n",
              "             'dzou yen': 1,\n",
              "             'eddie carmichael': 18,\n",
              "             'edgar bones': 79,\n",
              "             'edgecombe marietta': 1,\n",
              "             'eileen prince': 111,\n",
              "             'eileen snape': 60,\n",
              "             'eldred worple': 11,\n",
              "             'eleanor branstone': 7,\n",
              "             'elladora black': 7,\n",
              "             'elladora guffy': 1,\n",
              "             'elladora ketteridge': 1,\n",
              "             'eloise midgen': 22,\n",
              "             'elphias doge': 78,\n",
              "             'emeric switch': 15,\n",
              "             'emma dobbs': 5,\n",
              "             'emmeline vance': 144,\n",
              "             'eric munch': 2,\n",
              "             'ernie macmillan': 252,\n",
              "             'ernie prang': 8,\n",
              "             'euan abercrombie': 20,\n",
              "             'eunice murray': 2,\n",
              "             'evan rosier': 140,\n",
              "             'evans lily': 143,\n",
              "             'evans mark': 3,\n",
              "             'evans petunia': 6,\n",
              "             'fabian prewett': 84,\n",
              "             'falco aesalon': 9,\n",
              "             'fenrir greyback': 539,\n",
              "             'fenwick benjy': 1,\n",
              "             'fifi lafolle': 14,\n",
              "             'figg arabella': 2,\n",
              "             'filch argus': 2,\n",
              "             'filius flitwick': 151,\n",
              "             'finnigan seamus': 8,\n",
              "             'flamel nicolas': 1,\n",
              "             'flamel perenelle': 4,\n",
              "             'flavius belby': 2,\n",
              "             'fleur delacour': 362,\n",
              "             'fleur weasley': 64,\n",
              "             'flint marcus': 16,\n",
              "             'flitwick filius': 7,\n",
              "             'florean fortescue': 126,\n",
              "             'food trolley': 17,\n",
              "             'frank bryce': 17,\n",
              "             'frank longbottom': 367,\n",
              "             'fred weasley': 496,\n",
              "             'fulbert fearful': 3,\n",
              "             'gabrielle delacour': 66,\n",
              "             'galatea merrythought': 1,\n",
              "             'gaspard shingleton': 1,\n",
              "             'gaunt marvolo': 2,\n",
              "             'gaunt merope': 3,\n",
              "             'gaunt morfin': 3,\n",
              "             'gawain robards': 46,\n",
              "             'gellert grindelwald': 197,\n",
              "             'geoffrey hooper': 5,\n",
              "             'george weasley': 701,\n",
              "             'giant squid': 436,\n",
              "             'gideon prewett': 61,\n",
              "             'gilbert wimple': 3,\n",
              "             'gilderoy lockhart': 449,\n",
              "             'ginevra molly': 126,\n",
              "             'ginny potter': 223,\n",
              "             'gladys gudgeon': 5,\n",
              "             'glenda chittock': 1,\n",
              "             'glynnis griffiths': 2,\n",
              "             'godric gryffindor': 521,\n",
              "             'goshawk miranda': 1,\n",
              "             'goyle gregory': 6,\n",
              "             'goyle sr': 46,\n",
              "             'graham pritchard': 20,\n",
              "             'granger hermione': 630,\n",
              "             'grant page': 2,\n",
              "             'great aunt': 188,\n",
              "             'greengrass astoria': 16,\n",
              "             'greengrass daphne': 33,\n",
              "             'gregory goyle': 232,\n",
              "             'greyback fenrir': 4,\n",
              "             'grindelwald gellert': 6,\n",
              "             'griselda marchbanks': 34,\n",
              "             'grogan stump': 5,\n",
              "             'gryffindor godric': 10,\n",
              "             'gudgeon davy': 1,\n",
              "             'gudgeon gladys': 1,\n",
              "             'gulliver pokeby': 2,\n",
              "             'gunhilda gorsemoor': 2,\n",
              "             'gwendolyn morgan': 1,\n",
              "             'gwenog jones': 77,\n",
              "             'hagrid rubeus': 5,\n",
              "             'hannah abbott': 282,\n",
              "             'hannah longbottom': 10,\n",
              "             'harold dingle': 2,\n",
              "             'harry potter': 23804,\n",
              "             'hassan mostafa': 13,\n",
              "             'hector granger': 1,\n",
              "             'helga hufflepuff': 239,\n",
              "             'hepzibah smith': 54,\n",
              "             'herbert chorley': 1,\n",
              "             'herman wintringham': 2,\n",
              "             'hermione granger': 5695,\n",
              "             'hermione weasley': 171,\n",
              "             'hesper gamp': 2,\n",
              "             'hestia jones': 202,\n",
              "             'hetty bayliss': 3,\n",
              "             'higgs terence': 1,\n",
              "             'hippocrates smethwyck': 3,\n",
              "             'honoria nutcombe': 1,\n",
              "             'hooch rolanda': 2,\n",
              "             'horace slughorn': 221,\n",
              "             'hugo weasley': 25,\n",
              "             'humphrey belcher': 1,\n",
              "             'ignatia wildsmith': 1,\n",
              "             'ignatius prewett': 8,\n",
              "             'ignotus peverell': 34,\n",
              "             'igor karkaroff': 149,\n",
              "             'inigo imago': 4,\n",
              "             'irma black': 1,\n",
              "             'irma crabbe': 1,\n",
              "             'irma pince': 16,\n",
              "             'isla black': 2,\n",
              "             'ivor dillonsby': 3,\n",
              "             'jack sloper': 26,\n",
              "             'james potter': 5457,\n",
              "             'james sirius': 2245,\n",
              "             'janus thickey': 66,\n",
              "             'jim mcguffin': 1,\n",
              "             'jimmy peakes': 38,\n",
              "             'jocunda sykes': 1,\n",
              "             'joey jenkins': 1,\n",
              "             'john dawlish': 35,\n",
              "             'john remus': 9,\n",
              "             'johnson angelina': 8,\n",
              "             'jones gwenog': 4,\n",
              "             'jones hestia': 1,\n",
              "             'jordan lee': 10,\n",
              "             'jorkins bertha': 4,\n",
              "             'justus pilliwickle': 2,\n",
              "             'karkaroff igor': 4,\n",
              "             'katie bell': 410,\n",
              "             'kendra dumbledore': 3,\n",
              "             'kenneth towler': 14,\n",
              "             'kennilworthy whisp': 1,\n",
              "             'kevin whitby': 6,\n",
              "             'kingsley shacklebolt': 789,\n",
              "             'kirley duke': 8,\n",
              "             'krum viktor': 7,\n",
              "             'laura madley': 13,\n",
              "             'lavender brown': 662,\n",
              "             'lee jordan': 513,\n",
              "             'lestrange bellatrix': 32,\n",
              "             'lestrange rabastan': 16,\n",
              "             'lestrange rodolphus': 19,\n",
              "             'libatius borage': 9,\n",
              "             'lily evans': 1923,\n",
              "             'lily luna': 99,\n",
              "             'lily potter': 1395,\n",
              "             'lisa turpin': 91,\n",
              "             'lockhart gilderoy': 7,\n",
              "             'longbottom alice': 13,\n",
              "             'longbottom augusta': 2,\n",
              "             'longbottom frank': 14,\n",
              "             'longbottom hannah': 5,\n",
              "             'longbottom neville': 92,\n",
              "             'lorcan scamander': 20,\n",
              "             'lord stoddard': 1,\n",
              "             'lord voldemort': 5023,\n",
              "             'louis weasley': 23,\n",
              "             'lovegood luna': 54,\n",
              "             'lovegood xenophilius': 3,\n",
              "             'lucius malfoy': 4593,\n",
              "             'lucretia black': 8,\n",
              "             'lucretia prewett': 3,\n",
              "             'lucy weasley': 23,\n",
              "             'ludovic bagman': 5,\n",
              "             'luna lily': 8,\n",
              "             'luna lovegood': 1211,\n",
              "             'luna scamander': 8,\n",
              "             'lysander scamander': 35,\n",
              "             'lysandra black': 2,\n",
              "             'lysandra yaxley': 3,\n",
              "             'macdonald mary': 2,\n",
              "             'macdougal morag': 4,\n",
              "             'macmillan ernie': 4,\n",
              "             'macnair walden': 1,\n",
              "             'madam edgecombe': 9,\n",
              "             'madam malkin': 361,\n",
              "             'madam marsh': 3,\n",
              "             'madam puddifoot': 122,\n",
              "             'madam rosmerta': 310,\n",
              "             'madley laura': 1,\n",
              "             'mafalda hopkirk': 39,\n",
              "             'malcolm baddock': 21,\n",
              "             'malfoy abraxas': 6,\n",
              "             'malfoy draco': 894,\n",
              "             'malfoy lucius': 118,\n",
              "             'malfoy narcissa': 69,\n",
              "             'mandy brocklehurst': 51,\n",
              "             'marcus belby': 15,\n",
              "             'marcus flint': 339,\n",
              "             'marietta edgecombe': 62,\n",
              "             'marius black': 4,\n",
              "             'marjorie dursley': 6,\n",
              "             'mark evans': 12,\n",
              "             'marlene mckinnon': 152,\n",
              "             'marvolo gaunt': 42,\n",
              "             'marvolo tom': 1,\n",
              "             'mary cattermole': 5,\n",
              "             'mary macdonald': 93,\n",
              "             'maxime olympe': 3,\n",
              "             'mcdonald natalie': 1,\n",
              "             'mcgonagall minerva': 42,\n",
              "             'mckinnon marlene': 7,\n",
              "             'mclaggen cormac': 6,\n",
              "             'meadowes dorcas': 2,\n",
              "             'melania black': 1,\n",
              "             'melinda bobbin': 3,\n",
              "             'merope gaunt': 103,\n",
              "             'merton graves': 1,\n",
              "             'michael corner': 285,\n",
              "             'miles bletchley': 42,\n",
              "             'millicent bagnold': 28,\n",
              "             'millicent bulstrode': 202,\n",
              "             'minerva mcgonagall': 1268,\n",
              "             'miranda goshawk': 31,\n",
              "             'miriam strout': 5,\n",
              "             'mnemone radford': 1,\n",
              "             'moaning myrtle': 525,\n",
              "             'molly ginevra': 3,\n",
              "             'molly prewett': 37,\n",
              "             'molly weasley': 1637,\n",
              "             'monsieur delacour': 25,\n",
              "             'montgomery sisters': 2,\n",
              "             'moody alastor': 15,\n",
              "             'morag macdougal': 39,\n",
              "             'mordicus egg': 1,\n",
              "             'morfin gaunt': 31,\n",
              "             'mundungus fletcher': 199,\n",
              "             'mungo bonham': 3,\n",
              "             'myron wagtail': 22,\n",
              "             'myrtle moaning': 4,\n",
              "             'narcissa black': 190,\n",
              "             'narcissa malfoy': 1006,\n",
              "             'natalie mcdonald': 6,\n",
              "             'neville longbottom': 1522,\n",
              "             'newton artemis': 1,\n",
              "             'nicolas flamel': 135,\n",
              "             'nobby leach': 5,\n",
              "             'nott sr': 26,\n",
              "             'nott theodore': 11,\n",
              "             'nymphadora tonks': 488,\n",
              "             'octavius pepper': 2,\n",
              "             'ogden tiberius': 2,\n",
              "             'olive hornby': 23,\n",
              "             'oliver wood': 562,\n",
              "             'olympe maxime': 22,\n",
              "             'orion black': 322,\n",
              "             'orla quirke': 12,\n",
              "             'orsino thruston': 2,\n",
              "             'owen cauldwell': 13,\n",
              "             'padma patil': 230,\n",
              "             'pansy parkinson': 1044,\n",
              "             'parkinson pansy': 30,\n",
              "             'parvati patil': 247,\n",
              "             'patil padma': 10,\n",
              "             'patil parvati': 14,\n",
              "             'patricia stimpson': 11,\n",
              "             'peakes jimmy': 1,\n",
              "             'penelope clearwater': 112,\n",
              "             'percival dumbledore': 4,\n",
              "             'percy ignatius': 18,\n",
              "             'perenelle flamel': 40,\n",
              "             'peter pettigrew': 1564,\n",
              "             'pettigrew peter': 47,\n",
              "             'petunia dursley': 213,\n",
              "             'petunia evans': 65,\n",
              "             'peverell antioch': 2,\n",
              "             'peverell cadmus': 1,\n",
              "             'peverell ignotus': 3,\n",
              "             'philbert deverill': 2,\n",
              "             'phineas black': 30,\n",
              "             'phineas nigellus': 98,\n",
              "             'phyllida spore': 14,\n",
              "             'pierre bonaccord': 2,\n",
              "             'piers polkiss': 30,\n",
              "             'pince irma': 2,\n",
              "             'pius thicknesse': 133,\n",
              "             'polkiss piers': 1,\n",
              "             'pollux black': 13,\n",
              "             'pomfrey poppy': 8,\n",
              "             'pomona sprout': 137,\n",
              "             'poppy pomfrey': 244,\n",
              "             'potter charlus': 7,\n",
              "             'potter ginny': 176,\n",
              "             'potter harry': 1981,\n",
              "             'potter james': 202,\n",
              "             'potter lily': 379,\n",
              "             'prang ernie': 1,\n",
              "             'prewett fabian': 1,\n",
              "             'prewett gideon': 3,\n",
              "             'prewett lucretia': 1,\n",
              "             'prewett molly': 5,\n",
              "             'prince eileen': 2,\n",
              "             'pritchard graham': 2,\n",
              "             'professor tofty': 49,\n",
              "             'pucey adrian': 4,\n",
              "             'quentin trimble': 11,\n",
              "             'quirinus quirrell': 22,\n",
              "             'quirke orla': 2,\n",
              "             'rabastan lestrange': 162,\n",
              "             'ragmar dorkins': 4,\n",
              "             'ravenclaw rowena': 12,\n",
              "             'reginald cattermole': 2,\n",
              "             'regulus arcturus': 43,\n",
              "             'regulus black': 414,\n",
              "             'remus john': 132,\n",
              "             'remus teddy': 28,\n",
              "             'riddle tom': 70,\n",
              "             'rita skeeter': 1258,\n",
              "             'ritchie coote': 19,\n",
              "             'roddy pontner': 1,\n",
              "             'roderick plumpton': 1,\n",
              "             'rodolphus lestrange': 209,\n",
              "             'roger davies': 101,\n",
              "             'rolanda hooch': 51,\n",
              "             'rolf scamander': 37,\n",
              "             'romilda vane': 144,\n",
              "             'ron weasley': 1906,\n",
              "             'rookwood augustus': 2,\n",
              "             'rose weasley': 400,\n",
              "             'rose zeller': 7,\n",
              "             'rosier evan': 4,\n",
              "             'rowena ravenclaw': 376,\n",
              "             'roxanne weasley': 24,\n",
              "             'royden poke': 2,\n",
              "             'rubeus hagrid': 170,\n",
              "             'rufus scrimgeour': 239,\n",
              "             'salazar slytherin': 966,\n",
              "             'scamander luna': 4,\n",
              "             'scamander lysander': 1,\n",
              "             'scamander rolf': 1,\n",
              "             'scorpius hyperion': 35,\n",
              "             'seamus finnigan': 276,\n",
              "             'septima vector': 32,\n",
              "             'septimus weasley': 41,\n",
              "             'severus albus': 205,\n",
              "             'severus snape': 5812,\n",
              "             'shacklebolt kingsley': 5,\n",
              "             'silvanus kettleburn': 4,\n",
              "             'sinistra aurora': 9,\n",
              "             'sir cadogan': 96,\n",
              "             'sirius black': 5276,\n",
              "             'sirius james': 1218,\n",
              "             'skeeter rita': 7,\n",
              "             'slughorn horace': 3,\n",
              "             'slytherin salazar': 10,\n",
              "             'smith zacharias': 5,\n",
              "             'snape eileen': 8,\n",
              "             'snape severus': 313,\n",
              "             'snape tobias': 8,\n",
              "             'spinnet alicia': 3,\n",
              "             'sprout pomona': 4,\n",
              "             'squid giant': 2,\n",
              "             'sr crabbe': 1,\n",
              "             'sr goyle': 7,\n",
              "             'sr nott': 2,\n",
              "             'stamford jorkins': 6,\n",
              "             'stan shunpike': 62,\n",
              "             'stewart ackerley': 5,\n",
              "             'strout miriam': 1,\n",
              "             'stubby boardman': 19,\n",
              "             'sturgis podmore': 55,\n",
              "             'susan amelia': 27,\n",
              "             'susan bones': 622,\n",
              "             'tarquin mctavish': 7,\n",
              "             'ted tonks': 216,\n",
              "             'teddy remus': 58,\n",
              "             'terence higgs': 43,\n",
              "             'terry boot': 291,\n",
              "             'theodore nott': 574,\n",
              "             'thomas dean': 18,\n",
              "             'thorfinn rowle': 50,\n",
              "             'tiberius ogden': 56,\n",
              "             'tilly toke': 1,\n",
              "             'tobias snape': 238,\n",
              "             'tom marvolo': 542,\n",
              "             'tom riddle': 3264,\n",
              "             'tonks andromeda': 42,\n",
              "             'tonks nymphadora': 18,\n",
              "             'tonks ted': 13,\n",
              "             'trelawney cassandra': 1,\n",
              "             'turpin lisa': 4,\n",
              "             'twycross wilkie': 1,\n",
              "             'urquhart rackharrow': 1,\n",
              "             'ursula black': 1,\n",
              "             'ursula flint': 2,\n",
              "             'valmai morgan': 1,\n",
              "             'vance emmeline': 2,\n",
              "             'vane romilda': 1,\n",
              "             'vector septima': 1,\n",
              "             'vernon dursley': 352,\n",
              "             'victoire weasley': 76,\n",
              "             'victoria frobisher': 3,\n",
              "             'viktor krum': 619,\n",
              "             'vincent crabbe': 167,\n",
              "             'vindictus viridian': 13,\n",
              "             'violetta black': 1,\n",
              "             'violetta bulstrode': 2,\n",
              "             'voldemort lord': 63,\n",
              "             'walburga black': 114,\n",
              "             'walden macnair': 56,\n",
              "             'weasley arthur': 51,\n",
              "             'weasley audrey': 3,\n",
              "             'weasley cedrella': 1,\n",
              "             'weasley charlie': 42,\n",
              "             'weasley dominique': 1,\n",
              "             'weasley fleur': 49,\n",
              "             'weasley fred': 71,\n",
              "             'weasley george': 76,\n",
              "             'weasley hermione': 450,\n",
              "             'weasley hugo': 3,\n",
              "             'weasley louis': 1,\n",
              "             'weasley lucy': 3,\n",
              "             'weasley molly': 77,\n",
              "             'weasley ron': 292,\n",
              "             'weasley rose': 51,\n",
              "             'weasley roxanne': 3,\n",
              "             'weasley victoire': 9,\n",
              "             'whitby kevin': 3,\n",
              "             'wilbert slinkhard': 14,\n",
              "             'wilhelm wigworthy': 1,\n",
              "             'wilkie twycross': 13,\n",
              "             'william arthur': 24,\n",
              "             'willy widdershins': 7,\n",
              "             'wood oliver': 22,\n",
              "             'xenophilius lovegood': 81,\n",
              "             'zabini blaise': 73,\n",
              "             'zacharias smith': 225,\n",
              "             'zeller rose': 6})"
            ]
          },
          "metadata": {},
          "execution_count": 16
        }
      ]
    },
    {
      "cell_type": "markdown",
      "metadata": {
        "id": "0o5_qRYEfI3e"
      },
      "source": [
        "Самое интересное в популярности Люциуса Малфоя. Ну то есть понятно, что Гарри Поттера по ФИ называет Тёмный Лорд и его преспешники, а остальные просто дети, но почему именно Люциус? Самый подходящий персонаж для фанаттских фантазий?"
      ]
    },
    {
      "cell_type": "code",
      "metadata": {
        "colab": {
          "base_uri": "https://localhost:8080/"
        },
        "id": "_GU2TYvLQ8Db",
        "outputId": "3a71a495-091c-4fef-9372-33e665658fe6"
      },
      "source": [
        "top_10_ns = sorted(top_fn.items(), key=lambda x: x[1], reverse=True)[:10]\n",
        "top_10_ns"
      ],
      "execution_count": null,
      "outputs": [
        {
          "output_type": "execute_result",
          "data": {
            "text/plain": [
              "[('harry potter', 23804),\n",
              " ('draco malfoy', 8740),\n",
              " ('severus snape', 5812),\n",
              " ('hermione granger', 5695),\n",
              " ('james potter', 5457),\n",
              " ('sirius black', 5276),\n",
              " ('lord voldemort', 5023),\n",
              " ('lucius malfoy', 4593),\n",
              " ('albus dumbledore', 3993),\n",
              " ('tom riddle', 3264)]"
            ]
          },
          "metadata": {},
          "execution_count": 17
        }
      ]
    },
    {
      "cell_type": "code",
      "metadata": {
        "id": "5ObcQdFyf04O"
      },
      "source": [
        "profs = ['professor' + ' ' + i for i in np.unique(surname)]"
      ],
      "execution_count": null,
      "outputs": []
    },
    {
      "cell_type": "code",
      "metadata": {
        "id": "1KwCcb_UgHiH"
      },
      "source": [
        "profs"
      ],
      "execution_count": null,
      "outputs": []
    },
    {
      "cell_type": "code",
      "metadata": {
        "id": "cwyXDhhkgfpC"
      },
      "source": [
        "top_profs = defaultdict(int)\n",
        "\n",
        "for gram in bigrams:\n",
        "    if gram[0] == 'professor':\n",
        "        gram1 = gram[0] + ' ' + gram[1]\n",
        "        if gram1 in profs:\n",
        "            top_profs[gram1] += 1\n"
      ],
      "execution_count": null,
      "outputs": []
    },
    {
      "cell_type": "markdown",
      "metadata": {
        "id": "YNeNi-X4hnNL"
      },
      "source": [
        "Снейп и МакГонагалл здесь по праву на первых позициях, я считаю. Соответствует канону."
      ]
    },
    {
      "cell_type": "code",
      "metadata": {
        "colab": {
          "base_uri": "https://localhost:8080/"
        },
        "id": "-RS7yqmBhZJ-",
        "outputId": "21dd0f44-dd97-48dd-88b0-ba4a47973590"
      },
      "source": [
        "top_10_profs = sorted(top_profs.items(), key=lambda x: x[1], reverse=True)[:10]\n",
        "top_10_profs"
      ],
      "execution_count": null,
      "outputs": [
        {
          "output_type": "execute_result",
          "data": {
            "text/plain": [
              "[('professor snape', 8842),\n",
              " ('professor mcgonagall', 7438),\n",
              " ('professor dumbledore', 4976),\n",
              " ('professor flitwick', 1580),\n",
              " ('professor sprout', 1116),\n",
              " ('professor slughorn', 1021),\n",
              " ('professor trelawney', 642),\n",
              " ('professor longbottom', 446),\n",
              " ('professor binns', 394),\n",
              " ('professor moody', 350)]"
            ]
          },
          "metadata": {},
          "execution_count": 25
        }
      ]
    },
    {
      "cell_type": "markdown",
      "metadata": {
        "id": "3-IoqdaCTdHA"
      },
      "source": [
        "Резюмируя первую часть: данных много, памяти на них значительно меньше. Времени ещё меньше -- кодишь 15 минут и ждешь обработку массива текста полчаса-час, потом по-новой. Иногда случаются нерепрезентативные результаты из-за того что, например, существуют средние имена или у Гарри Поттера очень плохая фантазия -- мама Лили Поттер и дочь Лили Луна Поттер (вот это неочевидно как оценивать -- если убираем среднее имя, то это один и тот же человек, по сути; оставляем среднее имя и тогда сочетание имени и фамилии как биграмма ломается). \n",
        "\n",
        "Знание контекста помогает, но только отдалённо. В основном для препроцессинга данных, чем для непосредственно интерпретации.\n",
        "\n",
        "И да, Сириус Блэк лучший мальчик, а лучший фанфик по Гарри Поттеру это Дни Мародёров. Я даже считаю, что это канон."
      ]
    },
    {
      "cell_type": "code",
      "metadata": {
        "id": "XJ9C9wuJUhZz"
      },
      "source": [
        ""
      ],
      "execution_count": null,
      "outputs": []
    }
  ]
}