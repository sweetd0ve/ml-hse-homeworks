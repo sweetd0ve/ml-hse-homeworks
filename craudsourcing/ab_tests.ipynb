{
  "cells": [
    {
      "cell_type": "code",
      "execution_count": null,
      "id": "9b914814",
      "metadata": {
        "id": "9b914814"
      },
      "outputs": [],
      "source": [
        "import scipy.stats as sps\n",
        "from tqdm.notebook import tqdm as tqdm_notebook \n",
        "from statsmodels.stats.proportion import proportion_confint\n",
        "import numpy as np\n",
        "import pandas as pd\n",
        "from scipy.stats import ks_2samp\n",
        "from matplotlib import pyplot as plt"
      ]
    },
    {
      "cell_type": "markdown",
      "id": "fd0a0d3f",
      "metadata": {
        "id": "fd0a0d3f"
      },
      "source": [
        "В этом домашнем задании будем работать с купедом и стратификацией. Для начала сгенерируем выборку из $1000$ сэмплов экспоненциального распределения, это будут значения нашей метрики для $1000$ пользователей"
      ]
    },
    {
      "cell_type": "code",
      "execution_count": null,
      "id": "c2a294bd-2de3-42e3-b3e3-9ddba24dbd67",
      "metadata": {
        "id": "c2a294bd-2de3-42e3-b3e3-9ddba24dbd67"
      },
      "outputs": [],
      "source": [
        "control_before = sps.expon(scale=1000).rvs(1000)"
      ]
    },
    {
      "cell_type": "code",
      "execution_count": null,
      "id": "ef4a4179-4612-4f9f-950b-4f33e82f37f9",
      "metadata": {
        "colab": {
          "base_uri": "https://localhost:8080/",
          "height": 265
        },
        "id": "ef4a4179-4612-4f9f-950b-4f33e82f37f9",
        "outputId": "3ccd5d6c-84f2-4d35-c62e-2c89baa16dcd"
      },
      "outputs": [
        {
          "data": {
            "image/png": "[encoded data removed]",
            "text/plain": [
              "<Figure size 432x288 with 1 Axes>"
            ]
          },
          "metadata": {
            "needs_background": "light"
          },
          "output_type": "display_data"
        }
      ],
      "source": [
        "plt.hist(control_before, bins=100)\n",
        "plt.show()"
      ]
    },
    {
      "cell_type": "markdown",
      "id": "abb7d996-56cf-4973-af15-5c25d363b36f",
      "metadata": {
        "id": "abb7d996-56cf-4973-af15-5c25d363b36f"
      },
      "source": [
        "Предположим, что при наблюдении метрики в дальнейшем добавляется какой-то нормальный шум"
      ]
    },
    {
      "cell_type": "code",
      "execution_count": null,
      "id": "32e7e28a-9295-4571-ad26-69440c784738",
      "metadata": {
        "id": "32e7e28a-9295-4571-ad26-69440c784738"
      },
      "outputs": [],
      "source": [
        "control = control_before + sps.norm(loc=0, scale=100).rvs(1000)"
      ]
    },
    {
      "cell_type": "code",
      "execution_count": null,
      "id": "c263b130-0f79-4033-b700-5ae94523a347",
      "metadata": {
        "colab": {
          "base_uri": "https://localhost:8080/",
          "height": 265
        },
        "id": "c263b130-0f79-4033-b700-5ae94523a347",
        "outputId": "4d24c0c4-52ee-40ae-97a7-ce066c2ccd43"
      },
      "outputs": [
        {
          "data": {
            "image/png": "[encoded data removed]",
            "text/plain": [
              "<Figure size 432x288 with 1 Axes>"
            ]
          },
          "metadata": {
            "needs_background": "light"
          },
          "output_type": "display_data"
        }
      ],
      "source": [
        "plt.hist(control, bins=100)\n",
        "plt.show()"
      ]
    },
    {
      "cell_type": "markdown",
      "id": "b82b8e34-70aa-463c-bc33-f93238ef60d9",
      "metadata": {
        "id": "b82b8e34-70aa-463c-bc33-f93238ef60d9"
      },
      "source": [
        "Теперь построим доверительный интервал для среднего значения нашей метрики и посмотрим, появилась ли стат значимая разница. Проведем такой эксперимент $10000$"
      ]
    },
    {
      "cell_type": "code",
      "execution_count": null,
      "id": "2aa7e96b-0131-422d-bd33-401c3e2be97c",
      "metadata": {
        "colab": {
          "base_uri": "https://localhost:8080/"
        },
        "id": "2aa7e96b-0131-422d-bd33-401c3e2be97c",
        "outputId": "af817390-c31a-4d7e-86b1-deda80c26c26"
      },
      "outputs": [
        {
          "data": {
            "text/plain": [
              "array([ 892.05028145, 1010.96563257])"
            ]
          },
          "execution_count": 36,
          "metadata": {},
          "output_type": "execute_result"
        }
      ],
      "source": [
        "sps.norm(loc=control.mean(), scale=control.std() / np.sqrt(len(control))).ppf([0.025, 0.975])"
      ]
    },
    {
      "cell_type": "code",
      "execution_count": null,
      "id": "626460db-6abe-416f-840a-0922e45b010f",
      "metadata": {
        "colab": {
          "base_uri": "https://localhost:8080/",
          "height": 66,
          "referenced_widgets": [
            "e0b6294a9a7a454584d78995aae700d7",
            "3107f7584c1c44ddb2806cb27a529853",
            "87a54602b5bc48b7bd33b1ec8b8bc7fb",
            "4137230a749c438f8172626b76890ffe",
            "accf5b57db40459784aeef5e598210e9",
            "72ddc0a110e648c3b2aefd16a8c4447f",
            "9cb820d7606f419b8de5a98f6eaa789f",
            "7737d6e5f8764fbb846fb9b306227918",
            "6e4ab2645c5447528edd241bed68cada",
            "1dc92888770d44b89710e2edaf46c420",
            "d93240837fd244ebb3126f687df9d3bd"
          ]
        },
        "id": "626460db-6abe-416f-840a-0922e45b010f",
        "outputId": "23ff6644-f12d-4e9a-9529-e47ca29a281a"
      },
      "outputs": [
        {
          "data": {
            "application/vnd.jupyter.widget-view+json": {
              "model_id": "e0b6294a9a7a454584d78995aae700d7",
              "version_major": 2,
              "version_minor": 0
            },
            "text/plain": [
              "  0%|          | 0/10000 [00:00<?, ?it/s]"
            ]
          },
          "metadata": {},
          "output_type": "display_data"
        },
        {
          "name": "stdout",
          "output_type": "stream",
          "text": [
            "Стат значимая разница есть в 5.390000000000001% случаев;\n"
          ]
        }
      ],
      "source": [
        "bad_cnt = 0\n",
        "\n",
        "N = 10000\n",
        "for i in tqdm_notebook(range(N)):\n",
        "    control_before = sps.expon(scale=1000).rvs(1000)\n",
        "    control = control_before + sps.norm(loc=0, scale=100).rvs(1000)\n",
        "    left_bound, right_bound = sps.norm(loc=control.mean(), scale=control.std() / np.sqrt(len(control))).ppf([0.025, 0.975])\n",
        "    \n",
        "    if left_bound > 1000 or right_bound < 1000:\n",
        "        bad_cnt += 1\n",
        "\n",
        "print(f\"Стат значимая разница есть в {round(bad_cnt / N, 4) * 100}% случаев;\")"
      ]
    },
    {
      "cell_type": "markdown",
      "id": "4b6e77b1-dbf4-4de9-9d01-1e3be1eff55d",
      "metadata": {
        "id": "4b6e77b1-dbf4-4de9-9d01-1e3be1eff55d"
      },
      "source": [
        "Как мы видим такой тест ошибается в около $5$% случаев, так как находит разницу в среднем. Ваша задача построить CUPED-метрику основываясь на данной метрике и провести аналогичный тест"
      ]
    },
    {
      "cell_type": "code",
      "execution_count": null,
      "id": "ad0bbedc-4bbb-421f-9683-0eb7d2a6d3b9",
      "metadata": {
        "colab": {
          "base_uri": "https://localhost:8080/",
          "height": 66,
          "referenced_widgets": [
            "df0c50b610b54da08e8898a96b9be08b",
            "713a30d4fea74a9f9f859194756d3767",
            "64b3ccd4c59740668a9efdf7daf14bef",
            "0779d1f0de1a42cd82c0b7710cbe6b0c",
            "8adf3e3e38c34aba9f2c681497b0d4e8",
            "9ccc08466ba24f168366d8f647528e78",
            "bbf2cf6a25ef4b948c0d5118139cd2cd",
            "6d5723c3c9204828826aa9a8940aa3b9",
            "31f7cef7282a42249b23a5a1d35bb9e3",
            "7b2e8bc1dc0f4556b7830e4bcb9d7172",
            "1e6061323d6c48c490d299e99cfaf919"
          ]
        },
        "id": "ad0bbedc-4bbb-421f-9683-0eb7d2a6d3b9",
        "outputId": "5d9163dc-0a00-4196-f73f-5666f73ac361"
      },
      "outputs": [
        {
          "data": {
            "application/vnd.jupyter.widget-view+json": {
              "model_id": "df0c50b610b54da08e8898a96b9be08b",
              "version_major": 2,
              "version_minor": 0
            },
            "text/plain": [
              "  0%|          | 0/10000 [00:00<?, ?it/s]"
            ]
          },
          "metadata": {},
          "output_type": "display_data"
        },
        {
          "name": "stdout",
          "output_type": "stream",
          "text": [
            "Стат значимая разница есть в  84.11% случаев;\n"
          ]
        }
      ],
      "source": [
        "bad_cnt = 0\n",
        "\n",
        "N = 10000\n",
        "for i in tqdm_notebook(range(N)):\n",
        "    control_before = sps.expon(scale=1000).rvs(1000)\n",
        "    control = control_before + sps.norm(loc=0, scale=100).rvs(1000)\n",
        "\n",
        "    matrix_cov = np.cov([control, control_before])\n",
        "    theta = matrix_cov[0, 1] / matrix_cov[1, 1]\n",
        "    control_cuped = control - control_before * theta + control_before.mean() * theta\n",
        "\n",
        "    mean = control_cuped.mean()\n",
        "    std = control_cuped.std() / np.sqrt(len(control))\n",
        "    \n",
        "    left_bound, right_bound = sps.norm(loc=mean, scale=std).ppf([0.025, 0.975])\n",
        "    \n",
        "    if left_bound > 1000 or right_bound < 1000:\n",
        "        bad_cnt += 1\n",
        "    \n",
        "print(f\"Стат значимая разница есть в  {round(bad_cnt / N, 4) * 100}% случаев;\")"
      ]
    },
    {
      "cell_type": "markdown",
      "id": "a83060c9-b06c-4c10-b1fa-e7d446d3fec1",
      "metadata": {
        "id": "a83060c9-b06c-4c10-b1fa-e7d446d3fec1"
      },
      "source": [
        "Результат должен получиться не очень хороший. Давайте теперь сделаем иначе: сгенерируем выборку из $10000$ значений, а затем выберем $2$ группы по $1000$ юзеров, которые будут нашими группами для теста. Опять добавим шум в обе группы аналогично тому, что показано в первом примере с теми же параметрами. Ваша задача вписать CUPED метрики используя знание обо всех $10000$ юзерах."
      ]
    },
    {
      "cell_type": "code",
      "execution_count": null,
      "id": "509730e6-ed5a-45a8-b7a4-f5bb3006b0fb",
      "metadata": {
        "colab": {
          "base_uri": "https://localhost:8080/",
          "height": 66,
          "referenced_widgets": [
            "9272e118ba454af092c76413ebd5e628",
            "b788eb7ade344902bd7429a55fb2afa1",
            "8ebd60696ef04d00ac493508a31c3fe0",
            "8895f8e5b7054e4f944aaea3c6a8032b",
            "98d49db293dd4bb8822a754eb1eb6847",
            "541ff6785b83477592fdb095687a408d",
            "2ca3917e36734014b099048e37b580df",
            "c2b36519c3194add8c8012292ebe39e1",
            "ed3b20e6cae34758b6cbfd7522993d09",
            "85215a6b97334f08b4af0ba5ed638078",
            "ca8a6a1694c94625aaae73a70263d391"
          ]
        },
        "id": "509730e6-ed5a-45a8-b7a4-f5bb3006b0fb",
        "outputId": "010d06bc-2716-40b2-c9d6-d76939dbb7de"
      },
      "outputs": [
        {
          "data": {
            "application/vnd.jupyter.widget-view+json": {
              "model_id": "9272e118ba454af092c76413ebd5e628",
              "version_major": 2,
              "version_minor": 0
            },
            "text/plain": [
              "  0%|          | 0/10000 [00:00<?, ?it/s]"
            ]
          },
          "metadata": {},
          "output_type": "display_data"
        },
        {
          "name": "stdout",
          "output_type": "stream",
          "text": [
            "Стат значимая разница есть в  70.49% случаев;\n"
          ]
        }
      ],
      "source": [
        "bad_cnt = 0\n",
        "\n",
        "N = 10000\n",
        "for i in tqdm_notebook(range(N)):\n",
        "    control_before_full = sps.expon(scale=1000).rvs(1000 * 10)\n",
        "    mean_full = control_before_full.mean()\n",
        "    \n",
        "    samples_in_ab = 2000\n",
        "    indexes_to_take_a = np.random.choice(range(samples_in_ab), samples_in_ab // 2, False)\n",
        "    indexes_to_take_b = [x for x in range(samples_in_ab) if x not in indexes_to_take_a]\n",
        "    \n",
        "    control_before_a = control_before_full[indexes_to_take_a]\n",
        "    control_before_b = control_before_full[indexes_to_take_b]\n",
        "    \n",
        "    control_after_a = control_before_a + sps.norm(loc=0, scale=100).rvs(samples_in_ab // 2)\n",
        "    control_after_b = control_before_b + sps.norm(loc=0, scale=100).rvs(samples_in_ab // 2)\n",
        "\n",
        "    matrix_cov = np.cov([control_after_a + control_after_b, control_before_a + control_before_b])\n",
        "    theta = matrix_cov[0, 1] / matrix_cov[1, 1]\n",
        "\n",
        "    control_cup_a = control_after_a + (mean_full - control_before_a) * theta\n",
        "    contrul_cup_b = control_after_b + (mean_full - control_before_b) * theta\n",
        "    \n",
        "    if ks_2samp(control_cup_a, control_cup_b).pvalue < 0.05:\n",
        "        bad_cnt += 1\n",
        "    \n",
        "print(f\"Стат значимая разница есть в  {round(bad_cnt / N, 4) * 100}% случаев;\")"
      ]
    },
    {
      "cell_type": "markdown",
      "id": "bfdd1352-dcae-4d89-af4c-3290a59d3c05",
      "metadata": {
        "id": "bfdd1352-dcae-4d89-af4c-3290a59d3c05"
      },
      "source": [
        "Результат получился уже совсем другой. Опишите свои мысли по поводу того, из-за чего возникает такая разница:\n",
        "\n"
      ]
    },
    {
      "cell_type": "markdown",
      "id": "0998dd36",
      "metadata": {
        "id": "0998dd36"
      },
      "source": [
        "Значение стат разницы \n",
        " первом случае мы за матожидание принимаем среднее от control_before, и так как данных не очень много, то при добавлении   \n",
        "tetta * mean(control_before) оценка все равно остается смещенной. А во втором случае мы берем среднее по всем данным, и поэтому значение получается более близким к матожиданию, поэтому оценка меньше смещена и результаты лучше. "
      ]
    },
    {
      "cell_type": "markdown",
      "id": "8db3064b-79b1-4cf1-aea2-3da21ec42230",
      "metadata": {
        "id": "8db3064b-79b1-4cf1-aea2-3da21ec42230"
      },
      "source": [
        "Далее проделаем такой же эксперимент при наличии реального смещения среднего значения и посмотрим на результаты с CUPED и без."
      ]
    },
    {
      "cell_type": "code",
      "execution_count": null,
      "id": "a8fc0b3c-7e6d-4926-b0f7-2ef8a5063b65",
      "metadata": {
        "colab": {
          "base_uri": "https://localhost:8080/",
          "height": 66,
          "referenced_widgets": [
            "bd9f6108cb6045e1b1f24c31e41ca1ab",
            "5c147a08a70544afacb7919b058687c3",
            "1f202fc953f247a4b6ae32685fb0df0e",
            "ac490ddf747d4f50802bf159fb8e5c39",
            "39ab63c35a07480c8677eea010a17735",
            "672bd1e4ccdb4f19af24a128a4a78776",
            "668abab709a04ee6ae4b9304ce8cf367",
            "8b6c32c636f645088f0c381157561a92",
            "147049d2109c4e12a328ba3698c67cf4",
            "894face8fb7e448cb076fe00e150e5d4",
            "9b4e6833ad204c7a950a2d47dab3a9e8"
          ]
        },
        "id": "a8fc0b3c-7e6d-4926-b0f7-2ef8a5063b65",
        "outputId": "3ed683fa-fde8-4c61-e48f-0917030aa25f"
      },
      "outputs": [
        {
          "data": {
            "application/vnd.jupyter.widget-view+json": {
              "model_id": "bd9f6108cb6045e1b1f24c31e41ca1ab",
              "version_major": 2,
              "version_minor": 0
            },
            "text/plain": [
              "  0%|          | 0/10000 [00:00<?, ?it/s]"
            ]
          },
          "metadata": {},
          "output_type": "display_data"
        },
        {
          "name": "stdout",
          "output_type": "stream",
          "text": [
            "Стат значимая разница есть в  5.949999999999999% случаев; при использовании CUPED -- в 70.81% случаев\n"
          ]
        }
      ],
      "source": [
        "bad_cnt = 0\n",
        "bad_cnt_cuped = 0\n",
        "\n",
        "N = 10000\n",
        "for i in tqdm_notebook(range(N)):\n",
        "    control_before_full = sps.expon(scale=1000).rvs(1000 * 10)\n",
        "    mean_full = control_before_full.mean()\n",
        "    \n",
        "    samples_in_ab = 2000\n",
        "    indexes_to_take_a = np.random.choice(range(samples_in_ab), samples_in_ab // 2, False)\n",
        "    indexes_to_take_b = [x for x in range(samples_in_ab) if x not in indexes_to_take_a]\n",
        "    \n",
        "    control_before_a = control_before_full[indexes_to_take_a]\n",
        "    control_before_b = control_before_full[indexes_to_take_b]\n",
        "    \n",
        "    control_after_a = control_before_a + sps.norm(loc=0, scale=100).rvs(samples_in_ab // 2)\n",
        "    control_after_b = control_before_b + sps.norm(loc=10, scale=100).rvs(samples_in_ab // 2)\n",
        "\n",
        "    matrix_cov = np.cov([control_after_a + control_after_b, control_before_a + control_before_b])\n",
        "    theta = matrix_cov[0, 1] / matrix_cov[1, 1]\n",
        "\n",
        "    control_cup_a = control_after_a + (mean_full - control_before_a) * theta\n",
        "    contrul_cup_b = control_after_b + (mean_full - control_before_b) * theta\n",
        "    \n",
        "    if ks_2samp(control_after_a,control_after_b).pvalue < 0.05:\n",
        "        bad_cnt += 1\n",
        "    \n",
        "    if ks_2samp(control_cup_a, control_cup_b).pvalue < 0.05:\n",
        "        bad_cnt_cuped += 1\n",
        "    \n",
        "print(f\"Стат значимая разница есть в  {round(bad_cnt / N, 4) * 100}% случаев; при использовании CUPED -- в {round(bad_cnt_cuped / N, 4) * 100}% случаев\")"
      ]
    },
    {
      "cell_type": "markdown",
      "id": "221c68d1-292c-44f4-a4d0-4e18d99a6732",
      "metadata": {
        "id": "221c68d1-292c-44f4-a4d0-4e18d99a6732"
      },
      "source": [
        "# Уменьшение дисперсии"
      ]
    },
    {
      "cell_type": "markdown",
      "id": "8000c6a5-8380-491d-b91c-f0fa598315b6",
      "metadata": {
        "id": "8000c6a5-8380-491d-b91c-f0fa598315b6"
      },
      "source": [
        "В этой части задания вам нужно применить методы уменьшения дисперсии с лекций, чтобы провести более точные тесты по данным из файла.\n",
        "\n",
        "Данные представляют собой значение какой-то метрики для трех возрастных групп пользователей. Столбец group отвечает за группу, в которой находятся пользователи: None -- пользователь не участвует в АБ тесте, *_before -- соответствующая группа до начала теста, *_after_i -- группа после начала эксперимента, чем больше i -- тем позже было сделано наблюдение.\n",
        "\n",
        "В этом задании необходимо использовать тест Стьюдента, как это рассматривалось на лекции. Вы можете проводить тесты между control_before_i и tratment_before_i, без применения каких-либо методов такой тест покажет p-value около $0.05$ только при i == 5. Ваша задача применить методы уменьшения дисперсии, чтобы с помощью теста Стьюдента можно было обнаружить отличие при уровне значимости $0.05$.\n",
        "\n",
        "Тест Стьюдента необходимо написать самим, то есть вы должны сами вычислить тестовую статистику, а затем используя квантильную функцию определить p-value.\n",
        "\n",
        "Вам необходимо реализовать стратификацию и CUPED, далее сравнить результаты и описать в чем разница"
      ]
    },
    {
      "cell_type": "code",
      "execution_count": null,
      "id": "7TFpIMmkvTkJ",
      "metadata": {
        "colab": {
          "base_uri": "https://localhost:8080/"
        },
        "id": "7TFpIMmkvTkJ",
        "outputId": "8ccbfa46-6f82-450a-cb61-2bbe67661405"
      },
      "outputs": [
        {
          "name": "stdout",
          "output_type": "stream",
          "text": [
            "Drive already mounted at /content/drive; to attempt to forcibly remount, call drive.mount(\"/content/drive\", force_remount=True).\n"
          ]
        }
      ],
      "source": [
        "from google.colab import drive\n",
        "drive.mount('/content/drive')\n",
        "\n",
        "path = '/content/drive/My Drive/Colab Notebooks/kaggle/'"
      ]
    },
    {
      "cell_type": "code",
      "execution_count": null,
      "id": "bf16c190-ebb6-4878-bd18-9ca9b160cda0",
      "metadata": {
        "colab": {
          "base_uri": "https://localhost:8080/",
          "height": 424
        },
        "id": "bf16c190-ebb6-4878-bd18-9ca9b160cda0",
        "outputId": "3c2b959a-8097-4185-84dc-196d68e26a8c"
      },
      "outputs": [
        {
          "data": {
            "text/html": [
              "\n",
              "  <div id=\"df-5fcf02e3-7ff3-4c2d-8479-afb330386d2c\">\n",
              "    <div class=\"colab-df-container\">\n",
              "      <div>\n",
              "<style scoped>\n",
              "    .dataframe tbody tr th:only-of-type {\n",
              "        vertical-align: middle;\n",
              "    }\n",
              "\n",
              "    .dataframe tbody tr th {\n",
              "        vertical-align: top;\n",
              "    }\n",
              "\n",
              "    .dataframe thead th {\n",
              "        text-align: right;\n",
              "    }\n",
              "</style>\n",
              "<table border=\"1\" class=\"dataframe\">\n",
              "  <thead>\n",
              "    <tr style=\"text-align: right;\">\n",
              "      <th></th>\n",
              "      <th>age</th>\n",
              "      <th>metric</th>\n",
              "      <th>group</th>\n",
              "    </tr>\n",
              "  </thead>\n",
              "  <tbody>\n",
              "    <tr>\n",
              "      <th>0</th>\n",
              "      <td>young</td>\n",
              "      <td>11309.036916</td>\n",
              "      <td>treatment_before</td>\n",
              "    </tr>\n",
              "    <tr>\n",
              "      <th>1</th>\n",
              "      <td>young</td>\n",
              "      <td>8496.554679</td>\n",
              "      <td>control_before</td>\n",
              "    </tr>\n",
              "    <tr>\n",
              "      <th>2</th>\n",
              "      <td>young</td>\n",
              "      <td>11891.862586</td>\n",
              "      <td>control_before</td>\n",
              "    </tr>\n",
              "    <tr>\n",
              "      <th>3</th>\n",
              "      <td>young</td>\n",
              "      <td>9229.445011</td>\n",
              "      <td>treatment_before</td>\n",
              "    </tr>\n",
              "    <tr>\n",
              "      <th>4</th>\n",
              "      <td>young</td>\n",
              "      <td>10410.961279</td>\n",
              "      <td>control_before</td>\n",
              "    </tr>\n",
              "    <tr>\n",
              "      <th>...</th>\n",
              "      <td>...</td>\n",
              "      <td>...</td>\n",
              "      <td>...</td>\n",
              "    </tr>\n",
              "    <tr>\n",
              "      <th>99995</th>\n",
              "      <td>old</td>\n",
              "      <td>7890.224384</td>\n",
              "      <td>treatment_after_5</td>\n",
              "    </tr>\n",
              "    <tr>\n",
              "      <th>99996</th>\n",
              "      <td>old</td>\n",
              "      <td>8165.046263</td>\n",
              "      <td>treatment_after_5</td>\n",
              "    </tr>\n",
              "    <tr>\n",
              "      <th>99997</th>\n",
              "      <td>old</td>\n",
              "      <td>10034.632118</td>\n",
              "      <td>treatment_after_5</td>\n",
              "    </tr>\n",
              "    <tr>\n",
              "      <th>99998</th>\n",
              "      <td>old</td>\n",
              "      <td>7564.445251</td>\n",
              "      <td>treatment_after_5</td>\n",
              "    </tr>\n",
              "    <tr>\n",
              "      <th>99999</th>\n",
              "      <td>old</td>\n",
              "      <td>7482.930177</td>\n",
              "      <td>treatment_after_5</td>\n",
              "    </tr>\n",
              "  </tbody>\n",
              "</table>\n",
              "<p>100000 rows × 3 columns</p>\n",
              "</div>\n",
              "      <button class=\"colab-df-convert\" onclick=\"convertToInteractive('df-5fcf02e3-7ff3-4c2d-8479-afb330386d2c')\"\n",
              "              title=\"Convert this dataframe to an interactive table.\"\n",
              "              style=\"display:none;\">\n",
              "        \n",
              "  <svg xmlns=\"http://www.w3.org/2000/svg\" height=\"24px\"viewBox=\"0 0 24 24\"\n",
              "       width=\"24px\">\n",
              "    <path d=\"M0 0h24v24H0V0z\" fill=\"none\"/>\n",
              "    <path d=\"M18.56 5.44l.94 2.06.94-2.06 2.06-.94-2.06-.94-.94-2.06-.94 2.06-2.06.94zm-11 1L8.5 8.5l.94-2.06 2.06-.94-2.06-.94L8.5 2.5l-.94 2.06-2.06.94zm10 10l.94 2.06.94-2.06 2.06-.94-2.06-.94-.94-2.06-.94 2.06-2.06.94z\"/><path d=\"M17.41 7.96l-1.37-1.37c-.4-.4-.92-.59-1.43-.59-.52 0-1.04.2-1.43.59L10.3 9.45l-7.72 7.72c-.78.78-.78 2.05 0 2.83L4 21.41c.39.39.9.59 1.41.59.51 0 1.02-.2 1.41-.59l7.78-7.78 2.81-2.81c.8-.78.8-2.07 0-2.86zM5.41 20L4 18.59l7.72-7.72 1.47 1.35L5.41 20z\"/>\n",
              "  </svg>\n",
              "      </button>\n",
              "      \n",
              "  <style>\n",
              "    .colab-df-container {\n",
              "      display:flex;\n",
              "      flex-wrap:wrap;\n",
              "      gap: 12px;\n",
              "    }\n",
              "\n",
              "    .colab-df-convert {\n",
              "      background-color: #E8F0FE;\n",
              "      border: none;\n",
              "      border-radius: 50%;\n",
              "      cursor: pointer;\n",
              "      display: none;\n",
              "      fill: #1967D2;\n",
              "      height: 32px;\n",
              "      padding: 0 0 0 0;\n",
              "      width: 32px;\n",
              "    }\n",
              "\n",
              "    .colab-df-convert:hover {\n",
              "      background-color: #E2EBFA;\n",
              "      box-shadow: 0px 1px 2px rgba(60, 64, 67, 0.3), 0px 1px 3px 1px rgba(60, 64, 67, 0.15);\n",
              "      fill: #174EA6;\n",
              "    }\n",
              "\n",
              "    [theme=dark] .colab-df-convert {\n",
              "      background-color: #3B4455;\n",
              "      fill: #D2E3FC;\n",
              "    }\n",
              "\n",
              "    [theme=dark] .colab-df-convert:hover {\n",
              "      background-color: #434B5C;\n",
              "      box-shadow: 0px 1px 3px 1px rgba(0, 0, 0, 0.15);\n",
              "      filter: drop-shadow(0px 1px 2px rgba(0, 0, 0, 0.3));\n",
              "      fill: #FFFFFF;\n",
              "    }\n",
              "  </style>\n",
              "\n",
              "      <script>\n",
              "        const buttonEl =\n",
              "          document.querySelector('#df-5fcf02e3-7ff3-4c2d-8479-afb330386d2c button.colab-df-convert');\n",
              "        buttonEl.style.display =\n",
              "          google.colab.kernel.accessAllowed ? 'block' : 'none';\n",
              "\n",
              "        async function convertToInteractive(key) {\n",
              "          const element = document.querySelector('#df-5fcf02e3-7ff3-4c2d-8479-afb330386d2c');\n",
              "          const dataTable =\n",
              "            await google.colab.kernel.invokeFunction('convertToInteractive',\n",
              "                                                     [key], {});\n",
              "          if (!dataTable) return;\n",
              "\n",
              "          const docLinkHtml = 'Like what you see? Visit the ' +\n",
              "            '<a target=\"_blank\" href=https://colab.research.google.com/notebooks/data_table.ipynb>data table notebook</a>'\n",
              "            + ' to learn more about interactive tables.';\n",
              "          element.innerHTML = '';\n",
              "          dataTable['output_type'] = 'display_data';\n",
              "          await google.colab.output.renderOutput(dataTable, element);\n",
              "          const docLink = document.createElement('div');\n",
              "          docLink.innerHTML = docLinkHtml;\n",
              "          element.appendChild(docLink);\n",
              "        }\n",
              "      </script>\n",
              "    </div>\n",
              "  </div>\n",
              "  "
            ],
            "text/plain": [
              "         age        metric              group\n",
              "0      young  11309.036916   treatment_before\n",
              "1      young   8496.554679     control_before\n",
              "2      young  11891.862586     control_before\n",
              "3      young   9229.445011   treatment_before\n",
              "4      young  10410.961279     control_before\n",
              "...      ...           ...                ...\n",
              "99995    old   7890.224384  treatment_after_5\n",
              "99996    old   8165.046263  treatment_after_5\n",
              "99997    old  10034.632118  treatment_after_5\n",
              "99998    old   7564.445251  treatment_after_5\n",
              "99999    old   7482.930177  treatment_after_5\n",
              "\n",
              "[100000 rows x 3 columns]"
            ]
          },
          "execution_count": 44,
          "metadata": {},
          "output_type": "execute_result"
        }
      ],
      "source": [
        "data = pd.read_csv(path + 'data_ab.csv')\n",
        "data"
      ]
    },
    {
      "cell_type": "code",
      "execution_count": null,
      "id": "0nQCXljk1qkm",
      "metadata": {
        "colab": {
          "base_uri": "https://localhost:8080/",
          "height": 175
        },
        "id": "0nQCXljk1qkm",
        "outputId": "306e4dcc-b358-46e4-acd4-bf92f4153ba7"
      },
      "outputs": [
        {
          "data": {
            "text/html": [
              "\n",
              "  <div id=\"df-c76c5abc-e1f1-4d45-aca0-1db3c138656f\">\n",
              "    <div class=\"colab-df-container\">\n",
              "      <div>\n",
              "<style scoped>\n",
              "    .dataframe tbody tr th:only-of-type {\n",
              "        vertical-align: middle;\n",
              "    }\n",
              "\n",
              "    .dataframe tbody tr th {\n",
              "        vertical-align: top;\n",
              "    }\n",
              "\n",
              "    .dataframe thead th {\n",
              "        text-align: right;\n",
              "    }\n",
              "</style>\n",
              "<table border=\"1\" class=\"dataframe\">\n",
              "  <thead>\n",
              "    <tr style=\"text-align: right;\">\n",
              "      <th></th>\n",
              "      <th>metric</th>\n",
              "      <th>group</th>\n",
              "    </tr>\n",
              "    <tr>\n",
              "      <th>age</th>\n",
              "      <th></th>\n",
              "      <th></th>\n",
              "    </tr>\n",
              "  </thead>\n",
              "  <tbody>\n",
              "    <tr>\n",
              "      <th>adult</th>\n",
              "      <td>45000</td>\n",
              "      <td>24000</td>\n",
              "    </tr>\n",
              "    <tr>\n",
              "      <th>old</th>\n",
              "      <td>35000</td>\n",
              "      <td>18000</td>\n",
              "    </tr>\n",
              "    <tr>\n",
              "      <th>young</th>\n",
              "      <td>20000</td>\n",
              "      <td>12000</td>\n",
              "    </tr>\n",
              "  </tbody>\n",
              "</table>\n",
              "</div>\n",
              "      <button class=\"colab-df-convert\" onclick=\"convertToInteractive('df-c76c5abc-e1f1-4d45-aca0-1db3c138656f')\"\n",
              "              title=\"Convert this dataframe to an interactive table.\"\n",
              "              style=\"display:none;\">\n",
              "        \n",
              "  <svg xmlns=\"http://www.w3.org/2000/svg\" height=\"24px\"viewBox=\"0 0 24 24\"\n",
              "       width=\"24px\">\n",
              "    <path d=\"M0 0h24v24H0V0z\" fill=\"none\"/>\n",
              "    <path d=\"M18.56 5.44l.94 2.06.94-2.06 2.06-.94-2.06-.94-.94-2.06-.94 2.06-2.06.94zm-11 1L8.5 8.5l.94-2.06 2.06-.94-2.06-.94L8.5 2.5l-.94 2.06-2.06.94zm10 10l.94 2.06.94-2.06 2.06-.94-2.06-.94-.94-2.06-.94 2.06-2.06.94z\"/><path d=\"M17.41 7.96l-1.37-1.37c-.4-.4-.92-.59-1.43-.59-.52 0-1.04.2-1.43.59L10.3 9.45l-7.72 7.72c-.78.78-.78 2.05 0 2.83L4 21.41c.39.39.9.59 1.41.59.51 0 1.02-.2 1.41-.59l7.78-7.78 2.81-2.81c.8-.78.8-2.07 0-2.86zM5.41 20L4 18.59l7.72-7.72 1.47 1.35L5.41 20z\"/>\n",
              "  </svg>\n",
              "      </button>\n",
              "      \n",
              "  <style>\n",
              "    .colab-df-container {\n",
              "      display:flex;\n",
              "      flex-wrap:wrap;\n",
              "      gap: 12px;\n",
              "    }\n",
              "\n",
              "    .colab-df-convert {\n",
              "      background-color: #E8F0FE;\n",
              "      border: none;\n",
              "      border-radius: 50%;\n",
              "      cursor: pointer;\n",
              "      display: none;\n",
              "      fill: #1967D2;\n",
              "      height: 32px;\n",
              "      padding: 0 0 0 0;\n",
              "      width: 32px;\n",
              "    }\n",
              "\n",
              "    .colab-df-convert:hover {\n",
              "      background-color: #E2EBFA;\n",
              "      box-shadow: 0px 1px 2px rgba(60, 64, 67, 0.3), 0px 1px 3px 1px rgba(60, 64, 67, 0.15);\n",
              "      fill: #174EA6;\n",
              "    }\n",
              "\n",
              "    [theme=dark] .colab-df-convert {\n",
              "      background-color: #3B4455;\n",
              "      fill: #D2E3FC;\n",
              "    }\n",
              "\n",
              "    [theme=dark] .colab-df-convert:hover {\n",
              "      background-color: #434B5C;\n",
              "      box-shadow: 0px 1px 3px 1px rgba(0, 0, 0, 0.15);\n",
              "      filter: drop-shadow(0px 1px 2px rgba(0, 0, 0, 0.3));\n",
              "      fill: #FFFFFF;\n",
              "    }\n",
              "  </style>\n",
              "\n",
              "      <script>\n",
              "        const buttonEl =\n",
              "          document.querySelector('#df-c76c5abc-e1f1-4d45-aca0-1db3c138656f button.colab-df-convert');\n",
              "        buttonEl.style.display =\n",
              "          google.colab.kernel.accessAllowed ? 'block' : 'none';\n",
              "\n",
              "        async function convertToInteractive(key) {\n",
              "          const element = document.querySelector('#df-c76c5abc-e1f1-4d45-aca0-1db3c138656f');\n",
              "          const dataTable =\n",
              "            await google.colab.kernel.invokeFunction('convertToInteractive',\n",
              "                                                     [key], {});\n",
              "          if (!dataTable) return;\n",
              "\n",
              "          const docLinkHtml = 'Like what you see? Visit the ' +\n",
              "            '<a target=\"_blank\" href=https://colab.research.google.com/notebooks/data_table.ipynb>data table notebook</a>'\n",
              "            + ' to learn more about interactive tables.';\n",
              "          element.innerHTML = '';\n",
              "          dataTable['output_type'] = 'display_data';\n",
              "          await google.colab.output.renderOutput(dataTable, element);\n",
              "          const docLink = document.createElement('div');\n",
              "          docLink.innerHTML = docLinkHtml;\n",
              "          element.appendChild(docLink);\n",
              "        }\n",
              "      </script>\n",
              "    </div>\n",
              "  </div>\n",
              "  "
            ],
            "text/plain": [
              "       metric  group\n",
              "age                 \n",
              "adult   45000  24000\n",
              "old     35000  18000\n",
              "young   20000  12000"
            ]
          },
          "execution_count": 47,
          "metadata": {},
          "output_type": "execute_result"
        }
      ],
      "source": [
        "data.groupby('age').count()"
      ]
    },
    {
      "cell_type": "code",
      "execution_count": null,
      "id": "0p1O8v79vlVw",
      "metadata": {
        "id": "0p1O8v79vlVw"
      },
      "outputs": [],
      "source": [
        "from scipy.stats import t\n",
        "\n",
        "def t_test_student(x, y):\n",
        "  x_mean = x.mean()\n",
        "  y_mean = y.mean()\n",
        "\n",
        "  sigma2_x = np.sum(np.square(x - x_mean)) / (len(x) - 1)\n",
        "  sigma2_y = np.sum(np.square(y - y_mean)) / (len(y) - 1)\n",
        "  sigma2 = sigma2_x / len(x) + sigma2_y / len(y)\n",
        "\n",
        "  t_test = (x_mean - y_mean) / np.sqrt(sigma2)\n",
        "\n",
        "  df = sigma2 / ((np.square(sigma2_x / len(x)) / (len(x) - 1)) + (np.square(sigma2_y / len(y)) / (len(y) - 1)))\n",
        "  return 2 * (t.cdf(-abs(t_test), df))\n"
      ]
    },
    {
      "cell_type": "code",
      "execution_count": null,
      "id": "9ff02c6f",
      "metadata": {
        "id": "9ff02c6f"
      },
      "outputs": [],
      "source": [
        "def get_group(data, group, age = None):\n",
        "    if age:\n",
        "        return data[(data['age'] == age) & (data['group'] == group)]['metric']\n",
        "    return data[data['group'] == group]['metric']"
      ]
    },
    {
      "cell_type": "code",
      "execution_count": null,
      "id": "c04c898b",
      "metadata": {
        "id": "c04c898b"
      },
      "outputs": [],
      "source": [
        "def t_test(x_mean, y_mean, x_s, y_s, len_x, len_y): \n",
        "    t_s = (x_mean - y_mean) / np.sqrt(x_s / len_x + y_s / len_y)\n",
        "    \n",
        "    dof1 = np.square(x_s / len_x + y_s / len_y)\n",
        "    dof2 = np.square(x_s) / (np.square(len_x) * (len_x - 1))\n",
        "    dof3 = np.square(y_s) / (np.square(len_y) * (len_y - 1))\n",
        "    \n",
        "    return 2 * (t.cdf(-abs(t_s), dof1 / (dof2 + dof3)))"
      ]
    },
    {
      "cell_type": "markdown",
      "id": "0b4cf31c",
      "metadata": {
        "id": "0b4cf31c"
      },
      "source": [
        "**Стратификация**"
      ]
    },
    {
      "cell_type": "code",
      "execution_count": null,
      "id": "70fec04e",
      "metadata": {
        "id": "70fec04e"
      },
      "outputs": [],
      "source": [
        "def strat_t_test(data, i):\n",
        "    x_mean = 0\n",
        "    y_mean = 0\n",
        "    \n",
        "    x_s = 0\n",
        "    y_s = 0\n",
        "    \n",
        "    len_x = len(get_group(data, 'control_after_' + i))\n",
        "    len_y = len(get_group(data, 'treatment_after_' + i))\n",
        "    \n",
        "    for age in list(data['age'].unique()):\n",
        "        x = get_group(data, 'control_after_' + i, age)\n",
        "        n_k = len(x) \n",
        "        w_k = n_k / len_x\n",
        "        x_mean += x.mean() * w_k\n",
        "        x_s += np.sum(np.square(x - x_mean)) / (n_k - 1) \n",
        "        \n",
        "        y = get_group(data, 'treatment_after_' + i, age)\n",
        "        n_k = len(y) \n",
        "        w_k = n_k / len_y\n",
        "        y_mean += y.mean() * w_k \n",
        "        y_s += np.sum(np.square(y - y_mean)) / (n_k - 1)\n",
        "    \n",
        "    return t_test(x_mean, y_mean, x_s / len_x, y_s / len_y, len_x, len_y)      "
      ]
    },
    {
      "cell_type": "markdown",
      "id": "e8217735",
      "metadata": {
        "id": "e8217735"
      },
      "source": [
        "**CUPED**"
      ]
    },
    {
      "cell_type": "code",
      "execution_count": null,
      "id": "14990991",
      "metadata": {
        "id": "14990991"
      },
      "outputs": [],
      "source": [
        "mean = data[data['group'].isna()]['metric'].mean()\n",
        "res = []\n",
        "for i in range(1, 6):\n",
        "    control, treatment = get_cuped_adjusted(np.array(get_group(data, 'control_before')),\n",
        "                                            np.array(get_group(data, 'treatment_before')),\n",
        "                                            np.array(get_group(data, 'control_after_' + str(i))),\n",
        "                                            np.array(get_group(data, 'treatment_after_' + str(i))), mean)\n",
        "\n",
        "    x_mean = control.mean()\n",
        "    y_mean = treatment.mean()\n",
        "\n",
        "    len_x = len(control)\n",
        "    len_y = len(treatment)\n",
        "\n",
        "    x_s = np.sum(np.square(control - x_mean)) / (len_x - 1)     \n",
        "    y_s = np.sum(np.square(treatment - y_mean)) / (len_y - 1)\n",
        "\n",
        "    res.append(t_test(x_mean, y_mean, x_s, y_s, len_x, len_y))"
      ]
    },
    {
      "cell_type": "markdown",
      "id": "b16ade16",
      "metadata": {
        "id": "b16ade16"
      },
      "source": [
        "**Результаты**"
      ]
    },
    {
      "cell_type": "code",
      "execution_count": null,
      "id": "86975f46",
      "metadata": {
        "id": "86975f46",
        "outputId": "b03a56e8-565c-484d-a4d7-f39ed806195e"
      },
      "outputs": [
        {
          "name": "stdout",
          "output_type": "stream",
          "text": [
            "Без применения методов:\n",
            "0.6922472245236946\n",
            "0.40334947881906724\n",
            "0.23366578804173935\n",
            "0.12149349071629681\n",
            "0.05381517048510022\n",
            "\n",
            "Стратификация:\n",
            "2.01802350889877e-17\n",
            "5.326459247247116e-71\n",
            "6.657222182041148e-140\n",
            "4.204874279282738e-230\n",
            "0.0\n",
            "\n",
            "CUPED:\n",
            "0.9167916620924192\n",
            "0.9135115180850472\n",
            "0.9143849321382695\n",
            "0.9151536503443171\n",
            "0.9160924462625428\n"
          ]
        }
      ],
      "source": [
        "print(\"Без применения методов:\")\n",
        "for i in range(1, 6):\n",
        "    print(simple_t_test(get_group(data, 'control_after_' + str(i)), get_group(data, 'treatment_after_' + str(i))))\n",
        "    \n",
        "print(\"\\nСтратификация:\")\n",
        "for i in range(1, 6):\n",
        "    print(strat_t_test(data, str(i)))\n",
        "    \n",
        "print(\"\\nCUPED:\")\n",
        "for i in range(5):\n",
        "    print(res[i - 1])"
      ]
    },
    {
      "cell_type": "markdown",
      "id": "ceee44a0",
      "metadata": {
        "id": "ceee44a0"
      },
      "source": [
        "**Мои мысли 2**\n",
        "\n",
        "Результаты стратификации лучше, чем у CUPED"
      ]
    },
    {
      "cell_type": "code",
      "execution_count": null,
      "id": "53a96ca9",
      "metadata": {
        "id": "53a96ca9"
      },
      "outputs": [],
      "source": []
    }
  ],
  "metadata": {
    "colab": {
      "collapsed_sections": [],
      "name": "hw3_goloubitskaya.ipynb",
      "provenance": []
    },
    "kernelspec": {
      "display_name": "Python 3.9.1 64-bit",
      "language": "python",
      "name": "python3"
    },
    "language_info": {
      "codemirror_mode": {
        "name": "ipython",
        "version": 3
      },
      "file_extension": ".py",
      "mimetype": "text/x-python",
      "name": "python",
      "nbconvert_exporter": "python",
      "pygments_lexer": "ipython3",
      "version": "3.9.1"
    },
    "vscode": {
      "interpreter": {
        "hash": "aee8b7b246df8f9039afb4144a1f6fd8d2ca17a180786b69acc140d282b71a49"
      }
    },
    "widgets": {
      "application/vnd.jupyter.widget-state+json": {
        "0779d1f0de1a42cd82c0b7710cbe6b0c": {
          "model_module": "@jupyter-widgets/controls",
          "model_module_version": "1.5.0",
          "model_name": "HTMLModel",
          "state": {
            "_dom_classes": [],
            "_model_module": "@jupyter-widgets/controls",
            "_model_module_version": "1.5.0",
            "_model_name": "HTMLModel",
            "_view_count": null,
            "_view_module": "@jupyter-widgets/controls",
            "_view_module_version": "1.5.0",
            "_view_name": "HTMLView",
            "description": "",
            "description_tooltip": null,
            "layout": "IPY_MODEL_7b2e8bc1dc0f4556b7830e4bcb9d7172",
            "placeholder": "​",
            "style": "IPY_MODEL_1e6061323d6c48c490d299e99cfaf919",
            "value": " 10000/10000 [00:31&lt;00:00, 329.59it/s]"
          }
        },
        "147049d2109c4e12a328ba3698c67cf4": {
          "model_module": "@jupyter-widgets/controls",
          "model_module_version": "1.5.0",
          "model_name": "ProgressStyleModel",
          "state": {
            "_model_module": "@jupyter-widgets/controls",
            "_model_module_version": "1.5.0",
            "_model_name": "ProgressStyleModel",
            "_view_count": null,
            "_view_module": "@jupyter-widgets/base",
            "_view_module_version": "1.2.0",
            "_view_name": "StyleView",
            "bar_color": null,
            "description_width": ""
          }
        },
        "1dc92888770d44b89710e2edaf46c420": {
          "model_module": "@jupyter-widgets/base",
          "model_module_version": "1.2.0",
          "model_name": "LayoutModel",
          "state": {
            "_model_module": "@jupyter-widgets/base",
            "_model_module_version": "1.2.0",
            "_model_name": "LayoutModel",
            "_view_count": null,
            "_view_module": "@jupyter-widgets/base",
            "_view_module_version": "1.2.0",
            "_view_name": "LayoutView",
            "align_content": null,
            "align_items": null,
            "align_self": null,
            "border": null,
            "bottom": null,
            "display": null,
            "flex": null,
            "flex_flow": null,
            "grid_area": null,
            "grid_auto_columns": null,
            "grid_auto_flow": null,
            "grid_auto_rows": null,
            "grid_column": null,
            "grid_gap": null,
            "grid_row": null,
            "grid_template_areas": null,
            "grid_template_columns": null,
            "grid_template_rows": null,
            "height": null,
            "justify_content": null,
            "justify_items": null,
            "left": null,
            "margin": null,
            "max_height": null,
            "max_width": null,
            "min_height": null,
            "min_width": null,
            "object_fit": null,
            "object_position": null,
            "order": null,
            "overflow": null,
            "overflow_x": null,
            "overflow_y": null,
            "padding": null,
            "right": null,
            "top": null,
            "visibility": null,
            "width": null
          }
        },
        "1e6061323d6c48c490d299e99cfaf919": {
          "model_module": "@jupyter-widgets/controls",
          "model_module_version": "1.5.0",
          "model_name": "DescriptionStyleModel",
          "state": {
            "_model_module": "@jupyter-widgets/controls",
            "_model_module_version": "1.5.0",
            "_model_name": "DescriptionStyleModel",
            "_view_count": null,
            "_view_module": "@jupyter-widgets/base",
            "_view_module_version": "1.2.0",
            "_view_name": "StyleView",
            "description_width": ""
          }
        },
        "1f202fc953f247a4b6ae32685fb0df0e": {
          "model_module": "@jupyter-widgets/controls",
          "model_module_version": "1.5.0",
          "model_name": "FloatProgressModel",
          "state": {
            "_dom_classes": [],
            "_model_module": "@jupyter-widgets/controls",
            "_model_module_version": "1.5.0",
            "_model_name": "FloatProgressModel",
            "_view_count": null,
            "_view_module": "@jupyter-widgets/controls",
            "_view_module_version": "1.5.0",
            "_view_name": "ProgressView",
            "bar_style": "success",
            "description": "",
            "description_tooltip": null,
            "layout": "IPY_MODEL_8b6c32c636f645088f0c381157561a92",
            "max": 10000,
            "min": 0,
            "orientation": "horizontal",
            "style": "IPY_MODEL_147049d2109c4e12a328ba3698c67cf4",
            "value": 10000
          }
        },
        "2ca3917e36734014b099048e37b580df": {
          "model_module": "@jupyter-widgets/controls",
          "model_module_version": "1.5.0",
          "model_name": "DescriptionStyleModel",
          "state": {
            "_model_module": "@jupyter-widgets/controls",
            "_model_module_version": "1.5.0",
            "_model_name": "DescriptionStyleModel",
            "_view_count": null,
            "_view_module": "@jupyter-widgets/base",
            "_view_module_version": "1.2.0",
            "_view_name": "StyleView",
            "description_width": ""
          }
        },
        "3107f7584c1c44ddb2806cb27a529853": {
          "model_module": "@jupyter-widgets/controls",
          "model_module_version": "1.5.0",
          "model_name": "HTMLModel",
          "state": {
            "_dom_classes": [],
            "_model_module": "@jupyter-widgets/controls",
            "_model_module_version": "1.5.0",
            "_model_name": "HTMLModel",
            "_view_count": null,
            "_view_module": "@jupyter-widgets/controls",
            "_view_module_version": "1.5.0",
            "_view_name": "HTMLView",
            "description": "",
            "description_tooltip": null,
            "layout": "IPY_MODEL_72ddc0a110e648c3b2aefd16a8c4447f",
            "placeholder": "​",
            "style": "IPY_MODEL_9cb820d7606f419b8de5a98f6eaa789f",
            "value": "100%"
          }
        },
        "31f7cef7282a42249b23a5a1d35bb9e3": {
          "model_module": "@jupyter-widgets/controls",
          "model_module_version": "1.5.0",
          "model_name": "ProgressStyleModel",
          "state": {
            "_model_module": "@jupyter-widgets/controls",
            "_model_module_version": "1.5.0",
            "_model_name": "ProgressStyleModel",
            "_view_count": null,
            "_view_module": "@jupyter-widgets/base",
            "_view_module_version": "1.2.0",
            "_view_name": "StyleView",
            "bar_color": null,
            "description_width": ""
          }
        },
        "39ab63c35a07480c8677eea010a17735": {
          "model_module": "@jupyter-widgets/base",
          "model_module_version": "1.2.0",
          "model_name": "LayoutModel",
          "state": {
            "_model_module": "@jupyter-widgets/base",
            "_model_module_version": "1.2.0",
            "_model_name": "LayoutModel",
            "_view_count": null,
            "_view_module": "@jupyter-widgets/base",
            "_view_module_version": "1.2.0",
            "_view_name": "LayoutView",
            "align_content": null,
            "align_items": null,
            "align_self": null,
            "border": null,
            "bottom": null,
            "display": null,
            "flex": null,
            "flex_flow": null,
            "grid_area": null,
            "grid_auto_columns": null,
            "grid_auto_flow": null,
            "grid_auto_rows": null,
            "grid_column": null,
            "grid_gap": null,
            "grid_row": null,
            "grid_template_areas": null,
            "grid_template_columns": null,
            "grid_template_rows": null,
            "height": null,
            "justify_content": null,
            "justify_items": null,
            "left": null,
            "margin": null,
            "max_height": null,
            "max_width": null,
            "min_height": null,
            "min_width": null,
            "object_fit": null,
            "object_position": null,
            "order": null,
            "overflow": null,
            "overflow_x": null,
            "overflow_y": null,
            "padding": null,
            "right": null,
            "top": null,
            "visibility": null,
            "width": null
          }
        },
        "4137230a749c438f8172626b76890ffe": {
          "model_module": "@jupyter-widgets/controls",
          "model_module_version": "1.5.0",
          "model_name": "HTMLModel",
          "state": {
            "_dom_classes": [],
            "_model_module": "@jupyter-widgets/controls",
            "_model_module_version": "1.5.0",
            "_model_name": "HTMLModel",
            "_view_count": null,
            "_view_module": "@jupyter-widgets/controls",
            "_view_module_version": "1.5.0",
            "_view_name": "HTMLView",
            "description": "",
            "description_tooltip": null,
            "layout": "IPY_MODEL_1dc92888770d44b89710e2edaf46c420",
            "placeholder": "​",
            "style": "IPY_MODEL_d93240837fd244ebb3126f687df9d3bd",
            "value": " 10000/10000 [00:41&lt;00:00, 330.22it/s]"
          }
        },
        "541ff6785b83477592fdb095687a408d": {
          "model_module": "@jupyter-widgets/base",
          "model_module_version": "1.2.0",
          "model_name": "LayoutModel",
          "state": {
            "_model_module": "@jupyter-widgets/base",
            "_model_module_version": "1.2.0",
            "_model_name": "LayoutModel",
            "_view_count": null,
            "_view_module": "@jupyter-widgets/base",
            "_view_module_version": "1.2.0",
            "_view_name": "LayoutView",
            "align_content": null,
            "align_items": null,
            "align_self": null,
            "border": null,
            "bottom": null,
            "display": null,
            "flex": null,
            "flex_flow": null,
            "grid_area": null,
            "grid_auto_columns": null,
            "grid_auto_flow": null,
            "grid_auto_rows": null,
            "grid_column": null,
            "grid_gap": null,
            "grid_row": null,
            "grid_template_areas": null,
            "grid_template_columns": null,
            "grid_template_rows": null,
            "height": null,
            "justify_content": null,
            "justify_items": null,
            "left": null,
            "margin": null,
            "max_height": null,
            "max_width": null,
            "min_height": null,
            "min_width": null,
            "object_fit": null,
            "object_position": null,
            "order": null,
            "overflow": null,
            "overflow_x": null,
            "overflow_y": null,
            "padding": null,
            "right": null,
            "top": null,
            "visibility": null,
            "width": null
          }
        },
        "5c147a08a70544afacb7919b058687c3": {
          "model_module": "@jupyter-widgets/controls",
          "model_module_version": "1.5.0",
          "model_name": "HTMLModel",
          "state": {
            "_dom_classes": [],
            "_model_module": "@jupyter-widgets/controls",
            "_model_module_version": "1.5.0",
            "_model_name": "HTMLModel",
            "_view_count": null,
            "_view_module": "@jupyter-widgets/controls",
            "_view_module_version": "1.5.0",
            "_view_name": "HTMLView",
            "description": "",
            "description_tooltip": null,
            "layout": "IPY_MODEL_672bd1e4ccdb4f19af24a128a4a78776",
            "placeholder": "​",
            "style": "IPY_MODEL_668abab709a04ee6ae4b9304ce8cf367",
            "value": "100%"
          }
        },
        "64b3ccd4c59740668a9efdf7daf14bef": {
          "model_module": "@jupyter-widgets/controls",
          "model_module_version": "1.5.0",
          "model_name": "FloatProgressModel",
          "state": {
            "_dom_classes": [],
            "_model_module": "@jupyter-widgets/controls",
            "_model_module_version": "1.5.0",
            "_model_name": "FloatProgressModel",
            "_view_count": null,
            "_view_module": "@jupyter-widgets/controls",
            "_view_module_version": "1.5.0",
            "_view_name": "ProgressView",
            "bar_style": "success",
            "description": "",
            "description_tooltip": null,
            "layout": "IPY_MODEL_6d5723c3c9204828826aa9a8940aa3b9",
            "max": 10000,
            "min": 0,
            "orientation": "horizontal",
            "style": "IPY_MODEL_31f7cef7282a42249b23a5a1d35bb9e3",
            "value": 10000
          }
        },
        "668abab709a04ee6ae4b9304ce8cf367": {
          "model_module": "@jupyter-widgets/controls",
          "model_module_version": "1.5.0",
          "model_name": "DescriptionStyleModel",
          "state": {
            "_model_module": "@jupyter-widgets/controls",
            "_model_module_version": "1.5.0",
            "_model_name": "DescriptionStyleModel",
            "_view_count": null,
            "_view_module": "@jupyter-widgets/base",
            "_view_module_version": "1.2.0",
            "_view_name": "StyleView",
            "description_width": ""
          }
        },
        "672bd1e4ccdb4f19af24a128a4a78776": {
          "model_module": "@jupyter-widgets/base",
          "model_module_version": "1.2.0",
          "model_name": "LayoutModel",
          "state": {
            "_model_module": "@jupyter-widgets/base",
            "_model_module_version": "1.2.0",
            "_model_name": "LayoutModel",
            "_view_count": null,
            "_view_module": "@jupyter-widgets/base",
            "_view_module_version": "1.2.0",
            "_view_name": "LayoutView",
            "align_content": null,
            "align_items": null,
            "align_self": null,
            "border": null,
            "bottom": null,
            "display": null,
            "flex": null,
            "flex_flow": null,
            "grid_area": null,
            "grid_auto_columns": null,
            "grid_auto_flow": null,
            "grid_auto_rows": null,
            "grid_column": null,
            "grid_gap": null,
            "grid_row": null,
            "grid_template_areas": null,
            "grid_template_columns": null,
            "grid_template_rows": null,
            "height": null,
            "justify_content": null,
            "justify_items": null,
            "left": null,
            "margin": null,
            "max_height": null,
            "max_width": null,
            "min_height": null,
            "min_width": null,
            "object_fit": null,
            "object_position": null,
            "order": null,
            "overflow": null,
            "overflow_x": null,
            "overflow_y": null,
            "padding": null,
            "right": null,
            "top": null,
            "visibility": null,
            "width": null
          }
        },
        "6d5723c3c9204828826aa9a8940aa3b9": {
          "model_module": "@jupyter-widgets/base",
          "model_module_version": "1.2.0",
          "model_name": "LayoutModel",
          "state": {
            "_model_module": "@jupyter-widgets/base",
            "_model_module_version": "1.2.0",
            "_model_name": "LayoutModel",
            "_view_count": null,
            "_view_module": "@jupyter-widgets/base",
            "_view_module_version": "1.2.0",
            "_view_name": "LayoutView",
            "align_content": null,
            "align_items": null,
            "align_self": null,
            "border": null,
            "bottom": null,
            "display": null,
            "flex": null,
            "flex_flow": null,
            "grid_area": null,
            "grid_auto_columns": null,
            "grid_auto_flow": null,
            "grid_auto_rows": null,
            "grid_column": null,
            "grid_gap": null,
            "grid_row": null,
            "grid_template_areas": null,
            "grid_template_columns": null,
            "grid_template_rows": null,
            "height": null,
            "justify_content": null,
            "justify_items": null,
            "left": null,
            "margin": null,
            "max_height": null,
            "max_width": null,
            "min_height": null,
            "min_width": null,
            "object_fit": null,
            "object_position": null,
            "order": null,
            "overflow": null,
            "overflow_x": null,
            "overflow_y": null,
            "padding": null,
            "right": null,
            "top": null,
            "visibility": null,
            "width": null
          }
        },
        "6e4ab2645c5447528edd241bed68cada": {
          "model_module": "@jupyter-widgets/controls",
          "model_module_version": "1.5.0",
          "model_name": "ProgressStyleModel",
          "state": {
            "_model_module": "@jupyter-widgets/controls",
            "_model_module_version": "1.5.0",
            "_model_name": "ProgressStyleModel",
            "_view_count": null,
            "_view_module": "@jupyter-widgets/base",
            "_view_module_version": "1.2.0",
            "_view_name": "StyleView",
            "bar_color": null,
            "description_width": ""
          }
        },
        "713a30d4fea74a9f9f859194756d3767": {
          "model_module": "@jupyter-widgets/controls",
          "model_module_version": "1.5.0",
          "model_name": "HTMLModel",
          "state": {
            "_dom_classes": [],
            "_model_module": "@jupyter-widgets/controls",
            "_model_module_version": "1.5.0",
            "_model_name": "HTMLModel",
            "_view_count": null,
            "_view_module": "@jupyter-widgets/controls",
            "_view_module_version": "1.5.0",
            "_view_name": "HTMLView",
            "description": "",
            "description_tooltip": null,
            "layout": "IPY_MODEL_9ccc08466ba24f168366d8f647528e78",
            "placeholder": "​",
            "style": "IPY_MODEL_bbf2cf6a25ef4b948c0d5118139cd2cd",
            "value": "100%"
          }
        },
        "72ddc0a110e648c3b2aefd16a8c4447f": {
          "model_module": "@jupyter-widgets/base",
          "model_module_version": "1.2.0",
          "model_name": "LayoutModel",
          "state": {
            "_model_module": "@jupyter-widgets/base",
            "_model_module_version": "1.2.0",
            "_model_name": "LayoutModel",
            "_view_count": null,
            "_view_module": "@jupyter-widgets/base",
            "_view_module_version": "1.2.0",
            "_view_name": "LayoutView",
            "align_content": null,
            "align_items": null,
            "align_self": null,
            "border": null,
            "bottom": null,
            "display": null,
            "flex": null,
            "flex_flow": null,
            "grid_area": null,
            "grid_auto_columns": null,
            "grid_auto_flow": null,
            "grid_auto_rows": null,
            "grid_column": null,
            "grid_gap": null,
            "grid_row": null,
            "grid_template_areas": null,
            "grid_template_columns": null,
            "grid_template_rows": null,
            "height": null,
            "justify_content": null,
            "justify_items": null,
            "left": null,
            "margin": null,
            "max_height": null,
            "max_width": null,
            "min_height": null,
            "min_width": null,
            "object_fit": null,
            "object_position": null,
            "order": null,
            "overflow": null,
            "overflow_x": null,
            "overflow_y": null,
            "padding": null,
            "right": null,
            "top": null,
            "visibility": null,
            "width": null
          }
        },
        "7737d6e5f8764fbb846fb9b306227918": {
          "model_module": "@jupyter-widgets/base",
          "model_module_version": "1.2.0",
          "model_name": "LayoutModel",
          "state": {
            "_model_module": "@jupyter-widgets/base",
            "_model_module_version": "1.2.0",
            "_model_name": "LayoutModel",
            "_view_count": null,
            "_view_module": "@jupyter-widgets/base",
            "_view_module_version": "1.2.0",
            "_view_name": "LayoutView",
            "align_content": null,
            "align_items": null,
            "align_self": null,
            "border": null,
            "bottom": null,
            "display": null,
            "flex": null,
            "flex_flow": null,
            "grid_area": null,
            "grid_auto_columns": null,
            "grid_auto_flow": null,
            "grid_auto_rows": null,
            "grid_column": null,
            "grid_gap": null,
            "grid_row": null,
            "grid_template_areas": null,
            "grid_template_columns": null,
            "grid_template_rows": null,
            "height": null,
            "justify_content": null,
            "justify_items": null,
            "left": null,
            "margin": null,
            "max_height": null,
            "max_width": null,
            "min_height": null,
            "min_width": null,
            "object_fit": null,
            "object_position": null,
            "order": null,
            "overflow": null,
            "overflow_x": null,
            "overflow_y": null,
            "padding": null,
            "right": null,
            "top": null,
            "visibility": null,
            "width": null
          }
        },
        "7b2e8bc1dc0f4556b7830e4bcb9d7172": {
          "model_module": "@jupyter-widgets/base",
          "model_module_version": "1.2.0",
          "model_name": "LayoutModel",
          "state": {
            "_model_module": "@jupyter-widgets/base",
            "_model_module_version": "1.2.0",
            "_model_name": "LayoutModel",
            "_view_count": null,
            "_view_module": "@jupyter-widgets/base",
            "_view_module_version": "1.2.0",
            "_view_name": "LayoutView",
            "align_content": null,
            "align_items": null,
            "align_self": null,
            "border": null,
            "bottom": null,
            "display": null,
            "flex": null,
            "flex_flow": null,
            "grid_area": null,
            "grid_auto_columns": null,
            "grid_auto_flow": null,
            "grid_auto_rows": null,
            "grid_column": null,
            "grid_gap": null,
            "grid_row": null,
            "grid_template_areas": null,
            "grid_template_columns": null,
            "grid_template_rows": null,
            "height": null,
            "justify_content": null,
            "justify_items": null,
            "left": null,
            "margin": null,
            "max_height": null,
            "max_width": null,
            "min_height": null,
            "min_width": null,
            "object_fit": null,
            "object_position": null,
            "order": null,
            "overflow": null,
            "overflow_x": null,
            "overflow_y": null,
            "padding": null,
            "right": null,
            "top": null,
            "visibility": null,
            "width": null
          }
        },
        "85215a6b97334f08b4af0ba5ed638078": {
          "model_module": "@jupyter-widgets/base",
          "model_module_version": "1.2.0",
          "model_name": "LayoutModel",
          "state": {
            "_model_module": "@jupyter-widgets/base",
            "_model_module_version": "1.2.0",
            "_model_name": "LayoutModel",
            "_view_count": null,
            "_view_module": "@jupyter-widgets/base",
            "_view_module_version": "1.2.0",
            "_view_name": "LayoutView",
            "align_content": null,
            "align_items": null,
            "align_self": null,
            "border": null,
            "bottom": null,
            "display": null,
            "flex": null,
            "flex_flow": null,
            "grid_area": null,
            "grid_auto_columns": null,
            "grid_auto_flow": null,
            "grid_auto_rows": null,
            "grid_column": null,
            "grid_gap": null,
            "grid_row": null,
            "grid_template_areas": null,
            "grid_template_columns": null,
            "grid_template_rows": null,
            "height": null,
            "justify_content": null,
            "justify_items": null,
            "left": null,
            "margin": null,
            "max_height": null,
            "max_width": null,
            "min_height": null,
            "min_width": null,
            "object_fit": null,
            "object_position": null,
            "order": null,
            "overflow": null,
            "overflow_x": null,
            "overflow_y": null,
            "padding": null,
            "right": null,
            "top": null,
            "visibility": null,
            "width": null
          }
        },
        "87a54602b5bc48b7bd33b1ec8b8bc7fb": {
          "model_module": "@jupyter-widgets/controls",
          "model_module_version": "1.5.0",
          "model_name": "FloatProgressModel",
          "state": {
            "_dom_classes": [],
            "_model_module": "@jupyter-widgets/controls",
            "_model_module_version": "1.5.0",
            "_model_name": "FloatProgressModel",
            "_view_count": null,
            "_view_module": "@jupyter-widgets/controls",
            "_view_module_version": "1.5.0",
            "_view_name": "ProgressView",
            "bar_style": "success",
            "description": "",
            "description_tooltip": null,
            "layout": "IPY_MODEL_7737d6e5f8764fbb846fb9b306227918",
            "max": 10000,
            "min": 0,
            "orientation": "horizontal",
            "style": "IPY_MODEL_6e4ab2645c5447528edd241bed68cada",
            "value": 10000
          }
        },
        "8895f8e5b7054e4f944aaea3c6a8032b": {
          "model_module": "@jupyter-widgets/controls",
          "model_module_version": "1.5.0",
          "model_name": "HTMLModel",
          "state": {
            "_dom_classes": [],
            "_model_module": "@jupyter-widgets/controls",
            "_model_module_version": "1.5.0",
            "_model_name": "HTMLModel",
            "_view_count": null,
            "_view_module": "@jupyter-widgets/controls",
            "_view_module_version": "1.5.0",
            "_view_name": "HTMLView",
            "description": "",
            "description_tooltip": null,
            "layout": "IPY_MODEL_85215a6b97334f08b4af0ba5ed638078",
            "placeholder": "​",
            "style": "IPY_MODEL_ca8a6a1694c94625aaae73a70263d391",
            "value": " 10000/10000 [02:18&lt;00:00, 76.61it/s]"
          }
        },
        "894face8fb7e448cb076fe00e150e5d4": {
          "model_module": "@jupyter-widgets/base",
          "model_module_version": "1.2.0",
          "model_name": "LayoutModel",
          "state": {
            "_model_module": "@jupyter-widgets/base",
            "_model_module_version": "1.2.0",
            "_model_name": "LayoutModel",
            "_view_count": null,
            "_view_module": "@jupyter-widgets/base",
            "_view_module_version": "1.2.0",
            "_view_name": "LayoutView",
            "align_content": null,
            "align_items": null,
            "align_self": null,
            "border": null,
            "bottom": null,
            "display": null,
            "flex": null,
            "flex_flow": null,
            "grid_area": null,
            "grid_auto_columns": null,
            "grid_auto_flow": null,
            "grid_auto_rows": null,
            "grid_column": null,
            "grid_gap": null,
            "grid_row": null,
            "grid_template_areas": null,
            "grid_template_columns": null,
            "grid_template_rows": null,
            "height": null,
            "justify_content": null,
            "justify_items": null,
            "left": null,
            "margin": null,
            "max_height": null,
            "max_width": null,
            "min_height": null,
            "min_width": null,
            "object_fit": null,
            "object_position": null,
            "order": null,
            "overflow": null,
            "overflow_x": null,
            "overflow_y": null,
            "padding": null,
            "right": null,
            "top": null,
            "visibility": null,
            "width": null
          }
        },
        "8adf3e3e38c34aba9f2c681497b0d4e8": {
          "model_module": "@jupyter-widgets/base",
          "model_module_version": "1.2.0",
          "model_name": "LayoutModel",
          "state": {
            "_model_module": "@jupyter-widgets/base",
            "_model_module_version": "1.2.0",
            "_model_name": "LayoutModel",
            "_view_count": null,
            "_view_module": "@jupyter-widgets/base",
            "_view_module_version": "1.2.0",
            "_view_name": "LayoutView",
            "align_content": null,
            "align_items": null,
            "align_self": null,
            "border": null,
            "bottom": null,
            "display": null,
            "flex": null,
            "flex_flow": null,
            "grid_area": null,
            "grid_auto_columns": null,
            "grid_auto_flow": null,
            "grid_auto_rows": null,
            "grid_column": null,
            "grid_gap": null,
            "grid_row": null,
            "grid_template_areas": null,
            "grid_template_columns": null,
            "grid_template_rows": null,
            "height": null,
            "justify_content": null,
            "justify_items": null,
            "left": null,
            "margin": null,
            "max_height": null,
            "max_width": null,
            "min_height": null,
            "min_width": null,
            "object_fit": null,
            "object_position": null,
            "order": null,
            "overflow": null,
            "overflow_x": null,
            "overflow_y": null,
            "padding": null,
            "right": null,
            "top": null,
            "visibility": null,
            "width": null
          }
        },
        "8b6c32c636f645088f0c381157561a92": {
          "model_module": "@jupyter-widgets/base",
          "model_module_version": "1.2.0",
          "model_name": "LayoutModel",
          "state": {
            "_model_module": "@jupyter-widgets/base",
            "_model_module_version": "1.2.0",
            "_model_name": "LayoutModel",
            "_view_count": null,
            "_view_module": "@jupyter-widgets/base",
            "_view_module_version": "1.2.0",
            "_view_name": "LayoutView",
            "align_content": null,
            "align_items": null,
            "align_self": null,
            "border": null,
            "bottom": null,
            "display": null,
            "flex": null,
            "flex_flow": null,
            "grid_area": null,
            "grid_auto_columns": null,
            "grid_auto_flow": null,
            "grid_auto_rows": null,
            "grid_column": null,
            "grid_gap": null,
            "grid_row": null,
            "grid_template_areas": null,
            "grid_template_columns": null,
            "grid_template_rows": null,
            "height": null,
            "justify_content": null,
            "justify_items": null,
            "left": null,
            "margin": null,
            "max_height": null,
            "max_width": null,
            "min_height": null,
            "min_width": null,
            "object_fit": null,
            "object_position": null,
            "order": null,
            "overflow": null,
            "overflow_x": null,
            "overflow_y": null,
            "padding": null,
            "right": null,
            "top": null,
            "visibility": null,
            "width": null
          }
        },
        "8ebd60696ef04d00ac493508a31c3fe0": {
          "model_module": "@jupyter-widgets/controls",
          "model_module_version": "1.5.0",
          "model_name": "FloatProgressModel",
          "state": {
            "_dom_classes": [],
            "_model_module": "@jupyter-widgets/controls",
            "_model_module_version": "1.5.0",
            "_model_name": "FloatProgressModel",
            "_view_count": null,
            "_view_module": "@jupyter-widgets/controls",
            "_view_module_version": "1.5.0",
            "_view_name": "ProgressView",
            "bar_style": "success",
            "description": "",
            "description_tooltip": null,
            "layout": "IPY_MODEL_c2b36519c3194add8c8012292ebe39e1",
            "max": 10000,
            "min": 0,
            "orientation": "horizontal",
            "style": "IPY_MODEL_ed3b20e6cae34758b6cbfd7522993d09",
            "value": 10000
          }
        },
        "9272e118ba454af092c76413ebd5e628": {
          "model_module": "@jupyter-widgets/controls",
          "model_module_version": "1.5.0",
          "model_name": "HBoxModel",
          "state": {
            "_dom_classes": [],
            "_model_module": "@jupyter-widgets/controls",
            "_model_module_version": "1.5.0",
            "_model_name": "HBoxModel",
            "_view_count": null,
            "_view_module": "@jupyter-widgets/controls",
            "_view_module_version": "1.5.0",
            "_view_name": "HBoxView",
            "box_style": "",
            "children": [
              "IPY_MODEL_b788eb7ade344902bd7429a55fb2afa1",
              "IPY_MODEL_8ebd60696ef04d00ac493508a31c3fe0",
              "IPY_MODEL_8895f8e5b7054e4f944aaea3c6a8032b"
            ],
            "layout": "IPY_MODEL_98d49db293dd4bb8822a754eb1eb6847"
          }
        },
        "98d49db293dd4bb8822a754eb1eb6847": {
          "model_module": "@jupyter-widgets/base",
          "model_module_version": "1.2.0",
          "model_name": "LayoutModel",
          "state": {
            "_model_module": "@jupyter-widgets/base",
            "_model_module_version": "1.2.0",
            "_model_name": "LayoutModel",
            "_view_count": null,
            "_view_module": "@jupyter-widgets/base",
            "_view_module_version": "1.2.0",
            "_view_name": "LayoutView",
            "align_content": null,
            "align_items": null,
            "align_self": null,
            "border": null,
            "bottom": null,
            "display": null,
            "flex": null,
            "flex_flow": null,
            "grid_area": null,
            "grid_auto_columns": null,
            "grid_auto_flow": null,
            "grid_auto_rows": null,
            "grid_column": null,
            "grid_gap": null,
            "grid_row": null,
            "grid_template_areas": null,
            "grid_template_columns": null,
            "grid_template_rows": null,
            "height": null,
            "justify_content": null,
            "justify_items": null,
            "left": null,
            "margin": null,
            "max_height": null,
            "max_width": null,
            "min_height": null,
            "min_width": null,
            "object_fit": null,
            "object_position": null,
            "order": null,
            "overflow": null,
            "overflow_x": null,
            "overflow_y": null,
            "padding": null,
            "right": null,
            "top": null,
            "visibility": null,
            "width": null
          }
        },
        "9b4e6833ad204c7a950a2d47dab3a9e8": {
          "model_module": "@jupyter-widgets/controls",
          "model_module_version": "1.5.0",
          "model_name": "DescriptionStyleModel",
          "state": {
            "_model_module": "@jupyter-widgets/controls",
            "_model_module_version": "1.5.0",
            "_model_name": "DescriptionStyleModel",
            "_view_count": null,
            "_view_module": "@jupyter-widgets/base",
            "_view_module_version": "1.2.0",
            "_view_name": "StyleView",
            "description_width": ""
          }
        },
        "9cb820d7606f419b8de5a98f6eaa789f": {
          "model_module": "@jupyter-widgets/controls",
          "model_module_version": "1.5.0",
          "model_name": "DescriptionStyleModel",
          "state": {
            "_model_module": "@jupyter-widgets/controls",
            "_model_module_version": "1.5.0",
            "_model_name": "DescriptionStyleModel",
            "_view_count": null,
            "_view_module": "@jupyter-widgets/base",
            "_view_module_version": "1.2.0",
            "_view_name": "StyleView",
            "description_width": ""
          }
        },
        "9ccc08466ba24f168366d8f647528e78": {
          "model_module": "@jupyter-widgets/base",
          "model_module_version": "1.2.0",
          "model_name": "LayoutModel",
          "state": {
            "_model_module": "@jupyter-widgets/base",
            "_model_module_version": "1.2.0",
            "_model_name": "LayoutModel",
            "_view_count": null,
            "_view_module": "@jupyter-widgets/base",
            "_view_module_version": "1.2.0",
            "_view_name": "LayoutView",
            "align_content": null,
            "align_items": null,
            "align_self": null,
            "border": null,
            "bottom": null,
            "display": null,
            "flex": null,
            "flex_flow": null,
            "grid_area": null,
            "grid_auto_columns": null,
            "grid_auto_flow": null,
            "grid_auto_rows": null,
            "grid_column": null,
            "grid_gap": null,
            "grid_row": null,
            "grid_template_areas": null,
            "grid_template_columns": null,
            "grid_template_rows": null,
            "height": null,
            "justify_content": null,
            "justify_items": null,
            "left": null,
            "margin": null,
            "max_height": null,
            "max_width": null,
            "min_height": null,
            "min_width": null,
            "object_fit": null,
            "object_position": null,
            "order": null,
            "overflow": null,
            "overflow_x": null,
            "overflow_y": null,
            "padding": null,
            "right": null,
            "top": null,
            "visibility": null,
            "width": null
          }
        },
        "ac490ddf747d4f50802bf159fb8e5c39": {
          "model_module": "@jupyter-widgets/controls",
          "model_module_version": "1.5.0",
          "model_name": "HTMLModel",
          "state": {
            "_dom_classes": [],
            "_model_module": "@jupyter-widgets/controls",
            "_model_module_version": "1.5.0",
            "_model_name": "HTMLModel",
            "_view_count": null,
            "_view_module": "@jupyter-widgets/controls",
            "_view_module_version": "1.5.0",
            "_view_name": "HTMLView",
            "description": "",
            "description_tooltip": null,
            "layout": "IPY_MODEL_894face8fb7e448cb076fe00e150e5d4",
            "placeholder": "​",
            "style": "IPY_MODEL_9b4e6833ad204c7a950a2d47dab3a9e8",
            "value": " 10000/10000 [02:46&lt;00:00, 74.36it/s]"
          }
        },
        "accf5b57db40459784aeef5e598210e9": {
          "model_module": "@jupyter-widgets/base",
          "model_module_version": "1.2.0",
          "model_name": "LayoutModel",
          "state": {
            "_model_module": "@jupyter-widgets/base",
            "_model_module_version": "1.2.0",
            "_model_name": "LayoutModel",
            "_view_count": null,
            "_view_module": "@jupyter-widgets/base",
            "_view_module_version": "1.2.0",
            "_view_name": "LayoutView",
            "align_content": null,
            "align_items": null,
            "align_self": null,
            "border": null,
            "bottom": null,
            "display": null,
            "flex": null,
            "flex_flow": null,
            "grid_area": null,
            "grid_auto_columns": null,
            "grid_auto_flow": null,
            "grid_auto_rows": null,
            "grid_column": null,
            "grid_gap": null,
            "grid_row": null,
            "grid_template_areas": null,
            "grid_template_columns": null,
            "grid_template_rows": null,
            "height": null,
            "justify_content": null,
            "justify_items": null,
            "left": null,
            "margin": null,
            "max_height": null,
            "max_width": null,
            "min_height": null,
            "min_width": null,
            "object_fit": null,
            "object_position": null,
            "order": null,
            "overflow": null,
            "overflow_x": null,
            "overflow_y": null,
            "padding": null,
            "right": null,
            "top": null,
            "visibility": null,
            "width": null
          }
        },
        "b788eb7ade344902bd7429a55fb2afa1": {
          "model_module": "@jupyter-widgets/controls",
          "model_module_version": "1.5.0",
          "model_name": "HTMLModel",
          "state": {
            "_dom_classes": [],
            "_model_module": "@jupyter-widgets/controls",
            "_model_module_version": "1.5.0",
            "_model_name": "HTMLModel",
            "_view_count": null,
            "_view_module": "@jupyter-widgets/controls",
            "_view_module_version": "1.5.0",
            "_view_name": "HTMLView",
            "description": "",
            "description_tooltip": null,
            "layout": "IPY_MODEL_541ff6785b83477592fdb095687a408d",
            "placeholder": "​",
            "style": "IPY_MODEL_2ca3917e36734014b099048e37b580df",
            "value": "100%"
          }
        },
        "bbf2cf6a25ef4b948c0d5118139cd2cd": {
          "model_module": "@jupyter-widgets/controls",
          "model_module_version": "1.5.0",
          "model_name": "DescriptionStyleModel",
          "state": {
            "_model_module": "@jupyter-widgets/controls",
            "_model_module_version": "1.5.0",
            "_model_name": "DescriptionStyleModel",
            "_view_count": null,
            "_view_module": "@jupyter-widgets/base",
            "_view_module_version": "1.2.0",
            "_view_name": "StyleView",
            "description_width": ""
          }
        },
        "bd9f6108cb6045e1b1f24c31e41ca1ab": {
          "model_module": "@jupyter-widgets/controls",
          "model_module_version": "1.5.0",
          "model_name": "HBoxModel",
          "state": {
            "_dom_classes": [],
            "_model_module": "@jupyter-widgets/controls",
            "_model_module_version": "1.5.0",
            "_model_name": "HBoxModel",
            "_view_count": null,
            "_view_module": "@jupyter-widgets/controls",
            "_view_module_version": "1.5.0",
            "_view_name": "HBoxView",
            "box_style": "",
            "children": [
              "IPY_MODEL_5c147a08a70544afacb7919b058687c3",
              "IPY_MODEL_1f202fc953f247a4b6ae32685fb0df0e",
              "IPY_MODEL_ac490ddf747d4f50802bf159fb8e5c39"
            ],
            "layout": "IPY_MODEL_39ab63c35a07480c8677eea010a17735"
          }
        },
        "c2b36519c3194add8c8012292ebe39e1": {
          "model_module": "@jupyter-widgets/base",
          "model_module_version": "1.2.0",
          "model_name": "LayoutModel",
          "state": {
            "_model_module": "@jupyter-widgets/base",
            "_model_module_version": "1.2.0",
            "_model_name": "LayoutModel",
            "_view_count": null,
            "_view_module": "@jupyter-widgets/base",
            "_view_module_version": "1.2.0",
            "_view_name": "LayoutView",
            "align_content": null,
            "align_items": null,
            "align_self": null,
            "border": null,
            "bottom": null,
            "display": null,
            "flex": null,
            "flex_flow": null,
            "grid_area": null,
            "grid_auto_columns": null,
            "grid_auto_flow": null,
            "grid_auto_rows": null,
            "grid_column": null,
            "grid_gap": null,
            "grid_row": null,
            "grid_template_areas": null,
            "grid_template_columns": null,
            "grid_template_rows": null,
            "height": null,
            "justify_content": null,
            "justify_items": null,
            "left": null,
            "margin": null,
            "max_height": null,
            "max_width": null,
            "min_height": null,
            "min_width": null,
            "object_fit": null,
            "object_position": null,
            "order": null,
            "overflow": null,
            "overflow_x": null,
            "overflow_y": null,
            "padding": null,
            "right": null,
            "top": null,
            "visibility": null,
            "width": null
          }
        },
        "ca8a6a1694c94625aaae73a70263d391": {
          "model_module": "@jupyter-widgets/controls",
          "model_module_version": "1.5.0",
          "model_name": "DescriptionStyleModel",
          "state": {
            "_model_module": "@jupyter-widgets/controls",
            "_model_module_version": "1.5.0",
            "_model_name": "DescriptionStyleModel",
            "_view_count": null,
            "_view_module": "@jupyter-widgets/base",
            "_view_module_version": "1.2.0",
            "_view_name": "StyleView",
            "description_width": ""
          }
        },
        "d93240837fd244ebb3126f687df9d3bd": {
          "model_module": "@jupyter-widgets/controls",
          "model_module_version": "1.5.0",
          "model_name": "DescriptionStyleModel",
          "state": {
            "_model_module": "@jupyter-widgets/controls",
            "_model_module_version": "1.5.0",
            "_model_name": "DescriptionStyleModel",
            "_view_count": null,
            "_view_module": "@jupyter-widgets/base",
            "_view_module_version": "1.2.0",
            "_view_name": "StyleView",
            "description_width": ""
          }
        },
        "df0c50b610b54da08e8898a96b9be08b": {
          "model_module": "@jupyter-widgets/controls",
          "model_module_version": "1.5.0",
          "model_name": "HBoxModel",
          "state": {
            "_dom_classes": [],
            "_model_module": "@jupyter-widgets/controls",
            "_model_module_version": "1.5.0",
            "_model_name": "HBoxModel",
            "_view_count": null,
            "_view_module": "@jupyter-widgets/controls",
            "_view_module_version": "1.5.0",
            "_view_name": "HBoxView",
            "box_style": "",
            "children": [
              "IPY_MODEL_713a30d4fea74a9f9f859194756d3767",
              "IPY_MODEL_64b3ccd4c59740668a9efdf7daf14bef",
              "IPY_MODEL_0779d1f0de1a42cd82c0b7710cbe6b0c"
            ],
            "layout": "IPY_MODEL_8adf3e3e38c34aba9f2c681497b0d4e8"
          }
        },
        "e0b6294a9a7a454584d78995aae700d7": {
          "model_module": "@jupyter-widgets/controls",
          "model_module_version": "1.5.0",
          "model_name": "HBoxModel",
          "state": {
            "_dom_classes": [],
            "_model_module": "@jupyter-widgets/controls",
            "_model_module_version": "1.5.0",
            "_model_name": "HBoxModel",
            "_view_count": null,
            "_view_module": "@jupyter-widgets/controls",
            "_view_module_version": "1.5.0",
            "_view_name": "HBoxView",
            "box_style": "",
            "children": [
              "IPY_MODEL_3107f7584c1c44ddb2806cb27a529853",
              "IPY_MODEL_87a54602b5bc48b7bd33b1ec8b8bc7fb",
              "IPY_MODEL_4137230a749c438f8172626b76890ffe"
            ],
            "layout": "IPY_MODEL_accf5b57db40459784aeef5e598210e9"
          }
        },
        "ed3b20e6cae34758b6cbfd7522993d09": {
          "model_module": "@jupyter-widgets/controls",
          "model_module_version": "1.5.0",
          "model_name": "ProgressStyleModel",
          "state": {
            "_model_module": "@jupyter-widgets/controls",
            "_model_module_version": "1.5.0",
            "_model_name": "ProgressStyleModel",
            "_view_count": null,
            "_view_module": "@jupyter-widgets/base",
            "_view_module_version": "1.2.0",
            "_view_name": "StyleView",
            "bar_color": null,
            "description_width": ""
          }
        }
      }
    }
  },
  "nbformat": 4,
  "nbformat_minor": 5
}
